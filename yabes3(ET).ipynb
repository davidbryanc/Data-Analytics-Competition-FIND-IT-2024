{
 "cells": [
  {
   "cell_type": "code",
   "execution_count": 103,
   "metadata": {},
   "outputs": [],
   "source": [
    "import numpy as np\n",
    "import pandas as pd\n",
    "\n",
    "# Untuk visualisasi\n",
    "import matplotlib.pyplot as plt\n",
    "import seaborn as sns\n",
    "\n",
    "# Untuk mengevaluasi performa model\n",
    "from sklearn.metrics import f1_score, confusion_matrix\n",
    "\n",
    "# Untuk melakukan ekstraksi data pada suatu kolom\n",
    "import re \n",
    "\n",
    "# Membagi dataset menjadi train dan test set\n",
    "from sklearn.model_selection import train_test_split\n",
    "\n",
    "import time\n",
    "import warnings\n",
    "warnings.filterwarnings('ignore')\n",
    "\n",
    "# Set rows ke 100 agar dapat melihat data lebih banyak\n",
    "pd.set_option('display.max_rows', 100)"
   ]
  },
  {
   "cell_type": "code",
   "execution_count": 104,
   "metadata": {},
   "outputs": [],
   "source": [
    "import pandas as pd; pd.set_option('display.max_columns', 100)\n",
    "import numpy as np\n",
    "\n",
    "import warnings\n",
    "warnings.filterwarnings('ignore')\n",
    "\n",
    "from tqdm.notebook import tqdm\n",
    "\n",
    "import re\n",
    "\n",
    "from functools import partial\n",
    "from scipy.stats import mode\n",
    "\n",
    "import matplotlib.pyplot as plt; plt.style.use('ggplot')\n",
    "import seaborn as sns\n",
    "import plotly.express as px\n",
    "\n",
    "from sklearn.tree import DecisionTreeClassifier, plot_tree\n",
    "from sklearn.preprocessing import MinMaxScaler, StandardScaler, LabelEncoder, FunctionTransformer, PowerTransformer, PolynomialFeatures\n",
    "from sklearn.pipeline import make_pipeline, Pipeline\n",
    "from sklearn.decomposition import PCA\n",
    "from sklearn.cluster import KMeans\n",
    "from sklearn.compose import ColumnTransformer, make_column_transformer\n",
    "from sklearn.impute import KNNImputer\n",
    "from sklearn.multiclass import OneVsRestClassifier\n",
    "from sklearn.model_selection import KFold, StratifiedKFold, train_test_split, GridSearchCV, RepeatedStratifiedKFold, cross_val_score, cross_val_predict, cross_validate\n",
    "from sklearn.metrics import roc_auc_score, roc_curve, RocCurveDisplay, cohen_kappa_score, log_loss, f1_score, accuracy_score\n",
    "from sklearn.discriminant_analysis import LinearDiscriminantAnalysis, QuadraticDiscriminantAnalysis\n",
    "from sklearn.neighbors import KNeighborsClassifier\n",
    "from sklearn.feature_selection import RFE, RFECV\n",
    "from sklearn.isotonic import IsotonicRegression\n",
    "from sklearn.calibration import CalibrationDisplay, CalibratedClassifierCV\n",
    "from sklearn.inspection import PartialDependenceDisplay, permutation_importance\n",
    "from sklearn.linear_model import LogisticRegression, RidgeClassifier\n",
    "from collections import Counter\n",
    "from sklearn.ensemble import AdaBoostClassifier, RandomForestClassifier, HistGradientBoostingClassifier, GradientBoostingClassifier, ExtraTreesClassifier, VotingClassifier, StackingClassifier\n",
    "from sklearn.svm import SVC\n",
    "from lightgbm import LGBMClassifier\n",
    "from xgboost import XGBClassifier\n",
    "from catboost import CatBoostClassifier, Pool\n",
    "\n",
    "import optuna\n",
    "from optuna.samplers import TPESampler\n",
    "from optuna.study import Study"
   ]
  },
  {
   "cell_type": "code",
   "execution_count": 105,
   "metadata": {},
   "outputs": [],
   "source": [
    "X = pd.read_csv(\"train_features.csv\")\n",
    "y = pd.read_csv(\"train_labels.csv\")\n",
    "test = pd.read_csv(\"test_features.csv\")\n",
    "test = test.drop(['ID'], axis=1)\n",
    "submission_format = pd.read_csv(\"submission_format.csv\")"
   ]
  },
  {
   "cell_type": "code",
   "execution_count": 106,
   "metadata": {},
   "outputs": [],
   "source": [
    "def summary(df):\n",
    "    summ = pd.DataFrame(df.dtypes, columns=['data type'])\n",
    "    summ['#missing'] = df.isnull().sum().values\n",
    "    summ['Duplicate'] = df.duplicated().sum()\n",
    "    summ['#unique'] = df.nunique().values\n",
    "    desc = pd.DataFrame(df.describe(include='all').transpose())\n",
    "    summ['min'] = desc['min'].values\n",
    "    summ['max'] = desc['max'].values\n",
    "    summ['avg'] = desc['mean'].values\n",
    "    summ['std dev'] = desc['std'].values\n",
    "    # summ['top value'] = desc['top'].values\n",
    "    # summ['Freq'] = desc['freq'].values\n",
    "\n",
    "    return summ"
   ]
  },
  {
   "cell_type": "code",
   "execution_count": 107,
   "metadata": {},
   "outputs": [
    {
     "data": {
      "text/html": [
       "<style type=\"text/css\">\n",
       "#T_d1f3c_row0_col1, #T_d1f3c_row0_col2, #T_d1f3c_row1_col2, #T_d1f3c_row1_col3, #T_d1f3c_row2_col2, #T_d1f3c_row2_col3, #T_d1f3c_row3_col2, #T_d1f3c_row4_col2, #T_d1f3c_row4_col3, #T_d1f3c_row5_col2, #T_d1f3c_row5_col3, #T_d1f3c_row6_col2, #T_d1f3c_row7_col2, #T_d1f3c_row8_col2, #T_d1f3c_row9_col2, #T_d1f3c_row10_col2, #T_d1f3c_row11_col2, #T_d1f3c_row12_col2, #T_d1f3c_row13_col2, #T_d1f3c_row14_col2, #T_d1f3c_row14_col3, #T_d1f3c_row15_col2 {\n",
       "  background-color: #fff7fb;\n",
       "  color: #000000;\n",
       "}\n",
       "#T_d1f3c_row0_col3 {\n",
       "  background-color: #fcf4fa;\n",
       "  color: #000000;\n",
       "}\n",
       "#T_d1f3c_row1_col1, #T_d1f3c_row3_col1, #T_d1f3c_row4_col1, #T_d1f3c_row9_col1 {\n",
       "  background-color: #f5eef6;\n",
       "  color: #000000;\n",
       "}\n",
       "#T_d1f3c_row2_col1, #T_d1f3c_row10_col1 {\n",
       "  background-color: #f4edf6;\n",
       "  color: #000000;\n",
       "}\n",
       "#T_d1f3c_row3_col3, #T_d1f3c_row15_col1 {\n",
       "  background-color: #023858;\n",
       "  color: #f1f1f1;\n",
       "}\n",
       "#T_d1f3c_row5_col1, #T_d1f3c_row14_col1 {\n",
       "  background-color: #f4eef6;\n",
       "  color: #000000;\n",
       "}\n",
       "#T_d1f3c_row6_col1, #T_d1f3c_row7_col1, #T_d1f3c_row8_col1, #T_d1f3c_row11_col1 {\n",
       "  background-color: #f5eff6;\n",
       "  color: #000000;\n",
       "}\n",
       "#T_d1f3c_row6_col3 {\n",
       "  background-color: #fbf3f9;\n",
       "  color: #000000;\n",
       "}\n",
       "#T_d1f3c_row7_col3 {\n",
       "  background-color: #187cb6;\n",
       "  color: #f1f1f1;\n",
       "}\n",
       "#T_d1f3c_row8_col3 {\n",
       "  background-color: #04649e;\n",
       "  color: #f1f1f1;\n",
       "}\n",
       "#T_d1f3c_row9_col3 {\n",
       "  background-color: #0f76b3;\n",
       "  color: #f1f1f1;\n",
       "}\n",
       "#T_d1f3c_row10_col3 {\n",
       "  background-color: #2081b9;\n",
       "  color: #f1f1f1;\n",
       "}\n",
       "#T_d1f3c_row11_col3, #T_d1f3c_row12_col3, #T_d1f3c_row13_col3 {\n",
       "  background-color: #fef6fb;\n",
       "  color: #000000;\n",
       "}\n",
       "#T_d1f3c_row12_col1, #T_d1f3c_row13_col1 {\n",
       "  background-color: #f6eff7;\n",
       "  color: #000000;\n",
       "}\n",
       "#T_d1f3c_row15_col3 {\n",
       "  background-color: #e6e2ef;\n",
       "  color: #000000;\n",
       "}\n",
       "</style>\n",
       "<table id=\"T_d1f3c\">\n",
       "  <thead>\n",
       "    <tr>\n",
       "      <th class=\"blank level0\" >&nbsp;</th>\n",
       "      <th id=\"T_d1f3c_level0_col0\" class=\"col_heading level0 col0\" >data type</th>\n",
       "      <th id=\"T_d1f3c_level0_col1\" class=\"col_heading level0 col1\" >#missing</th>\n",
       "      <th id=\"T_d1f3c_level0_col2\" class=\"col_heading level0 col2\" >Duplicate</th>\n",
       "      <th id=\"T_d1f3c_level0_col3\" class=\"col_heading level0 col3\" >#unique</th>\n",
       "      <th id=\"T_d1f3c_level0_col4\" class=\"col_heading level0 col4\" >min</th>\n",
       "      <th id=\"T_d1f3c_level0_col5\" class=\"col_heading level0 col5\" >max</th>\n",
       "      <th id=\"T_d1f3c_level0_col6\" class=\"col_heading level0 col6\" >avg</th>\n",
       "      <th id=\"T_d1f3c_level0_col7\" class=\"col_heading level0 col7\" >std dev</th>\n",
       "    </tr>\n",
       "  </thead>\n",
       "  <tbody>\n",
       "    <tr>\n",
       "      <th id=\"T_d1f3c_level0_row0\" class=\"row_heading level0 row0\" >tahun_kelahiran</th>\n",
       "      <td id=\"T_d1f3c_row0_col0\" class=\"data row0 col0\" >int64</td>\n",
       "      <td id=\"T_d1f3c_row0_col1\" class=\"data row0 col1\" >0</td>\n",
       "      <td id=\"T_d1f3c_row0_col2\" class=\"data row0 col2\" >0</td>\n",
       "      <td id=\"T_d1f3c_row0_col3\" class=\"data row0 col3\" >76</td>\n",
       "      <td id=\"T_d1f3c_row0_col4\" class=\"data row0 col4\" >1899.000000</td>\n",
       "      <td id=\"T_d1f3c_row0_col5\" class=\"data row0 col5\" >2000.000000</td>\n",
       "      <td id=\"T_d1f3c_row0_col6\" class=\"data row0 col6\" >1967.823946</td>\n",
       "      <td id=\"T_d1f3c_row0_col7\" class=\"data row0 col7\" >11.768131</td>\n",
       "    </tr>\n",
       "    <tr>\n",
       "      <th id=\"T_d1f3c_level0_row1\" class=\"row_heading level0 row1\" >pendidikan</th>\n",
       "      <td id=\"T_d1f3c_row1_col0\" class=\"data row1 col0\" >object</td>\n",
       "      <td id=\"T_d1f3c_row1_col1\" class=\"data row1 col1\" >189</td>\n",
       "      <td id=\"T_d1f3c_row1_col2\" class=\"data row1 col2\" >0</td>\n",
       "      <td id=\"T_d1f3c_row1_col3\" class=\"data row1 col3\" >6</td>\n",
       "      <td id=\"T_d1f3c_row1_col4\" class=\"data row1 col4\" >nan</td>\n",
       "      <td id=\"T_d1f3c_row1_col5\" class=\"data row1 col5\" >nan</td>\n",
       "      <td id=\"T_d1f3c_row1_col6\" class=\"data row1 col6\" >nan</td>\n",
       "      <td id=\"T_d1f3c_row1_col7\" class=\"data row1 col7\" >nan</td>\n",
       "    </tr>\n",
       "    <tr>\n",
       "      <th id=\"T_d1f3c_level0_row2\" class=\"row_heading level0 row2\" >status_pernikahan</th>\n",
       "      <td id=\"T_d1f3c_row2_col0\" class=\"data row2 col0\" >object</td>\n",
       "      <td id=\"T_d1f3c_row2_col1\" class=\"data row2 col1\" >212</td>\n",
       "      <td id=\"T_d1f3c_row2_col2\" class=\"data row2 col2\" >0</td>\n",
       "      <td id=\"T_d1f3c_row2_col3\" class=\"data row2 col3\" >6</td>\n",
       "      <td id=\"T_d1f3c_row2_col4\" class=\"data row2 col4\" >nan</td>\n",
       "      <td id=\"T_d1f3c_row2_col5\" class=\"data row2 col5\" >nan</td>\n",
       "      <td id=\"T_d1f3c_row2_col6\" class=\"data row2 col6\" >nan</td>\n",
       "      <td id=\"T_d1f3c_row2_col7\" class=\"data row2 col7\" >nan</td>\n",
       "    </tr>\n",
       "    <tr>\n",
       "      <th id=\"T_d1f3c_level0_row3\" class=\"row_heading level0 row3\" >pendapatan</th>\n",
       "      <td id=\"T_d1f3c_row3_col0\" class=\"data row3 col0\" >float64</td>\n",
       "      <td id=\"T_d1f3c_row3_col1\" class=\"data row3 col1\" >190</td>\n",
       "      <td id=\"T_d1f3c_row3_col2\" class=\"data row3 col2\" >0</td>\n",
       "      <td id=\"T_d1f3c_row3_col3\" class=\"data row3 col3\" >3622</td>\n",
       "      <td id=\"T_d1f3c_row3_col4\" class=\"data row3 col4\" >5073000.000000</td>\n",
       "      <td id=\"T_d1f3c_row3_col5\" class=\"data row3 col5\" >332884000.000000</td>\n",
       "      <td id=\"T_d1f3c_row3_col6\" class=\"data row3 col6\" >114483170.089606</td>\n",
       "      <td id=\"T_d1f3c_row3_col7\" class=\"data row3 col7\" >43460423.969516</td>\n",
       "    </tr>\n",
       "    <tr>\n",
       "      <th id=\"T_d1f3c_level0_row4\" class=\"row_heading level0 row4\" >jumlah_anak_balita</th>\n",
       "      <td id=\"T_d1f3c_row4_col0\" class=\"data row4 col0\" >float64</td>\n",
       "      <td id=\"T_d1f3c_row4_col1\" class=\"data row4 col1\" >190</td>\n",
       "      <td id=\"T_d1f3c_row4_col2\" class=\"data row4 col2\" >0</td>\n",
       "      <td id=\"T_d1f3c_row4_col3\" class=\"data row4 col3\" >3</td>\n",
       "      <td id=\"T_d1f3c_row4_col4\" class=\"data row4 col4\" >0.000000</td>\n",
       "      <td id=\"T_d1f3c_row4_col5\" class=\"data row4 col5\" >2.000000</td>\n",
       "      <td id=\"T_d1f3c_row4_col6\" class=\"data row4 col6\" >0.293080</td>\n",
       "      <td id=\"T_d1f3c_row4_col7\" class=\"data row4 col7\" >0.473063</td>\n",
       "    </tr>\n",
       "    <tr>\n",
       "      <th id=\"T_d1f3c_level0_row5\" class=\"row_heading level0 row5\" >jumlah_anak_remaja</th>\n",
       "      <td id=\"T_d1f3c_row5_col0\" class=\"data row5 col0\" >float64</td>\n",
       "      <td id=\"T_d1f3c_row5_col1\" class=\"data row5 col1\" >204</td>\n",
       "      <td id=\"T_d1f3c_row5_col2\" class=\"data row5 col2\" >0</td>\n",
       "      <td id=\"T_d1f3c_row5_col3\" class=\"data row5 col3\" >3</td>\n",
       "      <td id=\"T_d1f3c_row5_col4\" class=\"data row5 col4\" >0.000000</td>\n",
       "      <td id=\"T_d1f3c_row5_col5\" class=\"data row5 col5\" >2.000000</td>\n",
       "      <td id=\"T_d1f3c_row5_col6\" class=\"data row5 col6\" >0.353723</td>\n",
       "      <td id=\"T_d1f3c_row5_col7\" class=\"data row5 col7\" >0.493014</td>\n",
       "    </tr>\n",
       "    <tr>\n",
       "      <th id=\"T_d1f3c_level0_row6\" class=\"row_heading level0 row6\" >terakhir_belanja</th>\n",
       "      <td id=\"T_d1f3c_row6_col0\" class=\"data row6 col0\" >float64</td>\n",
       "      <td id=\"T_d1f3c_row6_col1\" class=\"data row6 col1\" >172</td>\n",
       "      <td id=\"T_d1f3c_row6_col2\" class=\"data row6 col2\" >0</td>\n",
       "      <td id=\"T_d1f3c_row6_col3\" class=\"data row6 col3\" >113</td>\n",
       "      <td id=\"T_d1f3c_row6_col4\" class=\"data row6 col4\" >0.000000</td>\n",
       "      <td id=\"T_d1f3c_row6_col5\" class=\"data row6 col5\" >128.000000</td>\n",
       "      <td id=\"T_d1f3c_row6_col6\" class=\"data row6 col6\" >47.231550</td>\n",
       "      <td id=\"T_d1f3c_row6_col7\" class=\"data row6 col7\" >27.068512</td>\n",
       "    </tr>\n",
       "    <tr>\n",
       "      <th id=\"T_d1f3c_level0_row7\" class=\"row_heading level0 row7\" >belanja_buah</th>\n",
       "      <td id=\"T_d1f3c_row7_col0\" class=\"data row7 col0\" >float64</td>\n",
       "      <td id=\"T_d1f3c_row7_col1\" class=\"data row7 col1\" >181</td>\n",
       "      <td id=\"T_d1f3c_row7_col2\" class=\"data row7 col2\" >0</td>\n",
       "      <td id=\"T_d1f3c_row7_col3\" class=\"data row7 col3\" >2535</td>\n",
       "      <td id=\"T_d1f3c_row7_col4\" class=\"data row7 col4\" >0.000000</td>\n",
       "      <td id=\"T_d1f3c_row7_col5\" class=\"data row7 col5\" >396508.000000</td>\n",
       "      <td id=\"T_d1f3c_row7_col6\" class=\"data row7 col6\" >59804.239824</td>\n",
       "      <td id=\"T_d1f3c_row7_col7\" class=\"data row7 col7\" >74024.976109</td>\n",
       "    </tr>\n",
       "    <tr>\n",
       "      <th id=\"T_d1f3c_level0_row8\" class=\"row_heading level0 row8\" >belanja_daging</th>\n",
       "      <td id=\"T_d1f3c_row8_col0\" class=\"data row8 col0\" >float64</td>\n",
       "      <td id=\"T_d1f3c_row8_col1\" class=\"data row8 col1\" >178</td>\n",
       "      <td id=\"T_d1f3c_row8_col2\" class=\"data row8 col2\" >0</td>\n",
       "      <td id=\"T_d1f3c_row8_col3\" class=\"data row8 col3\" >2951</td>\n",
       "      <td id=\"T_d1f3c_row8_col4\" class=\"data row8 col4\" >0.000000</td>\n",
       "      <td id=\"T_d1f3c_row8_col5\" class=\"data row8 col5\" >3489675.000000</td>\n",
       "      <td id=\"T_d1f3c_row8_col6\" class=\"data row8 col6\" >438574.823853</td>\n",
       "      <td id=\"T_d1f3c_row8_col7\" class=\"data row8 col7\" >512042.740059</td>\n",
       "    </tr>\n",
       "    <tr>\n",
       "      <th id=\"T_d1f3c_level0_row9\" class=\"row_heading level0 row9\" >belanja_ikan</th>\n",
       "      <td id=\"T_d1f3c_row9_col0\" class=\"data row9 col0\" >float64</td>\n",
       "      <td id=\"T_d1f3c_row9_col1\" class=\"data row9 col1\" >193</td>\n",
       "      <td id=\"T_d1f3c_row9_col2\" class=\"data row9 col2\" >0</td>\n",
       "      <td id=\"T_d1f3c_row9_col3\" class=\"data row9 col3\" >2627</td>\n",
       "      <td id=\"T_d1f3c_row9_col4\" class=\"data row9 col4\" >0.000000</td>\n",
       "      <td id=\"T_d1f3c_row9_col5\" class=\"data row9 col5\" >621600.000000</td>\n",
       "      <td id=\"T_d1f3c_row9_col6\" class=\"data row9 col6\" >81428.997792</td>\n",
       "      <td id=\"T_d1f3c_row9_col7\" class=\"data row9 col7\" >99976.226855</td>\n",
       "    </tr>\n",
       "    <tr>\n",
       "      <th id=\"T_d1f3c_level0_row10\" class=\"row_heading level0 row10\" >belanja_kue</th>\n",
       "      <td id=\"T_d1f3c_row10_col0\" class=\"data row10 col0\" >float64</td>\n",
       "      <td id=\"T_d1f3c_row10_col1\" class=\"data row10 col1\" >214</td>\n",
       "      <td id=\"T_d1f3c_row10_col2\" class=\"data row10 col2\" >0</td>\n",
       "      <td id=\"T_d1f3c_row10_col3\" class=\"data row10 col3\" >2475</td>\n",
       "      <td id=\"T_d1f3c_row10_col4\" class=\"data row10 col4\" >0.000000</td>\n",
       "      <td id=\"T_d1f3c_row10_col5\" class=\"data row10 col5\" >542164.000000</td>\n",
       "      <td id=\"T_d1f3c_row10_col6\" class=\"data row10 col6\" >63377.970580</td>\n",
       "      <td id=\"T_d1f3c_row10_col7\" class=\"data row10 col7\" >79435.457282</td>\n",
       "    </tr>\n",
       "    <tr>\n",
       "      <th id=\"T_d1f3c_level0_row11\" class=\"row_heading level0 row11\" >pembelian_diskon</th>\n",
       "      <td id=\"T_d1f3c_row11_col0\" class=\"data row11 col0\" >float64</td>\n",
       "      <td id=\"T_d1f3c_row11_col1\" class=\"data row11 col1\" >178</td>\n",
       "      <td id=\"T_d1f3c_row11_col2\" class=\"data row11 col2\" >0</td>\n",
       "      <td id=\"T_d1f3c_row11_col3\" class=\"data row11 col3\" >18</td>\n",
       "      <td id=\"T_d1f3c_row11_col4\" class=\"data row11 col4\" >0.000000</td>\n",
       "      <td id=\"T_d1f3c_row11_col5\" class=\"data row11 col5\" >20.000000</td>\n",
       "      <td id=\"T_d1f3c_row11_col6\" class=\"data row11 col6\" >2.125584</td>\n",
       "      <td id=\"T_d1f3c_row11_col7\" class=\"data row11 col7\" >2.100133</td>\n",
       "    </tr>\n",
       "    <tr>\n",
       "      <th id=\"T_d1f3c_level0_row12\" class=\"row_heading level0 row12\" >pembelian_web</th>\n",
       "      <td id=\"T_d1f3c_row12_col0\" class=\"data row12 col0\" >float64</td>\n",
       "      <td id=\"T_d1f3c_row12_col1\" class=\"data row12 col1\" >165</td>\n",
       "      <td id=\"T_d1f3c_row12_col2\" class=\"data row12 col2\" >0</td>\n",
       "      <td id=\"T_d1f3c_row12_col3\" class=\"data row12 col3\" >18</td>\n",
       "      <td id=\"T_d1f3c_row12_col4\" class=\"data row12 col4\" >0.000000</td>\n",
       "      <td id=\"T_d1f3c_row12_col5\" class=\"data row12 col5\" >30.000000</td>\n",
       "      <td id=\"T_d1f3c_row12_col6\" class=\"data row12 col6\" >4.436473</td>\n",
       "      <td id=\"T_d1f3c_row12_col7\" class=\"data row12 col7\" >3.002522</td>\n",
       "    </tr>\n",
       "    <tr>\n",
       "      <th id=\"T_d1f3c_level0_row13\" class=\"row_heading level0 row13\" >pembelian_toko</th>\n",
       "      <td id=\"T_d1f3c_row13_col0\" class=\"data row13 col0\" >float64</td>\n",
       "      <td id=\"T_d1f3c_row13_col1\" class=\"data row13 col1\" >169</td>\n",
       "      <td id=\"T_d1f3c_row13_col2\" class=\"data row13 col2\" >0</td>\n",
       "      <td id=\"T_d1f3c_row13_col3\" class=\"data row13 col3\" >18</td>\n",
       "      <td id=\"T_d1f3c_row13_col4\" class=\"data row13 col4\" >0.000000</td>\n",
       "      <td id=\"T_d1f3c_row13_col5\" class=\"data row13 col5\" >17.000000</td>\n",
       "      <td id=\"T_d1f3c_row13_col6\" class=\"data row13 col6\" >5.767818</td>\n",
       "      <td id=\"T_d1f3c_row13_col7\" class=\"data row13 col7\" >3.210738</td>\n",
       "    </tr>\n",
       "    <tr>\n",
       "      <th id=\"T_d1f3c_level0_row14\" class=\"row_heading level0 row14\" >keluhan</th>\n",
       "      <td id=\"T_d1f3c_row14_col0\" class=\"data row14 col0\" >float64</td>\n",
       "      <td id=\"T_d1f3c_row14_col1\" class=\"data row14 col1\" >196</td>\n",
       "      <td id=\"T_d1f3c_row14_col2\" class=\"data row14 col2\" >0</td>\n",
       "      <td id=\"T_d1f3c_row14_col3\" class=\"data row14 col3\" >2</td>\n",
       "      <td id=\"T_d1f3c_row14_col4\" class=\"data row14 col4\" >0.000000</td>\n",
       "      <td id=\"T_d1f3c_row14_col5\" class=\"data row14 col5\" >1.000000</td>\n",
       "      <td id=\"T_d1f3c_row14_col6\" class=\"data row14 col6\" >0.004971</td>\n",
       "      <td id=\"T_d1f3c_row14_col7\" class=\"data row14 col7\" >0.070340</td>\n",
       "    </tr>\n",
       "    <tr>\n",
       "      <th id=\"T_d1f3c_level0_row15\" class=\"row_heading level0 row15\" >tanggal_menjadi_anggota</th>\n",
       "      <td id=\"T_d1f3c_row15_col0\" class=\"data row15 col0\" >object</td>\n",
       "      <td id=\"T_d1f3c_row15_col1\" class=\"data row15 col1\" >2752</td>\n",
       "      <td id=\"T_d1f3c_row15_col2\" class=\"data row15 col2\" >0</td>\n",
       "      <td id=\"T_d1f3c_row15_col3\" class=\"data row15 col3\" >564</td>\n",
       "      <td id=\"T_d1f3c_row15_col4\" class=\"data row15 col4\" >nan</td>\n",
       "      <td id=\"T_d1f3c_row15_col5\" class=\"data row15 col5\" >nan</td>\n",
       "      <td id=\"T_d1f3c_row15_col6\" class=\"data row15 col6\" >nan</td>\n",
       "      <td id=\"T_d1f3c_row15_col7\" class=\"data row15 col7\" >nan</td>\n",
       "    </tr>\n",
       "  </tbody>\n",
       "</table>\n"
      ],
      "text/plain": [
       "<pandas.io.formats.style.Styler at 0x19225293fb0>"
      ]
     },
     "execution_count": 107,
     "metadata": {},
     "output_type": "execute_result"
    }
   ],
   "source": [
    "summary(X).style.background_gradient()"
   ]
  },
  {
   "cell_type": "code",
   "execution_count": 108,
   "metadata": {},
   "outputs": [
    {
     "data": {
      "text/html": [
       "<style type=\"text/css\">\n",
       "#T_01fd7_row0_col1, #T_01fd7_row0_col2, #T_01fd7_row1_col2, #T_01fd7_row1_col3, #T_01fd7_row2_col2, #T_01fd7_row2_col3, #T_01fd7_row3_col2, #T_01fd7_row4_col2, #T_01fd7_row4_col3, #T_01fd7_row5_col2, #T_01fd7_row5_col3, #T_01fd7_row6_col2, #T_01fd7_row7_col2, #T_01fd7_row8_col2, #T_01fd7_row9_col2, #T_01fd7_row10_col2, #T_01fd7_row11_col2, #T_01fd7_row12_col2, #T_01fd7_row12_col3, #T_01fd7_row13_col2, #T_01fd7_row14_col2, #T_01fd7_row14_col3, #T_01fd7_row15_col2 {\n",
       "  background-color: #fff7fb;\n",
       "  color: #000000;\n",
       "}\n",
       "#T_01fd7_row0_col3 {\n",
       "  background-color: #fcf4fa;\n",
       "  color: #000000;\n",
       "}\n",
       "#T_01fd7_row1_col1, #T_01fd7_row3_col1, #T_01fd7_row6_col1, #T_01fd7_row8_col1, #T_01fd7_row9_col1 {\n",
       "  background-color: #f4eef6;\n",
       "  color: #000000;\n",
       "}\n",
       "#T_01fd7_row2_col1, #T_01fd7_row11_col1, #T_01fd7_row12_col1 {\n",
       "  background-color: #f5eff6;\n",
       "  color: #000000;\n",
       "}\n",
       "#T_01fd7_row3_col3, #T_01fd7_row15_col1 {\n",
       "  background-color: #023858;\n",
       "  color: #f1f1f1;\n",
       "}\n",
       "#T_01fd7_row4_col1, #T_01fd7_row5_col1 {\n",
       "  background-color: #f4edf6;\n",
       "  color: #000000;\n",
       "}\n",
       "#T_01fd7_row6_col3 {\n",
       "  background-color: #faf3f9;\n",
       "  color: #000000;\n",
       "}\n",
       "#T_01fd7_row7_col1, #T_01fd7_row10_col1, #T_01fd7_row13_col1, #T_01fd7_row14_col1 {\n",
       "  background-color: #f5eef6;\n",
       "  color: #000000;\n",
       "}\n",
       "#T_01fd7_row7_col3 {\n",
       "  background-color: #1379b5;\n",
       "  color: #f1f1f1;\n",
       "}\n",
       "#T_01fd7_row8_col3 {\n",
       "  background-color: #04649e;\n",
       "  color: #f1f1f1;\n",
       "}\n",
       "#T_01fd7_row9_col3 {\n",
       "  background-color: #0a73b2;\n",
       "  color: #f1f1f1;\n",
       "}\n",
       "#T_01fd7_row10_col3 {\n",
       "  background-color: #187cb6;\n",
       "  color: #f1f1f1;\n",
       "}\n",
       "#T_01fd7_row11_col3, #T_01fd7_row13_col3 {\n",
       "  background-color: #fef6fb;\n",
       "  color: #000000;\n",
       "}\n",
       "#T_01fd7_row15_col3 {\n",
       "  background-color: #e7e3f0;\n",
       "  color: #000000;\n",
       "}\n",
       "</style>\n",
       "<table id=\"T_01fd7\">\n",
       "  <thead>\n",
       "    <tr>\n",
       "      <th class=\"blank level0\" >&nbsp;</th>\n",
       "      <th id=\"T_01fd7_level0_col0\" class=\"col_heading level0 col0\" >data type</th>\n",
       "      <th id=\"T_01fd7_level0_col1\" class=\"col_heading level0 col1\" >#missing</th>\n",
       "      <th id=\"T_01fd7_level0_col2\" class=\"col_heading level0 col2\" >Duplicate</th>\n",
       "      <th id=\"T_01fd7_level0_col3\" class=\"col_heading level0 col3\" >#unique</th>\n",
       "      <th id=\"T_01fd7_level0_col4\" class=\"col_heading level0 col4\" >min</th>\n",
       "      <th id=\"T_01fd7_level0_col5\" class=\"col_heading level0 col5\" >max</th>\n",
       "      <th id=\"T_01fd7_level0_col6\" class=\"col_heading level0 col6\" >avg</th>\n",
       "      <th id=\"T_01fd7_level0_col7\" class=\"col_heading level0 col7\" >std dev</th>\n",
       "    </tr>\n",
       "  </thead>\n",
       "  <tbody>\n",
       "    <tr>\n",
       "      <th id=\"T_01fd7_level0_row0\" class=\"row_heading level0 row0\" >tahun_kelahiran</th>\n",
       "      <td id=\"T_01fd7_row0_col0\" class=\"data row0 col0\" >int64</td>\n",
       "      <td id=\"T_01fd7_row0_col1\" class=\"data row0 col1\" >0</td>\n",
       "      <td id=\"T_01fd7_row0_col2\" class=\"data row0 col2\" >0</td>\n",
       "      <td id=\"T_01fd7_row0_col3\" class=\"data row0 col3\" >85</td>\n",
       "      <td id=\"T_01fd7_row0_col4\" class=\"data row0 col4\" >1892.000000</td>\n",
       "      <td id=\"T_01fd7_row0_col5\" class=\"data row0 col5\" >2009.000000</td>\n",
       "      <td id=\"T_01fd7_row0_col6\" class=\"data row0 col6\" >1967.789942</td>\n",
       "      <td id=\"T_01fd7_row0_col7\" class=\"data row0 col7\" >11.808572</td>\n",
       "    </tr>\n",
       "    <tr>\n",
       "      <th id=\"T_01fd7_level0_row1\" class=\"row_heading level0 row1\" >pendidikan</th>\n",
       "      <td id=\"T_01fd7_row1_col0\" class=\"data row1 col0\" >object</td>\n",
       "      <td id=\"T_01fd7_row1_col1\" class=\"data row1 col1\" >204</td>\n",
       "      <td id=\"T_01fd7_row1_col2\" class=\"data row1 col2\" >0</td>\n",
       "      <td id=\"T_01fd7_row1_col3\" class=\"data row1 col3\" >6</td>\n",
       "      <td id=\"T_01fd7_row1_col4\" class=\"data row1 col4\" >nan</td>\n",
       "      <td id=\"T_01fd7_row1_col5\" class=\"data row1 col5\" >nan</td>\n",
       "      <td id=\"T_01fd7_row1_col6\" class=\"data row1 col6\" >nan</td>\n",
       "      <td id=\"T_01fd7_row1_col7\" class=\"data row1 col7\" >nan</td>\n",
       "    </tr>\n",
       "    <tr>\n",
       "      <th id=\"T_01fd7_level0_row2\" class=\"row_heading level0 row2\" >status_pernikahan</th>\n",
       "      <td id=\"T_01fd7_row2_col0\" class=\"data row2 col0\" >object</td>\n",
       "      <td id=\"T_01fd7_row2_col1\" class=\"data row2 col1\" >182</td>\n",
       "      <td id=\"T_01fd7_row2_col2\" class=\"data row2 col2\" >0</td>\n",
       "      <td id=\"T_01fd7_row2_col3\" class=\"data row2 col3\" >6</td>\n",
       "      <td id=\"T_01fd7_row2_col4\" class=\"data row2 col4\" >nan</td>\n",
       "      <td id=\"T_01fd7_row2_col5\" class=\"data row2 col5\" >nan</td>\n",
       "      <td id=\"T_01fd7_row2_col6\" class=\"data row2 col6\" >nan</td>\n",
       "      <td id=\"T_01fd7_row2_col7\" class=\"data row2 col7\" >nan</td>\n",
       "    </tr>\n",
       "    <tr>\n",
       "      <th id=\"T_01fd7_level0_row3\" class=\"row_heading level0 row3\" >pendapatan</th>\n",
       "      <td id=\"T_01fd7_row3_col0\" class=\"data row3 col0\" >float64</td>\n",
       "      <td id=\"T_01fd7_row3_col1\" class=\"data row3 col1\" >203</td>\n",
       "      <td id=\"T_01fd7_row3_col2\" class=\"data row3 col2\" >0</td>\n",
       "      <td id=\"T_01fd7_row3_col3\" class=\"data row3 col3\" >3610</td>\n",
       "      <td id=\"T_01fd7_row3_col4\" class=\"data row3 col4\" >2998899.000000</td>\n",
       "      <td id=\"T_01fd7_row3_col5\" class=\"data row3 col5\" >1305740000.000000</td>\n",
       "      <td id=\"T_01fd7_row3_col6\" class=\"data row3 col6\" >116324904.534716</td>\n",
       "      <td id=\"T_01fd7_row3_col7\" class=\"data row3 col7\" >51051222.459486</td>\n",
       "    </tr>\n",
       "    <tr>\n",
       "      <th id=\"T_01fd7_level0_row4\" class=\"row_heading level0 row4\" >jumlah_anak_balita</th>\n",
       "      <td id=\"T_01fd7_row4_col0\" class=\"data row4 col0\" >float64</td>\n",
       "      <td id=\"T_01fd7_row4_col1\" class=\"data row4 col1\" >209</td>\n",
       "      <td id=\"T_01fd7_row4_col2\" class=\"data row4 col2\" >0</td>\n",
       "      <td id=\"T_01fd7_row4_col3\" class=\"data row4 col3\" >3</td>\n",
       "      <td id=\"T_01fd7_row4_col4\" class=\"data row4 col4\" >0.000000</td>\n",
       "      <td id=\"T_01fd7_row4_col5\" class=\"data row4 col5\" >2.000000</td>\n",
       "      <td id=\"T_01fd7_row4_col6\" class=\"data row4 col6\" >0.282904</td>\n",
       "      <td id=\"T_01fd7_row4_col7\" class=\"data row4 col7\" >0.465005</td>\n",
       "    </tr>\n",
       "    <tr>\n",
       "      <th id=\"T_01fd7_level0_row5\" class=\"row_heading level0 row5\" >jumlah_anak_remaja</th>\n",
       "      <td id=\"T_01fd7_row5_col0\" class=\"data row5 col0\" >float64</td>\n",
       "      <td id=\"T_01fd7_row5_col1\" class=\"data row5 col1\" >210</td>\n",
       "      <td id=\"T_01fd7_row5_col2\" class=\"data row5 col2\" >0</td>\n",
       "      <td id=\"T_01fd7_row5_col3\" class=\"data row5 col3\" >3</td>\n",
       "      <td id=\"T_01fd7_row5_col4\" class=\"data row5 col4\" >0.000000</td>\n",
       "      <td id=\"T_01fd7_row5_col5\" class=\"data row5 col5\" >2.000000</td>\n",
       "      <td id=\"T_01fd7_row5_col6\" class=\"data row5 col6\" >0.355322</td>\n",
       "      <td id=\"T_01fd7_row5_col7\" class=\"data row5 col7\" >0.496865</td>\n",
       "    </tr>\n",
       "    <tr>\n",
       "      <th id=\"T_01fd7_level0_row6\" class=\"row_heading level0 row6\" >terakhir_belanja</th>\n",
       "      <td id=\"T_01fd7_row6_col0\" class=\"data row6 col0\" >float64</td>\n",
       "      <td id=\"T_01fd7_row6_col1\" class=\"data row6 col1\" >201</td>\n",
       "      <td id=\"T_01fd7_row6_col2\" class=\"data row6 col2\" >0</td>\n",
       "      <td id=\"T_01fd7_row6_col3\" class=\"data row6 col3\" >116</td>\n",
       "      <td id=\"T_01fd7_row6_col4\" class=\"data row6 col4\" >0.000000</td>\n",
       "      <td id=\"T_01fd7_row6_col5\" class=\"data row6 col5\" >133.000000</td>\n",
       "      <td id=\"T_01fd7_row6_col6\" class=\"data row6 col6\" >47.181366</td>\n",
       "      <td id=\"T_01fd7_row6_col7\" class=\"data row6 col7\" >26.940287</td>\n",
       "    </tr>\n",
       "    <tr>\n",
       "      <th id=\"T_01fd7_level0_row7\" class=\"row_heading level0 row7\" >belanja_buah</th>\n",
       "      <td id=\"T_01fd7_row7_col0\" class=\"data row7 col0\" >float64</td>\n",
       "      <td id=\"T_01fd7_row7_col1\" class=\"data row7 col1\" >186</td>\n",
       "      <td id=\"T_01fd7_row7_col2\" class=\"data row7 col2\" >0</td>\n",
       "      <td id=\"T_01fd7_row7_col3\" class=\"data row7 col3\" >2573</td>\n",
       "      <td id=\"T_01fd7_row7_col4\" class=\"data row7 col4\" >0.000000</td>\n",
       "      <td id=\"T_01fd7_row7_col5\" class=\"data row7 col5\" >408646.000000</td>\n",
       "      <td id=\"T_01fd7_row7_col6\" class=\"data row7 col6\" >61234.083425</td>\n",
       "      <td id=\"T_01fd7_row7_col7\" class=\"data row7 col7\" >76647.590617</td>\n",
       "    </tr>\n",
       "    <tr>\n",
       "      <th id=\"T_01fd7_level0_row8\" class=\"row_heading level0 row8\" >belanja_daging</th>\n",
       "      <td id=\"T_01fd7_row8_col0\" class=\"data row8 col0\" >float64</td>\n",
       "      <td id=\"T_01fd7_row8_col1\" class=\"data row8 col1\" >195</td>\n",
       "      <td id=\"T_01fd7_row8_col2\" class=\"data row8 col2\" >0</td>\n",
       "      <td id=\"T_01fd7_row8_col3\" class=\"data row8 col3\" >2943</td>\n",
       "      <td id=\"T_01fd7_row8_col4\" class=\"data row8 col4\" >0.000000</td>\n",
       "      <td id=\"T_01fd7_row8_col5\" class=\"data row8 col5\" >3271191.000000</td>\n",
       "      <td id=\"T_01fd7_row8_col6\" class=\"data row8 col6\" >452848.379796</td>\n",
       "      <td id=\"T_01fd7_row8_col7\" class=\"data row8 col7\" >512320.643716</td>\n",
       "    </tr>\n",
       "    <tr>\n",
       "      <th id=\"T_01fd7_level0_row9\" class=\"row_heading level0 row9\" >belanja_ikan</th>\n",
       "      <td id=\"T_01fd7_row9_col0\" class=\"data row9 col0\" >float64</td>\n",
       "      <td id=\"T_01fd7_row9_col1\" class=\"data row9 col1\" >196</td>\n",
       "      <td id=\"T_01fd7_row9_col2\" class=\"data row9 col2\" >0</td>\n",
       "      <td id=\"T_01fd7_row9_col3\" class=\"data row9 col3\" >2660</td>\n",
       "      <td id=\"T_01fd7_row9_col4\" class=\"data row9 col4\" >0.000000</td>\n",
       "      <td id=\"T_01fd7_row9_col5\" class=\"data row9 col5\" >574932.000000</td>\n",
       "      <td id=\"T_01fd7_row9_col6\" class=\"data row9 col6\" >85338.612093</td>\n",
       "      <td id=\"T_01fd7_row9_col7\" class=\"data row9 col7\" >103789.546199</td>\n",
       "    </tr>\n",
       "    <tr>\n",
       "      <th id=\"T_01fd7_level0_row10\" class=\"row_heading level0 row10\" >belanja_kue</th>\n",
       "      <td id=\"T_01fd7_row10_col0\" class=\"data row10 col0\" >float64</td>\n",
       "      <td id=\"T_01fd7_row10_col1\" class=\"data row10 col1\" >187</td>\n",
       "      <td id=\"T_01fd7_row10_col2\" class=\"data row10 col2\" >0</td>\n",
       "      <td id=\"T_01fd7_row10_col3\" class=\"data row10 col3\" >2526</td>\n",
       "      <td id=\"T_01fd7_row10_col4\" class=\"data row10 col4\" >0.000000</td>\n",
       "      <td id=\"T_01fd7_row10_col5\" class=\"data row10 col5\" >532049.000000</td>\n",
       "      <td id=\"T_01fd7_row10_col6\" class=\"data row10 col6\" >63801.505921</td>\n",
       "      <td id=\"T_01fd7_row10_col7\" class=\"data row10 col7\" >78428.544713</td>\n",
       "    </tr>\n",
       "    <tr>\n",
       "      <th id=\"T_01fd7_level0_row11\" class=\"row_heading level0 row11\" >pembelian_diskon</th>\n",
       "      <td id=\"T_01fd7_row11_col0\" class=\"data row11 col0\" >float64</td>\n",
       "      <td id=\"T_01fd7_row11_col1\" class=\"data row11 col1\" >179</td>\n",
       "      <td id=\"T_01fd7_row11_col2\" class=\"data row11 col2\" >0</td>\n",
       "      <td id=\"T_01fd7_row11_col3\" class=\"data row11 col3\" >17</td>\n",
       "      <td id=\"T_01fd7_row11_col4\" class=\"data row11 col4\" >0.000000</td>\n",
       "      <td id=\"T_01fd7_row11_col5\" class=\"data row11 col5\" >17.000000</td>\n",
       "      <td id=\"T_01fd7_row11_col6\" class=\"data row11 col6\" >2.101676</td>\n",
       "      <td id=\"T_01fd7_row11_col7\" class=\"data row11 col7\" >2.115571</td>\n",
       "    </tr>\n",
       "    <tr>\n",
       "      <th id=\"T_01fd7_level0_row12\" class=\"row_heading level0 row12\" >pembelian_web</th>\n",
       "      <td id=\"T_01fd7_row12_col0\" class=\"data row12 col0\" >float64</td>\n",
       "      <td id=\"T_01fd7_row12_col1\" class=\"data row12 col1\" >180</td>\n",
       "      <td id=\"T_01fd7_row12_col2\" class=\"data row12 col2\" >0</td>\n",
       "      <td id=\"T_01fd7_row12_col3\" class=\"data row12 col3\" >16</td>\n",
       "      <td id=\"T_01fd7_row12_col4\" class=\"data row12 col4\" >0.000000</td>\n",
       "      <td id=\"T_01fd7_row12_col5\" class=\"data row12 col5\" >27.000000</td>\n",
       "      <td id=\"T_01fd7_row12_col6\" class=\"data row12 col6\" >4.465091</td>\n",
       "      <td id=\"T_01fd7_row12_col7\" class=\"data row12 col7\" >2.935615</td>\n",
       "    </tr>\n",
       "    <tr>\n",
       "      <th id=\"T_01fd7_level0_row13\" class=\"row_heading level0 row13\" >pembelian_toko</th>\n",
       "      <td id=\"T_01fd7_row13_col0\" class=\"data row13 col0\" >float64</td>\n",
       "      <td id=\"T_01fd7_row13_col1\" class=\"data row13 col1\" >186</td>\n",
       "      <td id=\"T_01fd7_row13_col2\" class=\"data row13 col2\" >0</td>\n",
       "      <td id=\"T_01fd7_row13_col3\" class=\"data row13 col3\" >18</td>\n",
       "      <td id=\"T_01fd7_row13_col4\" class=\"data row13 col4\" >0.000000</td>\n",
       "      <td id=\"T_01fd7_row13_col5\" class=\"data row13 col5\" >17.000000</td>\n",
       "      <td id=\"T_01fd7_row13_col6\" class=\"data row13 col6\" >5.835628</td>\n",
       "      <td id=\"T_01fd7_row13_col7\" class=\"data row13 col7\" >3.288349</td>\n",
       "    </tr>\n",
       "    <tr>\n",
       "      <th id=\"T_01fd7_level0_row14\" class=\"row_heading level0 row14\" >keluhan</th>\n",
       "      <td id=\"T_01fd7_row14_col0\" class=\"data row14 col0\" >float64</td>\n",
       "      <td id=\"T_01fd7_row14_col1\" class=\"data row14 col1\" >193</td>\n",
       "      <td id=\"T_01fd7_row14_col2\" class=\"data row14 col2\" >0</td>\n",
       "      <td id=\"T_01fd7_row14_col3\" class=\"data row14 col3\" >2</td>\n",
       "      <td id=\"T_01fd7_row14_col4\" class=\"data row14 col4\" >0.000000</td>\n",
       "      <td id=\"T_01fd7_row14_col5\" class=\"data row14 col5\" >1.000000</td>\n",
       "      <td id=\"T_01fd7_row14_col6\" class=\"data row14 col6\" >0.002759</td>\n",
       "      <td id=\"T_01fd7_row14_col7\" class=\"data row14 col7\" >0.052457</td>\n",
       "    </tr>\n",
       "    <tr>\n",
       "      <th id=\"T_01fd7_level0_row15\" class=\"row_heading level0 row15\" >tanggal_menjadi_anggota</th>\n",
       "      <td id=\"T_01fd7_row15_col0\" class=\"data row15 col0\" >object</td>\n",
       "      <td id=\"T_01fd7_row15_col1\" class=\"data row15 col1\" >2759</td>\n",
       "      <td id=\"T_01fd7_row15_col2\" class=\"data row15 col2\" >0</td>\n",
       "      <td id=\"T_01fd7_row15_col3\" class=\"data row15 col3\" >545</td>\n",
       "      <td id=\"T_01fd7_row15_col4\" class=\"data row15 col4\" >nan</td>\n",
       "      <td id=\"T_01fd7_row15_col5\" class=\"data row15 col5\" >nan</td>\n",
       "      <td id=\"T_01fd7_row15_col6\" class=\"data row15 col6\" >nan</td>\n",
       "      <td id=\"T_01fd7_row15_col7\" class=\"data row15 col7\" >nan</td>\n",
       "    </tr>\n",
       "  </tbody>\n",
       "</table>\n"
      ],
      "text/plain": [
       "<pandas.io.formats.style.Styler at 0x192235b5310>"
      ]
     },
     "execution_count": 108,
     "metadata": {},
     "output_type": "execute_result"
    }
   ],
   "source": [
    "summary(test).style.background_gradient()"
   ]
  },
  {
   "cell_type": "code",
   "execution_count": 109,
   "metadata": {},
   "outputs": [],
   "source": [
    "train = pd.concat([X, y], axis=1)"
   ]
  },
  {
   "cell_type": "code",
   "execution_count": 110,
   "metadata": {},
   "outputs": [
    {
     "data": {
      "text/html": [
       "<div>\n",
       "<style scoped>\n",
       "    .dataframe tbody tr th:only-of-type {\n",
       "        vertical-align: middle;\n",
       "    }\n",
       "\n",
       "    .dataframe tbody tr th {\n",
       "        vertical-align: top;\n",
       "    }\n",
       "\n",
       "    .dataframe thead th {\n",
       "        text-align: right;\n",
       "    }\n",
       "</style>\n",
       "<table border=\"1\" class=\"dataframe\">\n",
       "  <thead>\n",
       "    <tr style=\"text-align: right;\">\n",
       "      <th></th>\n",
       "      <th>tahun_kelahiran</th>\n",
       "      <th>pendidikan</th>\n",
       "      <th>status_pernikahan</th>\n",
       "      <th>pendapatan</th>\n",
       "      <th>jumlah_anak_balita</th>\n",
       "      <th>jumlah_anak_remaja</th>\n",
       "      <th>terakhir_belanja</th>\n",
       "      <th>belanja_buah</th>\n",
       "      <th>belanja_daging</th>\n",
       "      <th>belanja_ikan</th>\n",
       "      <th>belanja_kue</th>\n",
       "      <th>pembelian_diskon</th>\n",
       "      <th>pembelian_web</th>\n",
       "      <th>pembelian_toko</th>\n",
       "      <th>keluhan</th>\n",
       "      <th>tanggal_menjadi_anggota</th>\n",
       "      <th>jumlah_promosi</th>\n",
       "    </tr>\n",
       "  </thead>\n",
       "  <tbody>\n",
       "    <tr>\n",
       "      <th>273</th>\n",
       "      <td>1968</td>\n",
       "      <td>Magister</td>\n",
       "      <td>Rencana Menikah</td>\n",
       "      <td>117164927.0</td>\n",
       "      <td>0.0</td>\n",
       "      <td>1.0</td>\n",
       "      <td>69.0</td>\n",
       "      <td>2059.0</td>\n",
       "      <td>90214.0</td>\n",
       "      <td>72.0</td>\n",
       "      <td>4592.0</td>\n",
       "      <td>1.0</td>\n",
       "      <td>2.0</td>\n",
       "      <td>11.0</td>\n",
       "      <td>0.0</td>\n",
       "      <td>NaN</td>\n",
       "      <td>3</td>\n",
       "    </tr>\n",
       "    <tr>\n",
       "      <th>1124</th>\n",
       "      <td>1949</td>\n",
       "      <td>NaN</td>\n",
       "      <td>NaN</td>\n",
       "      <td>101415589.0</td>\n",
       "      <td>0.0</td>\n",
       "      <td>0.0</td>\n",
       "      <td>63.0</td>\n",
       "      <td>193816.0</td>\n",
       "      <td>754006.0</td>\n",
       "      <td>255557.0</td>\n",
       "      <td>189774.0</td>\n",
       "      <td>0.0</td>\n",
       "      <td>4.0</td>\n",
       "      <td>9.0</td>\n",
       "      <td>0.0</td>\n",
       "      <td>NaN</td>\n",
       "      <td>3</td>\n",
       "    </tr>\n",
       "    <tr>\n",
       "      <th>2003</th>\n",
       "      <td>1978</td>\n",
       "      <td>SMA</td>\n",
       "      <td>Sendiri</td>\n",
       "      <td>54487153.0</td>\n",
       "      <td>0.0</td>\n",
       "      <td>0.0</td>\n",
       "      <td>61.0</td>\n",
       "      <td>53505.0</td>\n",
       "      <td>226637.0</td>\n",
       "      <td>67080.0</td>\n",
       "      <td>41739.0</td>\n",
       "      <td>1.0</td>\n",
       "      <td>5.0</td>\n",
       "      <td>4.0</td>\n",
       "      <td>0.0</td>\n",
       "      <td>NaN</td>\n",
       "      <td>1</td>\n",
       "    </tr>\n",
       "    <tr>\n",
       "      <th>3449</th>\n",
       "      <td>1967</td>\n",
       "      <td>Sarjana</td>\n",
       "      <td>Rencana Menikah</td>\n",
       "      <td>130880562.0</td>\n",
       "      <td>0.0</td>\n",
       "      <td>1.0</td>\n",
       "      <td>26.0</td>\n",
       "      <td>83468.0</td>\n",
       "      <td>201679.0</td>\n",
       "      <td>1936.0</td>\n",
       "      <td>87165.0</td>\n",
       "      <td>2.0</td>\n",
       "      <td>6.0</td>\n",
       "      <td>8.0</td>\n",
       "      <td>0.0</td>\n",
       "      <td>NaN</td>\n",
       "      <td>2</td>\n",
       "    </tr>\n",
       "    <tr>\n",
       "      <th>2582</th>\n",
       "      <td>1975</td>\n",
       "      <td>NaN</td>\n",
       "      <td>Menikah</td>\n",
       "      <td>151621433.0</td>\n",
       "      <td>0.0</td>\n",
       "      <td>0.0</td>\n",
       "      <td>62.0</td>\n",
       "      <td>65258.0</td>\n",
       "      <td>586076.0</td>\n",
       "      <td>NaN</td>\n",
       "      <td>NaN</td>\n",
       "      <td>1.0</td>\n",
       "      <td>7.0</td>\n",
       "      <td>9.0</td>\n",
       "      <td>0.0</td>\n",
       "      <td>NaN</td>\n",
       "      <td>4</td>\n",
       "    </tr>\n",
       "    <tr>\n",
       "      <th>2437</th>\n",
       "      <td>1955</td>\n",
       "      <td>Sarjana</td>\n",
       "      <td>Rencana Menikah</td>\n",
       "      <td>164384399.0</td>\n",
       "      <td>0.0</td>\n",
       "      <td>0.0</td>\n",
       "      <td>54.0</td>\n",
       "      <td>255390.0</td>\n",
       "      <td>1498007.0</td>\n",
       "      <td>89833.0</td>\n",
       "      <td>93140.0</td>\n",
       "      <td>0.0</td>\n",
       "      <td>1.0</td>\n",
       "      <td>8.0</td>\n",
       "      <td>0.0</td>\n",
       "      <td>NaN</td>\n",
       "      <td>4</td>\n",
       "    </tr>\n",
       "    <tr>\n",
       "      <th>359</th>\n",
       "      <td>1985</td>\n",
       "      <td>Sarjana</td>\n",
       "      <td>Rencana Menikah</td>\n",
       "      <td>81418000.0</td>\n",
       "      <td>1.0</td>\n",
       "      <td>0.0</td>\n",
       "      <td>93.0</td>\n",
       "      <td>4046.0</td>\n",
       "      <td>6069.0</td>\n",
       "      <td>8092.0</td>\n",
       "      <td>0.0</td>\n",
       "      <td>0.0</td>\n",
       "      <td>0.0</td>\n",
       "      <td>5.0</td>\n",
       "      <td>0.0</td>\n",
       "      <td>2013-08-15</td>\n",
       "      <td>0</td>\n",
       "    </tr>\n",
       "    <tr>\n",
       "      <th>2900</th>\n",
       "      <td>1970</td>\n",
       "      <td>SMP</td>\n",
       "      <td>Menikah</td>\n",
       "      <td>28133144.0</td>\n",
       "      <td>0.0</td>\n",
       "      <td>0.0</td>\n",
       "      <td>NaN</td>\n",
       "      <td>12027.0</td>\n",
       "      <td>NaN</td>\n",
       "      <td>42020.0</td>\n",
       "      <td>26012.0</td>\n",
       "      <td>0.0</td>\n",
       "      <td>0.0</td>\n",
       "      <td>3.0</td>\n",
       "      <td>0.0</td>\n",
       "      <td>NaN</td>\n",
       "      <td>2</td>\n",
       "    </tr>\n",
       "    <tr>\n",
       "      <th>1347</th>\n",
       "      <td>1966</td>\n",
       "      <td>Magister</td>\n",
       "      <td>Sendiri</td>\n",
       "      <td>97911806.0</td>\n",
       "      <td>0.0</td>\n",
       "      <td>0.0</td>\n",
       "      <td>79.0</td>\n",
       "      <td>172731.0</td>\n",
       "      <td>473171.0</td>\n",
       "      <td>111739.0</td>\n",
       "      <td>89012.0</td>\n",
       "      <td>1.0</td>\n",
       "      <td>8.0</td>\n",
       "      <td>11.0</td>\n",
       "      <td>0.0</td>\n",
       "      <td>NaN</td>\n",
       "      <td>6</td>\n",
       "    </tr>\n",
       "    <tr>\n",
       "      <th>3070</th>\n",
       "      <td>1991</td>\n",
       "      <td>SMA</td>\n",
       "      <td>Sendiri</td>\n",
       "      <td>104893200.0</td>\n",
       "      <td>NaN</td>\n",
       "      <td>NaN</td>\n",
       "      <td>31.0</td>\n",
       "      <td>68866.0</td>\n",
       "      <td>448366.0</td>\n",
       "      <td>62963.0</td>\n",
       "      <td>70834.0</td>\n",
       "      <td>7.0</td>\n",
       "      <td>7.0</td>\n",
       "      <td>3.0</td>\n",
       "      <td>0.0</td>\n",
       "      <td>NaN</td>\n",
       "      <td>4</td>\n",
       "    </tr>\n",
       "  </tbody>\n",
       "</table>\n",
       "</div>"
      ],
      "text/plain": [
       "      tahun_kelahiran pendidikan status_pernikahan   pendapatan  \\\n",
       "273              1968   Magister   Rencana Menikah  117164927.0   \n",
       "1124             1949        NaN               NaN  101415589.0   \n",
       "2003             1978        SMA           Sendiri   54487153.0   \n",
       "3449             1967    Sarjana   Rencana Menikah  130880562.0   \n",
       "2582             1975        NaN           Menikah  151621433.0   \n",
       "2437             1955    Sarjana   Rencana Menikah  164384399.0   \n",
       "359              1985    Sarjana   Rencana Menikah   81418000.0   \n",
       "2900             1970        SMP           Menikah   28133144.0   \n",
       "1347             1966   Magister           Sendiri   97911806.0   \n",
       "3070             1991        SMA           Sendiri  104893200.0   \n",
       "\n",
       "      jumlah_anak_balita  jumlah_anak_remaja  terakhir_belanja  belanja_buah  \\\n",
       "273                  0.0                 1.0              69.0        2059.0   \n",
       "1124                 0.0                 0.0              63.0      193816.0   \n",
       "2003                 0.0                 0.0              61.0       53505.0   \n",
       "3449                 0.0                 1.0              26.0       83468.0   \n",
       "2582                 0.0                 0.0              62.0       65258.0   \n",
       "2437                 0.0                 0.0              54.0      255390.0   \n",
       "359                  1.0                 0.0              93.0        4046.0   \n",
       "2900                 0.0                 0.0               NaN       12027.0   \n",
       "1347                 0.0                 0.0              79.0      172731.0   \n",
       "3070                 NaN                 NaN              31.0       68866.0   \n",
       "\n",
       "      belanja_daging  belanja_ikan  belanja_kue  pembelian_diskon  \\\n",
       "273          90214.0          72.0       4592.0               1.0   \n",
       "1124        754006.0      255557.0     189774.0               0.0   \n",
       "2003        226637.0       67080.0      41739.0               1.0   \n",
       "3449        201679.0        1936.0      87165.0               2.0   \n",
       "2582        586076.0           NaN          NaN               1.0   \n",
       "2437       1498007.0       89833.0      93140.0               0.0   \n",
       "359           6069.0        8092.0          0.0               0.0   \n",
       "2900             NaN       42020.0      26012.0               0.0   \n",
       "1347        473171.0      111739.0      89012.0               1.0   \n",
       "3070        448366.0       62963.0      70834.0               7.0   \n",
       "\n",
       "      pembelian_web  pembelian_toko  keluhan tanggal_menjadi_anggota  \\\n",
       "273             2.0            11.0      0.0                     NaN   \n",
       "1124            4.0             9.0      0.0                     NaN   \n",
       "2003            5.0             4.0      0.0                     NaN   \n",
       "3449            6.0             8.0      0.0                     NaN   \n",
       "2582            7.0             9.0      0.0                     NaN   \n",
       "2437            1.0             8.0      0.0                     NaN   \n",
       "359             0.0             5.0      0.0              2013-08-15   \n",
       "2900            0.0             3.0      0.0                     NaN   \n",
       "1347            8.0            11.0      0.0                     NaN   \n",
       "3070            7.0             3.0      0.0                     NaN   \n",
       "\n",
       "      jumlah_promosi  \n",
       "273                3  \n",
       "1124               3  \n",
       "2003               1  \n",
       "3449               2  \n",
       "2582               4  \n",
       "2437               4  \n",
       "359                0  \n",
       "2900               2  \n",
       "1347               6  \n",
       "3070               4  "
      ]
     },
     "execution_count": 110,
     "metadata": {},
     "output_type": "execute_result"
    }
   ],
   "source": [
    "train.sample(10)"
   ]
  },
  {
   "cell_type": "code",
   "execution_count": 111,
   "metadata": {},
   "outputs": [
    {
     "data": {
      "text/plain": [
       "Text(0, 0.5, 'Percentage')"
      ]
     },
     "execution_count": 111,
     "metadata": {},
     "output_type": "execute_result"
    },
    {
     "data": {
      "image/png": "[encoded data removed]",
      "text/plain": [
       "<Figure size 640x480 with 1 Axes>"
      ]
     },
     "metadata": {},
     "output_type": "display_data"
    }
   ],
   "source": [
    "train['jumlah_promosi'].value_counts(normalize = True).plot(kind = 'bar')\n",
    "plt.ylabel('Percentage')"
   ]
  },
  {
   "cell_type": "code",
   "execution_count": 112,
   "metadata": {},
   "outputs": [
    {
     "data": {
      "image/png": "[encoded data removed]",
      "text/plain": [
       "<Figure size 1200x2800 with 14 Axes>"
      ]
     },
     "metadata": {},
     "output_type": "display_data"
    }
   ],
   "source": [
    "numerical_data = train.select_dtypes(include=[np.number])  # Select numerical columns\n",
    "\n",
    "num_cols = numerical_data.shape[1]\n",
    "num_rows = int(np.ceil(num_cols / 2))\n",
    "\n",
    "fig, axes = plt.subplots(num_rows, 2, figsize=(12, num_rows * 4))\n",
    "fig.suptitle('Boxplots of Numerical Values', fontsize=16)\n",
    "\n",
    "for i, column in enumerate(numerical_data.columns):\n",
    "    ax = axes[i // 2, i % 2] if num_rows > 1 else axes[i % 2]\n",
    "    numerical_data.boxplot(column=column, ax=ax)\n",
    "    ax.set_title(column)\n",
    "    \n",
    "\n",
    "plt.tight_layout()\n",
    "plt.show()"
   ]
  },
  {
   "cell_type": "code",
   "execution_count": 113,
   "metadata": {},
   "outputs": [
    {
     "data": {
      "text/plain": [
       "pendidikan\n",
       "Sarjana     1841\n",
       "Magister     856\n",
       "SMA          435\n",
       "Doktor       403\n",
       "SMP           91\n",
       "5              2\n",
       "Name: count, dtype: int64"
      ]
     },
     "execution_count": 113,
     "metadata": {},
     "output_type": "execute_result"
    }
   ],
   "source": [
    "train.value_counts('pendidikan')"
   ]
  },
  {
   "cell_type": "code",
   "execution_count": 114,
   "metadata": {},
   "outputs": [
    {
     "data": {
      "text/plain": [
       "status_pernikahan\n",
       "Rencana Menikah    1271\n",
       "Menikah            1114\n",
       "Sendiri             965\n",
       "Cerai               214\n",
       "Cerai Mati           40\n",
       "5                     1\n",
       "Name: count, dtype: int64"
      ]
     },
     "execution_count": 114,
     "metadata": {},
     "output_type": "execute_result"
    }
   ],
   "source": [
    "train.value_counts('status_pernikahan')"
   ]
  },
  {
   "cell_type": "code",
   "execution_count": 115,
   "metadata": {},
   "outputs": [
    {
     "data": {
      "text/html": [
       "<div>\n",
       "<style scoped>\n",
       "    .dataframe tbody tr th:only-of-type {\n",
       "        vertical-align: middle;\n",
       "    }\n",
       "\n",
       "    .dataframe tbody tr th {\n",
       "        vertical-align: top;\n",
       "    }\n",
       "\n",
       "    .dataframe thead th {\n",
       "        text-align: right;\n",
       "    }\n",
       "</style>\n",
       "<table border=\"1\" class=\"dataframe\">\n",
       "  <thead>\n",
       "    <tr style=\"text-align: right;\">\n",
       "      <th>jumlah_promosi</th>\n",
       "      <th>0</th>\n",
       "      <th>1</th>\n",
       "      <th>2</th>\n",
       "      <th>3</th>\n",
       "      <th>4</th>\n",
       "      <th>5</th>\n",
       "      <th>6</th>\n",
       "    </tr>\n",
       "    <tr>\n",
       "      <th>pendidikan</th>\n",
       "      <th></th>\n",
       "      <th></th>\n",
       "      <th></th>\n",
       "      <th></th>\n",
       "      <th></th>\n",
       "      <th></th>\n",
       "      <th></th>\n",
       "    </tr>\n",
       "  </thead>\n",
       "  <tbody>\n",
       "    <tr>\n",
       "      <th>5</th>\n",
       "      <td>2</td>\n",
       "      <td>0</td>\n",
       "      <td>0</td>\n",
       "      <td>0</td>\n",
       "      <td>0</td>\n",
       "      <td>0</td>\n",
       "      <td>0</td>\n",
       "    </tr>\n",
       "    <tr>\n",
       "      <th>Doktor</th>\n",
       "      <td>162</td>\n",
       "      <td>54</td>\n",
       "      <td>37</td>\n",
       "      <td>62</td>\n",
       "      <td>10</td>\n",
       "      <td>43</td>\n",
       "      <td>35</td>\n",
       "    </tr>\n",
       "    <tr>\n",
       "      <th>Magister</th>\n",
       "      <td>170</td>\n",
       "      <td>91</td>\n",
       "      <td>71</td>\n",
       "      <td>148</td>\n",
       "      <td>126</td>\n",
       "      <td>159</td>\n",
       "      <td>91</td>\n",
       "    </tr>\n",
       "    <tr>\n",
       "      <th>SMA</th>\n",
       "      <td>119</td>\n",
       "      <td>63</td>\n",
       "      <td>76</td>\n",
       "      <td>44</td>\n",
       "      <td>55</td>\n",
       "      <td>45</td>\n",
       "      <td>33</td>\n",
       "    </tr>\n",
       "    <tr>\n",
       "      <th>SMP</th>\n",
       "      <td>47</td>\n",
       "      <td>10</td>\n",
       "      <td>18</td>\n",
       "      <td>9</td>\n",
       "      <td>0</td>\n",
       "      <td>0</td>\n",
       "      <td>7</td>\n",
       "    </tr>\n",
       "    <tr>\n",
       "      <th>Sarjana</th>\n",
       "      <td>424</td>\n",
       "      <td>271</td>\n",
       "      <td>170</td>\n",
       "      <td>195</td>\n",
       "      <td>301</td>\n",
       "      <td>289</td>\n",
       "      <td>191</td>\n",
       "    </tr>\n",
       "  </tbody>\n",
       "</table>\n",
       "</div>"
      ],
      "text/plain": [
       "jumlah_promosi    0    1    2    3    4    5    6\n",
       "pendidikan                                       \n",
       "5                 2    0    0    0    0    0    0\n",
       "Doktor          162   54   37   62   10   43   35\n",
       "Magister        170   91   71  148  126  159   91\n",
       "SMA             119   63   76   44   55   45   33\n",
       "SMP              47   10   18    9    0    0    7\n",
       "Sarjana         424  271  170  195  301  289  191"
      ]
     },
     "execution_count": 115,
     "metadata": {},
     "output_type": "execute_result"
    }
   ],
   "source": [
    "table = contingency_table = pd.crosstab(train['pendidikan'], train['jumlah_promosi'])\n",
    "table"
   ]
  },
  {
   "cell_type": "markdown",
   "metadata": {},
   "source": [
    "### Preprocessing"
   ]
  },
  {
   "cell_type": "code",
   "execution_count": 116,
   "metadata": {},
   "outputs": [],
   "source": [
    "def preprocessing(df):\n",
    "    df = df.drop(['tanggal_menjadi_anggota','keluhan',], axis=1)\n",
    "    df['pendidikan'] = df['pendidikan'].map({'SMP': 1, 'SMA': 2, 'Sarjana': 3, 'Magister': 4, 'Doktor': 5})\n",
    "    df['status_pernikahan'] = df['status_pernikahan'].map({'Sendiri': 1, 'Rencana Menikah': 2, 'Menikah': 3, 'Cerai': 4, 'Cerai Mati': 5})\n",
    "    df['belanja_pokok'] = df['belanja_daging'] + df['belanja_ikan']\n",
    "    df['belanja_non_pokok'] = df['belanja_kue'] + df['belanja_buah']\n",
    "    # Pemeblian diatas 15 diubah jadi 15\n",
    "    # df.loc[df['pembelian_web'] > 15, 'pembelian_web'] = 15\n",
    "    # df.loc[df['pembelian_toko'] > 15, 'pembelian_toko'] = 15\n",
    "    \n",
    "    # Fill Null Val dengan interpolate\n",
    "    # df['pendapatan'] = df['pendapatan'].interpolate(method ='pad', limit_direction ='forward')\n",
    "    # df['terakhir_belanja'] = df['terakhir_belanja'].interpolate(method ='pad', limit_direction ='forward')\n",
    "    # df['belanja_buah'] = df['belanja_buah'].interpolate(method ='pad', limit_direction ='forward')\n",
    "    # df['belanja_daging'] = df['belanja_daging'].interpolate(method ='pad', limit_direction ='forward')\n",
    "    # df['belanja_ikan'] = df['belanja_ikan'].interpolate(method ='pad', limit_direction ='forward')\n",
    "    # df['belanja_kue'] = df['belanja_kue'].interpolate(method ='pad', limit_direction ='forward')\n",
    "    # df['pembelian_diskon'] = df['pembelian_diskon'].interpolate(method ='pad', limit_direction ='forward')\n",
    "    # df['pembelian_toko'] = df['pembelian_toko'].interpolate(method ='pad', limit_direction ='forward')\n",
    "    # df['pembelian_web'] = df['pembelian_web'].interpolate(method ='pad', limit_direction ='forward')\n",
    "    \n",
    "    # Fill Null Val dengan median\n",
    "    df = df.fillna(df.median())\n",
    "\n",
    "    df = df.drop(['jumlah_anak_remaja','jumlah_anak_balita','belanja_daging','belanja_ikan','belanja_kue','belanja_buah'], axis=1)\n",
    "    \n",
    "    # Change data type to int64\n",
    "    numerical_data = df.select_dtypes(include=[np.number])  # Select numerical columns\n",
    "    for i, column in enumerate(numerical_data.columns):\n",
    "        df[column] = df[column].astype('int64')\n",
    "\n",
    "    return df"
   ]
  },
  {
   "cell_type": "code",
   "execution_count": 117,
   "metadata": {},
   "outputs": [
    {
     "data": {
      "text/html": [
       "<style type=\"text/css\">\n",
       "#T_cb627_row0_col1, #T_cb627_row0_col2, #T_cb627_row0_col4, #T_cb627_row0_col5, #T_cb627_row0_col6, #T_cb627_row0_col7, #T_cb627_row1_col1, #T_cb627_row1_col2, #T_cb627_row1_col3, #T_cb627_row1_col4, #T_cb627_row1_col5, #T_cb627_row1_col6, #T_cb627_row1_col7, #T_cb627_row2_col1, #T_cb627_row2_col2, #T_cb627_row2_col3, #T_cb627_row2_col4, #T_cb627_row2_col5, #T_cb627_row2_col6, #T_cb627_row2_col7, #T_cb627_row3_col1, #T_cb627_row3_col2, #T_cb627_row4_col1, #T_cb627_row4_col2, #T_cb627_row4_col4, #T_cb627_row4_col5, #T_cb627_row4_col6, #T_cb627_row4_col7, #T_cb627_row5_col1, #T_cb627_row5_col2, #T_cb627_row5_col3, #T_cb627_row5_col4, #T_cb627_row5_col5, #T_cb627_row5_col6, #T_cb627_row5_col7, #T_cb627_row6_col1, #T_cb627_row6_col2, #T_cb627_row6_col3, #T_cb627_row6_col4, #T_cb627_row6_col5, #T_cb627_row6_col6, #T_cb627_row6_col7, #T_cb627_row7_col1, #T_cb627_row7_col2, #T_cb627_row7_col3, #T_cb627_row7_col4, #T_cb627_row7_col5, #T_cb627_row7_col6, #T_cb627_row7_col7, #T_cb627_row8_col1, #T_cb627_row8_col2, #T_cb627_row8_col3, #T_cb627_row8_col4, #T_cb627_row8_col5, #T_cb627_row8_col6, #T_cb627_row8_col7, #T_cb627_row9_col1, #T_cb627_row9_col2, #T_cb627_row9_col4, #T_cb627_row10_col1, #T_cb627_row10_col2, #T_cb627_row10_col4, #T_cb627_row10_col5, #T_cb627_row10_col6, #T_cb627_row10_col7 {\n",
       "  background-color: #fff7fb;\n",
       "  color: #000000;\n",
       "}\n",
       "#T_cb627_row0_col3 {\n",
       "  background-color: #fcf4fa;\n",
       "  color: #000000;\n",
       "}\n",
       "#T_cb627_row3_col3, #T_cb627_row3_col4, #T_cb627_row3_col5, #T_cb627_row3_col6, #T_cb627_row3_col7 {\n",
       "  background-color: #023858;\n",
       "  color: #f1f1f1;\n",
       "}\n",
       "#T_cb627_row4_col3 {\n",
       "  background-color: #fbf3f9;\n",
       "  color: #000000;\n",
       "}\n",
       "#T_cb627_row9_col3 {\n",
       "  background-color: #0569a5;\n",
       "  color: #f1f1f1;\n",
       "}\n",
       "#T_cb627_row9_col5 {\n",
       "  background-color: #fef6fa;\n",
       "  color: #000000;\n",
       "}\n",
       "#T_cb627_row9_col6 {\n",
       "  background-color: #fef6fb;\n",
       "  color: #000000;\n",
       "}\n",
       "#T_cb627_row9_col7 {\n",
       "  background-color: #fdf5fa;\n",
       "  color: #000000;\n",
       "}\n",
       "#T_cb627_row10_col3 {\n",
       "  background-color: #1379b5;\n",
       "  color: #f1f1f1;\n",
       "}\n",
       "</style>\n",
       "<table id=\"T_cb627\">\n",
       "  <thead>\n",
       "    <tr>\n",
       "      <th class=\"blank level0\" >&nbsp;</th>\n",
       "      <th id=\"T_cb627_level0_col0\" class=\"col_heading level0 col0\" >data type</th>\n",
       "      <th id=\"T_cb627_level0_col1\" class=\"col_heading level0 col1\" >#missing</th>\n",
       "      <th id=\"T_cb627_level0_col2\" class=\"col_heading level0 col2\" >Duplicate</th>\n",
       "      <th id=\"T_cb627_level0_col3\" class=\"col_heading level0 col3\" >#unique</th>\n",
       "      <th id=\"T_cb627_level0_col4\" class=\"col_heading level0 col4\" >min</th>\n",
       "      <th id=\"T_cb627_level0_col5\" class=\"col_heading level0 col5\" >max</th>\n",
       "      <th id=\"T_cb627_level0_col6\" class=\"col_heading level0 col6\" >avg</th>\n",
       "      <th id=\"T_cb627_level0_col7\" class=\"col_heading level0 col7\" >std dev</th>\n",
       "    </tr>\n",
       "  </thead>\n",
       "  <tbody>\n",
       "    <tr>\n",
       "      <th id=\"T_cb627_level0_row0\" class=\"row_heading level0 row0\" >tahun_kelahiran</th>\n",
       "      <td id=\"T_cb627_row0_col0\" class=\"data row0 col0\" >int64</td>\n",
       "      <td id=\"T_cb627_row0_col1\" class=\"data row0 col1\" >0</td>\n",
       "      <td id=\"T_cb627_row0_col2\" class=\"data row0 col2\" >0</td>\n",
       "      <td id=\"T_cb627_row0_col3\" class=\"data row0 col3\" >76</td>\n",
       "      <td id=\"T_cb627_row0_col4\" class=\"data row0 col4\" >1899.000000</td>\n",
       "      <td id=\"T_cb627_row0_col5\" class=\"data row0 col5\" >2000.000000</td>\n",
       "      <td id=\"T_cb627_row0_col6\" class=\"data row0 col6\" >1967.823946</td>\n",
       "      <td id=\"T_cb627_row0_col7\" class=\"data row0 col7\" >11.768131</td>\n",
       "    </tr>\n",
       "    <tr>\n",
       "      <th id=\"T_cb627_level0_row1\" class=\"row_heading level0 row1\" >pendidikan</th>\n",
       "      <td id=\"T_cb627_row1_col0\" class=\"data row1 col0\" >int64</td>\n",
       "      <td id=\"T_cb627_row1_col1\" class=\"data row1 col1\" >0</td>\n",
       "      <td id=\"T_cb627_row1_col2\" class=\"data row1 col2\" >0</td>\n",
       "      <td id=\"T_cb627_row1_col3\" class=\"data row1 col3\" >5</td>\n",
       "      <td id=\"T_cb627_row1_col4\" class=\"data row1 col4\" >1.000000</td>\n",
       "      <td id=\"T_cb627_row1_col5\" class=\"data row1 col5\" >5.000000</td>\n",
       "      <td id=\"T_cb627_row1_col6\" class=\"data row1 col6\" >3.273775</td>\n",
       "      <td id=\"T_cb627_row1_col7\" class=\"data row1 col7\" >0.883832</td>\n",
       "    </tr>\n",
       "    <tr>\n",
       "      <th id=\"T_cb627_level0_row2\" class=\"row_heading level0 row2\" >status_pernikahan</th>\n",
       "      <td id=\"T_cb627_row2_col0\" class=\"data row2 col0\" >int64</td>\n",
       "      <td id=\"T_cb627_row2_col1\" class=\"data row2 col1\" >0</td>\n",
       "      <td id=\"T_cb627_row2_col2\" class=\"data row2 col2\" >0</td>\n",
       "      <td id=\"T_cb627_row2_col3\" class=\"data row2 col3\" >5</td>\n",
       "      <td id=\"T_cb627_row2_col4\" class=\"data row2 col4\" >1.000000</td>\n",
       "      <td id=\"T_cb627_row2_col5\" class=\"data row2 col5\" >5.000000</td>\n",
       "      <td id=\"T_cb627_row2_col6\" class=\"data row2 col6\" >2.182604</td>\n",
       "      <td id=\"T_cb627_row2_col7\" class=\"data row2 col7\" >0.911107</td>\n",
       "    </tr>\n",
       "    <tr>\n",
       "      <th id=\"T_cb627_level0_row3\" class=\"row_heading level0 row3\" >pendapatan</th>\n",
       "      <td id=\"T_cb627_row3_col0\" class=\"data row3 col0\" >int64</td>\n",
       "      <td id=\"T_cb627_row3_col1\" class=\"data row3 col1\" >0</td>\n",
       "      <td id=\"T_cb627_row3_col2\" class=\"data row3 col2\" >0</td>\n",
       "      <td id=\"T_cb627_row3_col3\" class=\"data row3 col3\" >3622</td>\n",
       "      <td id=\"T_cb627_row3_col4\" class=\"data row3 col4\" >5073000.000000</td>\n",
       "      <td id=\"T_cb627_row3_col5\" class=\"data row3 col5\" >332884000.000000</td>\n",
       "      <td id=\"T_cb627_row3_col6\" class=\"data row3 col6\" >114539827.816348</td>\n",
       "      <td id=\"T_cb627_row3_col7\" class=\"data row3 col7\" >42365378.562972</td>\n",
       "    </tr>\n",
       "    <tr>\n",
       "      <th id=\"T_cb627_level0_row4\" class=\"row_heading level0 row4\" >terakhir_belanja</th>\n",
       "      <td id=\"T_cb627_row4_col0\" class=\"data row4 col0\" >int64</td>\n",
       "      <td id=\"T_cb627_row4_col1\" class=\"data row4 col1\" >0</td>\n",
       "      <td id=\"T_cb627_row4_col2\" class=\"data row4 col2\" >0</td>\n",
       "      <td id=\"T_cb627_row4_col3\" class=\"data row4 col3\" >113</td>\n",
       "      <td id=\"T_cb627_row4_col4\" class=\"data row4 col4\" >0.000000</td>\n",
       "      <td id=\"T_cb627_row4_col5\" class=\"data row4 col5\" >128.000000</td>\n",
       "      <td id=\"T_cb627_row4_col6\" class=\"data row4 col6\" >47.221116</td>\n",
       "      <td id=\"T_cb627_row4_col7\" class=\"data row4 col7\" >26.451487</td>\n",
       "    </tr>\n",
       "    <tr>\n",
       "      <th id=\"T_cb627_level0_row5\" class=\"row_heading level0 row5\" >pembelian_diskon</th>\n",
       "      <td id=\"T_cb627_row5_col0\" class=\"data row5 col0\" >int64</td>\n",
       "      <td id=\"T_cb627_row5_col1\" class=\"data row5 col1\" >0</td>\n",
       "      <td id=\"T_cb627_row5_col2\" class=\"data row5 col2\" >0</td>\n",
       "      <td id=\"T_cb627_row5_col3\" class=\"data row5 col3\" >18</td>\n",
       "      <td id=\"T_cb627_row5_col4\" class=\"data row5 col4\" >0.000000</td>\n",
       "      <td id=\"T_cb627_row5_col5\" class=\"data row5 col5\" >20.000000</td>\n",
       "      <td id=\"T_cb627_row5_col6\" class=\"data row5 col6\" >2.119728</td>\n",
       "      <td id=\"T_cb627_row5_col7\" class=\"data row5 col7\" >2.050738</td>\n",
       "    </tr>\n",
       "    <tr>\n",
       "      <th id=\"T_cb627_level0_row6\" class=\"row_heading level0 row6\" >pembelian_web</th>\n",
       "      <td id=\"T_cb627_row6_col0\" class=\"data row6 col0\" >int64</td>\n",
       "      <td id=\"T_cb627_row6_col1\" class=\"data row6 col1\" >0</td>\n",
       "      <td id=\"T_cb627_row6_col2\" class=\"data row6 col2\" >0</td>\n",
       "      <td id=\"T_cb627_row6_col3\" class=\"data row6 col3\" >18</td>\n",
       "      <td id=\"T_cb627_row6_col4\" class=\"data row6 col4\" >0.000000</td>\n",
       "      <td id=\"T_cb627_row6_col5\" class=\"data row6 col5\" >30.000000</td>\n",
       "      <td id=\"T_cb627_row6_col6\" class=\"data row6 col6\" >4.417605</td>\n",
       "      <td id=\"T_cb627_row6_col7\" class=\"data row6 col7\" >2.938233</td>\n",
       "    </tr>\n",
       "    <tr>\n",
       "      <th id=\"T_cb627_level0_row7\" class=\"row_heading level0 row7\" >pembelian_toko</th>\n",
       "      <td id=\"T_cb627_row7_col0\" class=\"data row7 col0\" >int64</td>\n",
       "      <td id=\"T_cb627_row7_col1\" class=\"data row7 col1\" >0</td>\n",
       "      <td id=\"T_cb627_row7_col2\" class=\"data row7 col2\" >0</td>\n",
       "      <td id=\"T_cb627_row7_col3\" class=\"data row7 col3\" >18</td>\n",
       "      <td id=\"T_cb627_row7_col4\" class=\"data row7 col4\" >0.000000</td>\n",
       "      <td id=\"T_cb627_row7_col5\" class=\"data row7 col5\" >17.000000</td>\n",
       "      <td id=\"T_cb627_row7_col6\" class=\"data row7 col6\" >5.733822</td>\n",
       "      <td id=\"T_cb627_row7_col7\" class=\"data row7 col7\" >3.142808</td>\n",
       "    </tr>\n",
       "    <tr>\n",
       "      <th id=\"T_cb627_level0_row8\" class=\"row_heading level0 row8\" >jumlah_promosi</th>\n",
       "      <td id=\"T_cb627_row8_col0\" class=\"data row8 col0\" >int64</td>\n",
       "      <td id=\"T_cb627_row8_col1\" class=\"data row8 col1\" >0</td>\n",
       "      <td id=\"T_cb627_row8_col2\" class=\"data row8 col2\" >0</td>\n",
       "      <td id=\"T_cb627_row8_col3\" class=\"data row8 col3\" >7</td>\n",
       "      <td id=\"T_cb627_row8_col4\" class=\"data row8 col4\" >0.000000</td>\n",
       "      <td id=\"T_cb627_row8_col5\" class=\"data row8 col5\" >6.000000</td>\n",
       "      <td id=\"T_cb627_row8_col6\" class=\"data row8 col6\" >2.585800</td>\n",
       "      <td id=\"T_cb627_row8_col7\" class=\"data row8 col7\" >2.101845</td>\n",
       "    </tr>\n",
       "    <tr>\n",
       "      <th id=\"T_cb627_level0_row9\" class=\"row_heading level0 row9\" >belanja_pokok</th>\n",
       "      <td id=\"T_cb627_row9_col0\" class=\"data row9 col0\" >int64</td>\n",
       "      <td id=\"T_cb627_row9_col1\" class=\"data row9 col1\" >0</td>\n",
       "      <td id=\"T_cb627_row9_col2\" class=\"data row9 col2\" >0</td>\n",
       "      <td id=\"T_cb627_row9_col3\" class=\"data row9 col3\" >2856</td>\n",
       "      <td id=\"T_cb627_row9_col4\" class=\"data row9 col4\" >0.000000</td>\n",
       "      <td id=\"T_cb627_row9_col5\" class=\"data row9 col5\" >3489675.000000</td>\n",
       "      <td id=\"T_cb627_row9_col6\" class=\"data row9 col6\" >497501.860624</td>\n",
       "      <td id=\"T_cb627_row9_col7\" class=\"data row9 col7\" >551878.893659</td>\n",
       "    </tr>\n",
       "    <tr>\n",
       "      <th id=\"T_cb627_level0_row10\" class=\"row_heading level0 row10\" >belanja_non_pokok</th>\n",
       "      <td id=\"T_cb627_row10_col0\" class=\"data row10 col0\" >int64</td>\n",
       "      <td id=\"T_cb627_row10_col1\" class=\"data row10 col1\" >0</td>\n",
       "      <td id=\"T_cb627_row10_col2\" class=\"data row10 col2\" >0</td>\n",
       "      <td id=\"T_cb627_row10_col3\" class=\"data row10 col3\" >2585</td>\n",
       "      <td id=\"T_cb627_row10_col4\" class=\"data row10 col4\" >0.000000</td>\n",
       "      <td id=\"T_cb627_row10_col5\" class=\"data row10 col5\" >714119.000000</td>\n",
       "      <td id=\"T_cb627_row10_col6\" class=\"data row10 col6\" >117002.308881</td>\n",
       "      <td id=\"T_cb627_row10_col7\" class=\"data row10 col7\" >131916.473662</td>\n",
       "    </tr>\n",
       "  </tbody>\n",
       "</table>\n"
      ],
      "text/plain": [
       "<pandas.io.formats.style.Styler at 0x19225181c70>"
      ]
     },
     "execution_count": 117,
     "metadata": {},
     "output_type": "execute_result"
    }
   ],
   "source": [
    "# Preprocess train set\n",
    "train = preprocessing(train)\n",
    "summary(train).style.background_gradient()"
   ]
  },
  {
   "cell_type": "code",
   "execution_count": 118,
   "metadata": {},
   "outputs": [
    {
     "data": {
      "text/html": [
       "<style type=\"text/css\">\n",
       "#T_99a7f_row0_col1, #T_99a7f_row0_col2, #T_99a7f_row0_col4, #T_99a7f_row0_col5, #T_99a7f_row0_col6, #T_99a7f_row0_col7, #T_99a7f_row1_col1, #T_99a7f_row1_col2, #T_99a7f_row1_col3, #T_99a7f_row1_col4, #T_99a7f_row1_col5, #T_99a7f_row1_col6, #T_99a7f_row1_col7, #T_99a7f_row2_col1, #T_99a7f_row2_col2, #T_99a7f_row2_col3, #T_99a7f_row2_col4, #T_99a7f_row2_col5, #T_99a7f_row2_col6, #T_99a7f_row2_col7, #T_99a7f_row3_col1, #T_99a7f_row3_col2, #T_99a7f_row4_col1, #T_99a7f_row4_col2, #T_99a7f_row4_col4, #T_99a7f_row4_col5, #T_99a7f_row4_col6, #T_99a7f_row4_col7, #T_99a7f_row5_col1, #T_99a7f_row5_col2, #T_99a7f_row5_col3, #T_99a7f_row5_col4, #T_99a7f_row5_col5, #T_99a7f_row5_col6, #T_99a7f_row5_col7, #T_99a7f_row6_col1, #T_99a7f_row6_col2, #T_99a7f_row6_col3, #T_99a7f_row6_col4, #T_99a7f_row6_col5, #T_99a7f_row6_col6, #T_99a7f_row6_col7, #T_99a7f_row7_col1, #T_99a7f_row7_col2, #T_99a7f_row7_col3, #T_99a7f_row7_col4, #T_99a7f_row7_col5, #T_99a7f_row7_col6, #T_99a7f_row7_col7, #T_99a7f_row8_col1, #T_99a7f_row8_col2, #T_99a7f_row8_col4, #T_99a7f_row8_col5, #T_99a7f_row9_col1, #T_99a7f_row9_col2, #T_99a7f_row9_col4, #T_99a7f_row9_col5, #T_99a7f_row9_col6, #T_99a7f_row9_col7 {\n",
       "  background-color: #fff7fb;\n",
       "  color: #000000;\n",
       "}\n",
       "#T_99a7f_row0_col3 {\n",
       "  background-color: #fcf4fa;\n",
       "  color: #000000;\n",
       "}\n",
       "#T_99a7f_row3_col3, #T_99a7f_row3_col4, #T_99a7f_row3_col5, #T_99a7f_row3_col6, #T_99a7f_row3_col7 {\n",
       "  background-color: #023858;\n",
       "  color: #f1f1f1;\n",
       "}\n",
       "#T_99a7f_row4_col3 {\n",
       "  background-color: #fbf3f9;\n",
       "  color: #000000;\n",
       "}\n",
       "#T_99a7f_row8_col3 {\n",
       "  background-color: #0569a5;\n",
       "  color: #f1f1f1;\n",
       "}\n",
       "#T_99a7f_row8_col6 {\n",
       "  background-color: #fef6fb;\n",
       "  color: #000000;\n",
       "}\n",
       "#T_99a7f_row8_col7 {\n",
       "  background-color: #fef6fa;\n",
       "  color: #000000;\n",
       "}\n",
       "#T_99a7f_row9_col3 {\n",
       "  background-color: #0d75b3;\n",
       "  color: #f1f1f1;\n",
       "}\n",
       "</style>\n",
       "<table id=\"T_99a7f\">\n",
       "  <thead>\n",
       "    <tr>\n",
       "      <th class=\"blank level0\" >&nbsp;</th>\n",
       "      <th id=\"T_99a7f_level0_col0\" class=\"col_heading level0 col0\" >data type</th>\n",
       "      <th id=\"T_99a7f_level0_col1\" class=\"col_heading level0 col1\" >#missing</th>\n",
       "      <th id=\"T_99a7f_level0_col2\" class=\"col_heading level0 col2\" >Duplicate</th>\n",
       "      <th id=\"T_99a7f_level0_col3\" class=\"col_heading level0 col3\" >#unique</th>\n",
       "      <th id=\"T_99a7f_level0_col4\" class=\"col_heading level0 col4\" >min</th>\n",
       "      <th id=\"T_99a7f_level0_col5\" class=\"col_heading level0 col5\" >max</th>\n",
       "      <th id=\"T_99a7f_level0_col6\" class=\"col_heading level0 col6\" >avg</th>\n",
       "      <th id=\"T_99a7f_level0_col7\" class=\"col_heading level0 col7\" >std dev</th>\n",
       "    </tr>\n",
       "  </thead>\n",
       "  <tbody>\n",
       "    <tr>\n",
       "      <th id=\"T_99a7f_level0_row0\" class=\"row_heading level0 row0\" >tahun_kelahiran</th>\n",
       "      <td id=\"T_99a7f_row0_col0\" class=\"data row0 col0\" >int64</td>\n",
       "      <td id=\"T_99a7f_row0_col1\" class=\"data row0 col1\" >0</td>\n",
       "      <td id=\"T_99a7f_row0_col2\" class=\"data row0 col2\" >0</td>\n",
       "      <td id=\"T_99a7f_row0_col3\" class=\"data row0 col3\" >85</td>\n",
       "      <td id=\"T_99a7f_row0_col4\" class=\"data row0 col4\" >1892.000000</td>\n",
       "      <td id=\"T_99a7f_row0_col5\" class=\"data row0 col5\" >2009.000000</td>\n",
       "      <td id=\"T_99a7f_row0_col6\" class=\"data row0 col6\" >1967.789942</td>\n",
       "      <td id=\"T_99a7f_row0_col7\" class=\"data row0 col7\" >11.808572</td>\n",
       "    </tr>\n",
       "    <tr>\n",
       "      <th id=\"T_99a7f_level0_row1\" class=\"row_heading level0 row1\" >pendidikan</th>\n",
       "      <td id=\"T_99a7f_row1_col0\" class=\"data row1 col0\" >int64</td>\n",
       "      <td id=\"T_99a7f_row1_col1\" class=\"data row1 col1\" >0</td>\n",
       "      <td id=\"T_99a7f_row1_col2\" class=\"data row1 col2\" >0</td>\n",
       "      <td id=\"T_99a7f_row1_col3\" class=\"data row1 col3\" >5</td>\n",
       "      <td id=\"T_99a7f_row1_col4\" class=\"data row1 col4\" >1.000000</td>\n",
       "      <td id=\"T_99a7f_row1_col5\" class=\"data row1 col5\" >5.000000</td>\n",
       "      <td id=\"T_99a7f_row1_col6\" class=\"data row1 col6\" >3.282609</td>\n",
       "      <td id=\"T_99a7f_row1_col7\" class=\"data row1 col7\" >0.851891</td>\n",
       "    </tr>\n",
       "    <tr>\n",
       "      <th id=\"T_99a7f_level0_row2\" class=\"row_heading level0 row2\" >status_pernikahan</th>\n",
       "      <td id=\"T_99a7f_row2_col0\" class=\"data row2 col0\" >int64</td>\n",
       "      <td id=\"T_99a7f_row2_col1\" class=\"data row2 col1\" >0</td>\n",
       "      <td id=\"T_99a7f_row2_col2\" class=\"data row2 col2\" >0</td>\n",
       "      <td id=\"T_99a7f_row2_col3\" class=\"data row2 col3\" >5</td>\n",
       "      <td id=\"T_99a7f_row2_col4\" class=\"data row2 col4\" >1.000000</td>\n",
       "      <td id=\"T_99a7f_row2_col5\" class=\"data row2 col5\" >5.000000</td>\n",
       "      <td id=\"T_99a7f_row2_col6\" class=\"data row2 col6\" >2.194605</td>\n",
       "      <td id=\"T_99a7f_row2_col7\" class=\"data row2 col7\" >0.930997</td>\n",
       "    </tr>\n",
       "    <tr>\n",
       "      <th id=\"T_99a7f_level0_row3\" class=\"row_heading level0 row3\" >pendapatan</th>\n",
       "      <td id=\"T_99a7f_row3_col0\" class=\"data row3 col0\" >int64</td>\n",
       "      <td id=\"T_99a7f_row3_col1\" class=\"data row3 col1\" >0</td>\n",
       "      <td id=\"T_99a7f_row3_col2\" class=\"data row3 col2\" >0</td>\n",
       "      <td id=\"T_99a7f_row3_col3\" class=\"data row3 col3\" >3610</td>\n",
       "      <td id=\"T_99a7f_row3_col4\" class=\"data row3 col4\" >2998899.000000</td>\n",
       "      <td id=\"T_99a7f_row3_col5\" class=\"data row3 col5\" >1305740000.000000</td>\n",
       "      <td id=\"T_99a7f_row3_col6\" class=\"data row3 col6\" >116399722.873232</td>\n",
       "      <td id=\"T_99a7f_row3_col7\" class=\"data row3 col7\" >49676148.242755</td>\n",
       "    </tr>\n",
       "    <tr>\n",
       "      <th id=\"T_99a7f_level0_row4\" class=\"row_heading level0 row4\" >terakhir_belanja</th>\n",
       "      <td id=\"T_99a7f_row4_col0\" class=\"data row4 col0\" >int64</td>\n",
       "      <td id=\"T_99a7f_row4_col1\" class=\"data row4 col1\" >0</td>\n",
       "      <td id=\"T_99a7f_row4_col2\" class=\"data row4 col2\" >0</td>\n",
       "      <td id=\"T_99a7f_row4_col3\" class=\"data row4 col3\" >116</td>\n",
       "      <td id=\"T_99a7f_row4_col4\" class=\"data row4 col4\" >0.000000</td>\n",
       "      <td id=\"T_99a7f_row4_col5\" class=\"data row4 col5\" >133.000000</td>\n",
       "      <td id=\"T_99a7f_row4_col6\" class=\"data row4 col6\" >47.119172</td>\n",
       "      <td id=\"T_99a7f_row4_col7\" class=\"data row4 col7\" >26.222695</td>\n",
       "    </tr>\n",
       "    <tr>\n",
       "      <th id=\"T_99a7f_level0_row5\" class=\"row_heading level0 row5\" >pembelian_diskon</th>\n",
       "      <td id=\"T_99a7f_row5_col0\" class=\"data row5 col0\" >int64</td>\n",
       "      <td id=\"T_99a7f_row5_col1\" class=\"data row5 col1\" >0</td>\n",
       "      <td id=\"T_99a7f_row5_col2\" class=\"data row5 col2\" >0</td>\n",
       "      <td id=\"T_99a7f_row5_col3\" class=\"data row5 col3\" >17</td>\n",
       "      <td id=\"T_99a7f_row5_col4\" class=\"data row5 col4\" >0.000000</td>\n",
       "      <td id=\"T_99a7f_row5_col5\" class=\"data row5 col5\" >17.000000</td>\n",
       "      <td id=\"T_99a7f_row5_col6\" class=\"data row5 col6\" >2.096909</td>\n",
       "      <td id=\"T_99a7f_row5_col7\" class=\"data row5 col7\" >2.065482</td>\n",
       "    </tr>\n",
       "    <tr>\n",
       "      <th id=\"T_99a7f_level0_row6\" class=\"row_heading level0 row6\" >pembelian_web</th>\n",
       "      <td id=\"T_99a7f_row6_col0\" class=\"data row6 col0\" >int64</td>\n",
       "      <td id=\"T_99a7f_row6_col1\" class=\"data row6 col1\" >0</td>\n",
       "      <td id=\"T_99a7f_row6_col2\" class=\"data row6 col2\" >0</td>\n",
       "      <td id=\"T_99a7f_row6_col3\" class=\"data row6 col3\" >16</td>\n",
       "      <td id=\"T_99a7f_row6_col4\" class=\"data row6 col4\" >0.000000</td>\n",
       "      <td id=\"T_99a7f_row6_col5\" class=\"data row6 col5\" >27.000000</td>\n",
       "      <td id=\"T_99a7f_row6_col6\" class=\"data row6 col6\" >4.443164</td>\n",
       "      <td id=\"T_99a7f_row6_col7\" class=\"data row6 col7\" >2.867256</td>\n",
       "    </tr>\n",
       "    <tr>\n",
       "      <th id=\"T_99a7f_level0_row7\" class=\"row_heading level0 row7\" >pembelian_toko</th>\n",
       "      <td id=\"T_99a7f_row7_col0\" class=\"data row7 col0\" >int64</td>\n",
       "      <td id=\"T_99a7f_row7_col1\" class=\"data row7 col1\" >0</td>\n",
       "      <td id=\"T_99a7f_row7_col2\" class=\"data row7 col2\" >0</td>\n",
       "      <td id=\"T_99a7f_row7_col3\" class=\"data row7 col3\" >18</td>\n",
       "      <td id=\"T_99a7f_row7_col4\" class=\"data row7 col4\" >0.000000</td>\n",
       "      <td id=\"T_99a7f_row7_col5\" class=\"data row7 col5\" >17.000000</td>\n",
       "      <td id=\"T_99a7f_row7_col6\" class=\"data row7 col6\" >5.794919</td>\n",
       "      <td id=\"T_99a7f_row7_col7\" class=\"data row7 col7\" >3.212271</td>\n",
       "    </tr>\n",
       "    <tr>\n",
       "      <th id=\"T_99a7f_level0_row8\" class=\"row_heading level0 row8\" >belanja_pokok</th>\n",
       "      <td id=\"T_99a7f_row8_col0\" class=\"data row8 col0\" >int64</td>\n",
       "      <td id=\"T_99a7f_row8_col1\" class=\"data row8 col1\" >0</td>\n",
       "      <td id=\"T_99a7f_row8_col2\" class=\"data row8 col2\" >0</td>\n",
       "      <td id=\"T_99a7f_row8_col3\" class=\"data row8 col3\" >2845</td>\n",
       "      <td id=\"T_99a7f_row8_col4\" class=\"data row8 col4\" >0.000000</td>\n",
       "      <td id=\"T_99a7f_row8_col5\" class=\"data row8 col5\" >3307605.000000</td>\n",
       "      <td id=\"T_99a7f_row8_col6\" class=\"data row8 col6\" >515703.622053</td>\n",
       "      <td id=\"T_99a7f_row8_col7\" class=\"data row8 col7\" >555681.859926</td>\n",
       "    </tr>\n",
       "    <tr>\n",
       "      <th id=\"T_99a7f_level0_row9\" class=\"row_heading level0 row9\" >belanja_non_pokok</th>\n",
       "      <td id=\"T_99a7f_row9_col0\" class=\"data row9 col0\" >int64</td>\n",
       "      <td id=\"T_99a7f_row9_col1\" class=\"data row9 col1\" >0</td>\n",
       "      <td id=\"T_99a7f_row9_col2\" class=\"data row9 col2\" >0</td>\n",
       "      <td id=\"T_99a7f_row9_col3\" class=\"data row9 col3\" >2625</td>\n",
       "      <td id=\"T_99a7f_row9_col4\" class=\"data row9 col4\" >0.000000</td>\n",
       "      <td id=\"T_99a7f_row9_col5\" class=\"data row9 col5\" >764694.000000</td>\n",
       "      <td id=\"T_99a7f_row9_col6\" class=\"data row9 col6\" >118944.742535</td>\n",
       "      <td id=\"T_99a7f_row9_col7\" class=\"data row9 col7\" >131715.751949</td>\n",
       "    </tr>\n",
       "  </tbody>\n",
       "</table>\n"
      ],
      "text/plain": [
       "<pandas.io.formats.style.Styler at 0x19228c12600>"
      ]
     },
     "execution_count": 118,
     "metadata": {},
     "output_type": "execute_result"
    }
   ],
   "source": [
    "# Preprocess test set\n",
    "test = preprocessing(test)\n",
    "summary(test).style.background_gradient()"
   ]
  },
  {
   "cell_type": "code",
   "execution_count": 119,
   "metadata": {},
   "outputs": [
    {
     "data": {
      "image/png": "[encoded data removed]",
      "text/plain": [
       "<Figure size 1400x1200 with 2 Axes>"
      ]
     },
     "metadata": {},
     "output_type": "display_data"
    }
   ],
   "source": [
    "# Menghitung matriks korelasi\n",
    "corr_matrix = train.corr()\n",
    "\n",
    "# Membuat plot heatmap \n",
    "plt.figure(figsize=(14, 12))\n",
    "sns.heatmap(corr_matrix, annot=True, cmap='coolwarm')\n",
    "\n",
    "plt.title('Correlation Matrix')\n",
    "plt.show()"
   ]
  },
  {
   "cell_type": "code",
   "execution_count": 120,
   "metadata": {},
   "outputs": [],
   "source": [
    "X = train.drop(columns = ['jumlah_promosi'], axis = 1)\n",
    "y = train['jumlah_promosi']"
   ]
  },
  {
   "cell_type": "code",
   "execution_count": 121,
   "metadata": {},
   "outputs": [],
   "source": [
    "skf = RepeatedStratifiedKFold(n_splits = 10, n_repeats = 1, random_state = 42)\n",
    "X_train, X_test, y_train, y_test = train_test_split(X, y, test_size=0.2, random_state=42)"
   ]
  },
  {
   "cell_type": "markdown",
   "metadata": {},
   "source": [
    "### Hyperparameter Tuning Optuna"
   ]
  },
  {
   "cell_type": "code",
   "execution_count": 122,
   "metadata": {},
   "outputs": [],
   "source": [
    "# def objective(trial):\n",
    "#     # Define the hyperparameters to optimize for each classifier\n",
    "#     rf_n_estimators = trial.suggest_int(\"rf_n_estimators\", 100, 1000)\n",
    "#     rf_max_depth = trial.suggest_int(\"rf_max_depth\", 3, 20)\n",
    "#     rf_min_samples_split = trial.suggest_int(\"rf_min_samples_split\", 2, 20)\n",
    "#     rf_min_samples_leaf = trial.suggest_int(\"rf_min_samples_leaf\", 1, 20)\n",
    "    \n",
    "#     et_n_estimators = trial.suggest_int(\"et_n_estimators\", 100, 1000)\n",
    "#     et_max_depth = trial.suggest_int(\"et_max_depth\", 3, 20)\n",
    "#     et_min_samples_split = trial.suggest_int(\"et_min_samples_split\", 2, 20)\n",
    "#     et_min_samples_leaf = trial.suggest_int(\"et_min_samples_leaf\", 1, 20)\n",
    "    \n",
    "#     xgb_n_estimators = trial.suggest_int(\"xgb_n_estimators\", 100, 1000, )\n",
    "#     xgb_max_depth = trial.suggest_int(\"xgb_max_depth\", 3, 10)\n",
    "#     xgb_learning_rate = trial.suggest_loguniform(\"xgb_learning_rate\", 0.01, 0.1)\n",
    "#     xgb_gamma = trial.suggest_loguniform('xgb_gamma', 0.01, 1.0),\n",
    "#     xgb_min_child_weight = trial.suggest_int('xgb_min_child_weight', 1, 5),\n",
    "#     xgb_colsample_bytree = trial.suggest_uniform('colsample_bytree', 0.5, 1.0),\n",
    "#     xgb_subsample =  trial.suggest_uniform('subsample', 0.5, 1.0),\n",
    "    \n",
    "#     # Create individual classifiers with the suggested hyperparameters\n",
    "#     rf = RandomForestClassifier(n_estimators=rf_n_estimators,\n",
    "#                                 max_depth=rf_max_depth,\n",
    "#                                 min_samples_split=rf_min_samples_split,\n",
    "#                                 min_samples_leaf=rf_min_samples_leaf,\n",
    "#                                 random_state=42)\n",
    "    \n",
    "#     et = ExtraTreesClassifier(n_estimators=et_n_estimators,\n",
    "#                               max_depth=et_max_depth,\n",
    "#                               min_samples_split=et_min_samples_split,\n",
    "#                               min_samples_leaf=et_min_samples_leaf,\n",
    "#                               random_state=42)\n",
    "    \n",
    "#     xgb = XGBClassifier(n_estimators=xgb_n_estimators,\n",
    "#                         max_depth=xgb_max_depth,\n",
    "#                         learning_rate=xgb_learning_rate,\n",
    "#                         random_state=42)\n",
    "    \n",
    "#     # Construct the VotingClassifier with the individual classifiers\n",
    "#     estimators = [('rf', rf), ('et', et), ('xgb', xgb)]\n",
    "#     voting = trial.suggest_categorical(\"voting\", [\"hard\", \"soft\"])\n",
    "    \n",
    "#     model = VotingClassifier(estimators=estimators, voting=voting)\n",
    "    \n",
    "#     # Use stratified k-fold cross-validation for evaluation\n",
    "#     skf = StratifiedKFold(n_splits=5, shuffle=True, random_state=42)\n",
    "#     scores = cross_val_score(model, X_train, y_train, scoring='f1_macro', cv=skf, n_jobs=-1)\n",
    "    \n",
    "#     # Return the mean F1 score of the model\n",
    "#     return scores.mean()\n",
    "\n",
    "# # Create an Optuna study\n",
    "# sampler = optuna.samplers.TPESampler(seed=42)\n",
    "# study = optuna.create_study(study_name=\"voting_classifier\", direction=\"maximize\", sampler=sampler)\n",
    "\n",
    "# # Optimize the objective function\n",
    "# study.optimize(objective, n_trials=100, show_progress_bar=True)\n",
    "\n",
    "# # Get the best trial and its parameters\n",
    "# best_trial = study.best_trial\n",
    "# best_params = best_trial.params\n",
    "\n",
    "# # Construct the VotingClassifier with the best parameters\n",
    "# rf_best = RandomForestClassifier(n_estimators=best_params[\"rf_n_estimators\"],\n",
    "#                                  criterion = 'log_loss',\n",
    "#                                  max_depth=best_params[\"rf_max_depth\"],\n",
    "#                                  min_samples_split=best_params[\"rf_min_samples_split\"],\n",
    "#                                  min_samples_leaf=best_params[\"rf_min_samples_leaf\"],\n",
    "#                                  random_state=42)\n",
    "\n",
    "# et_best = ExtraTreesClassifier(n_estimators=best_params[\"et_n_estimators\"],\n",
    "#                                criterion = 'log_loss',\n",
    "#                                max_depth=best_params[\"et_max_depth\"],\n",
    "#                                min_samples_split=best_params[\"et_min_samples_split\"],\n",
    "#                                min_samples_leaf=best_params[\"et_min_samples_leaf\"],\n",
    "#                                random_state=42)\n",
    "\n",
    "# xgb_best = XGBClassifier(n_estimators=best_params[\"xgb_n_estimators\"],\n",
    "#                          max_depth=best_params[\"xgb_max_depth\"],\n",
    "#                          learning_rate=best_params[\"xgb_learning_rate\"],\n",
    "#                          random_state=42)\n",
    "\n",
    "# best_estimators = [('rf', rf_best), ('et', et_best), ('xgb', xgb_best)]\n",
    "# best_voting = best_params[\"voting\"]\n",
    "\n",
    "# best_model = VotingClassifier(estimators=best_estimators, voting=best_voting)\n",
    "\n",
    "# # Train the best VotingClassifier on the full training data\n",
    "# best_model.fit(X_train, y_train)\n",
    "\n",
    "# # Evaluate the best model on the test data\n",
    "# y_pred = best_model.predict(X_test)\n",
    "# f1_macro = f1_score(y_test, y_pred, average='macro')\n",
    "\n",
    "# print(\"Best F1 Macro Score on Test Set:\", f1_macro)\n",
    "# print(\"Best Parameters:\")\n",
    "# print(best_params)"
   ]
  },
  {
   "cell_type": "code",
   "execution_count": 123,
   "metadata": {},
   "outputs": [],
   "source": [
    "\n",
    "# # Define the objective function for optimization\n",
    "# def objective(trial):\n",
    "#     # Define the hyperparameters to optimize for each classifier\n",
    "#     rf_n_estimators = trial.suggest_int(\"rf_n_estimators\", 100, 1000)\n",
    "#     rf_max_depth = trial.suggest_int(\"rf_max_depth\", 3, 20)\n",
    "#     rf_min_samples_split = trial.suggest_int(\"rf_min_samples_split\", 2, 20)\n",
    "#     rf_min_samples_leaf = trial.suggest_int(\"rf_min_samples_leaf\", 1, 20)\n",
    "    \n",
    "#     et_n_estimators = trial.suggest_int(\"et_n_estimators\", 100, 1000)\n",
    "#     et_max_depth = trial.suggest_int(\"et_max_depth\", 3, 20)\n",
    "#     et_min_samples_split = trial.suggest_int(\"et_min_samples_split\", 2, 20)\n",
    "#     et_min_samples_leaf = trial.suggest_int(\"et_min_samples_leaf\", 1, 20)\n",
    "    \n",
    "#     xgb_n_estimators = trial.suggest_int(\"xgb_n_estimators\", 100, 1000)\n",
    "#     xgb_max_depth = trial.suggest_int(\"xgb_max_depth\", 3, 10)\n",
    "#     xgb_learning_rate = trial.suggest_loguniform(\"xgb_learning_rate\", 0.01, 0.1)\n",
    "#     xgb_gamma = trial.suggest_loguniform('xgb_gamma', 0.01, 1.0)\n",
    "#     xgb_min_child_weight = trial.suggest_int('xgb_min_child_weight', 1, 5)\n",
    "#     xgb_colsample_bytree = trial.suggest_uniform('xgb_colsample_bytree', 0.5, 1.0)\n",
    "#     xgb_subsample = trial.suggest_uniform('xgb_subsample', 0.5, 1.0)\n",
    "    \n",
    "#     # Create individual classifiers with the suggested hyperparameters\n",
    "#     rf = RandomForestClassifier(n_estimators=rf_n_estimators,\n",
    "#                                 max_depth=rf_max_depth,\n",
    "#                                 criterion = 'log_loss',\n",
    "#                                 min_samples_split=rf_min_samples_split,\n",
    "#                                 min_samples_leaf=rf_min_samples_leaf,\n",
    "#                                 random_state=42)\n",
    "    \n",
    "#     et = ExtraTreesClassifier(n_estimators=et_n_estimators,\n",
    "#                               max_depth=et_max_depth,\n",
    "#                               criterion = 'log_loss',\n",
    "#                               min_samples_split=et_min_samples_split,\n",
    "#                               min_samples_leaf=et_min_samples_leaf,\n",
    "#                               random_state=42)\n",
    "    \n",
    "#     xgb = XGBClassifier(n_estimators=xgb_n_estimators,\n",
    "#                         max_depth=xgb_max_depth,\n",
    "#                         learning_rate=xgb_learning_rate,\n",
    "#                         gamma=xgb_gamma,\n",
    "#                         min_child_weight=xgb_min_child_weight,\n",
    "#                         colsample_bytree=xgb_colsample_bytree,\n",
    "#                         subsample=xgb_subsample,\n",
    "#                         random_state=42)\n",
    "    \n",
    "#     # Construct the VotingClassifier with the individual classifiers\n",
    "#     estimators = [('rf', rf), ('et', et), ('xgb', xgb)]\n",
    "#     voting = trial.suggest_categorical(\"voting\", [\"hard\", \"soft\"])\n",
    "    \n",
    "#     model = VotingClassifier(estimators=estimators, voting=voting)\n",
    "    \n",
    "#     # Use stratified k-fold cross-validation for evaluation\n",
    "#     skf = StratifiedKFold(n_splits=5, shuffle=True, random_state=42)\n",
    "#     scores = cross_val_score(model, X_train, y_train, scoring='f1_macro', cv=skf, n_jobs=-1)\n",
    "    \n",
    "#     # Return the mean F1 score of the model\n",
    "#     return scores.mean()\n",
    "\n",
    "# # Create an Optuna study\n",
    "# sampler = optuna.samplers.TPESampler(seed=42)\n",
    "# study = optuna.create_study(study_name=\"voting_classifier\", direction=\"maximize\", sampler=sampler)\n",
    "\n",
    "# # Optimize the objective function\n",
    "# study.optimize(objective, n_trials=100, show_progress_bar=True)\n",
    "\n",
    "# # Get the best trial and its parameters\n",
    "# best_trial = study.best_trial\n",
    "# best_params = best_trial.params\n",
    "\n",
    "# # Construct the VotingClassifier with the best parameters\n",
    "# rf_best = RandomForestClassifier(n_estimators=best_params[\"rf_n_estimators\"],\n",
    "#                                  max_depth=best_params[\"rf_max_depth\"],\n",
    "#                                  min_samples_split=best_params[\"rf_min_samples_split\"],\n",
    "#                                  min_samples_leaf=best_params[\"rf_min_samples_leaf\"],\n",
    "#                                  criterion='log_loss',  # Specify the criterion (e.g., 'gini' or 'entropy')\n",
    "#                                  random_state=42)\n",
    "\n",
    "# et_best = ExtraTreesClassifier(n_estimators=best_params[\"et_n_estimators\"],\n",
    "#                                max_depth=best_params[\"et_max_depth\"],\n",
    "#                                min_samples_split=best_params[\"et_min_samples_split\"],\n",
    "#                                min_samples_leaf=best_params[\"et_min_samples_leaf\"],\n",
    "#                                criterion='log_loss',  # Specify the criterion (e.g., 'gini' or 'entropy')\n",
    "#                                random_state=42)\n",
    "\n",
    "# xgb_best = XGBClassifier(n_estimators=best_params[\"xgb_n_estimators\"],\n",
    "#                          max_depth=best_params[\"xgb_max_depth\"],\n",
    "#                          learning_rate=best_params[\"xgb_learning_rate\"],\n",
    "#                          gamma=best_params[\"xgb_gamma\"],\n",
    "#                          min_child_weight=best_params[\"xgb_min_child_weight\"],\n",
    "#                          colsample_bytree=best_params[\"xgb_colsample_bytree\"],\n",
    "#                          subsample=best_params[\"xgb_subsample\"],\n",
    "#                          random_state=42)\n",
    "\n",
    "# best_estimators = [('rf', rf_best), ('et', et_best), ('xgb', xgb_best)]\n",
    "# best_voting = best_params[\"voting\"]\n",
    "\n",
    "# best_model = VotingClassifier(estimators=best_estimators, voting=best_voting)\n",
    "\n",
    "# # Train the best VotingClassifier on the full training data\n",
    "# best_model.fit(X_train, y_train)\n",
    "\n",
    "# # Evaluate the best model on the test data\n",
    "# y_pred = best_model.predict(X_test)\n",
    "# f1_macro = f1_score(y_test, y_pred, average='macro')\n",
    "\n",
    "# print(\"Best F1 Macro Score on Test Set:\", f1_macro)\n",
    "# print(\"Best Parameters:\")\n",
    "# print(best_params)\n"
   ]
  },
  {
   "cell_type": "code",
   "execution_count": 131,
   "metadata": {},
   "outputs": [
    {
     "name": "stderr",
     "output_type": "stream",
     "text": [
      "Best trial: 13. Best value: 0.712564: 100%|██████████| 100/100 [02:34<00:00,  1.55s/it]"
     ]
    },
    {
     "name": "stdout",
     "output_type": "stream",
     "text": [
      "Number of finished trials:  100\n",
      "Best trial:\n",
      "  Value:  0.7125640717670496\n",
      "  Params: \n",
      "    n_estimators: 403\n",
      "    max_features: 8\n",
      "    max_depth: 71\n",
      "    min_samples_split: 2\n",
      "    min_samples_leaf: 1\n",
      "CPU times: total: 1.06 s\n",
      "Wall time: 2min 34s\n"
     ]
    },
    {
     "name": "stderr",
     "output_type": "stream",
     "text": [
      "\n"
     ]
    },
    {
     "ename": "ValueError",
     "evalue": "Mime type rendering requires nbformat>=4.2.0 but it is not installed",
     "output_type": "error",
     "traceback": [
      "\u001b[1;31m---------------------------------------------------------------------------\u001b[0m",
      "\u001b[1;31mValueError\u001b[0m                                Traceback (most recent call last)",
      "File \u001b[1;32m~\\AppData\\Roaming\\Python\\Python312\\site-packages\\IPython\\core\\formatters.py:925\u001b[0m, in \u001b[0;36mIPythonDisplayFormatter.__call__\u001b[1;34m(self, obj)\u001b[0m\n\u001b[0;32m    923\u001b[0m method \u001b[38;5;241m=\u001b[39m get_real_method(obj, \u001b[38;5;28mself\u001b[39m\u001b[38;5;241m.\u001b[39mprint_method)\n\u001b[0;32m    924\u001b[0m \u001b[38;5;28;01mif\u001b[39;00m method \u001b[38;5;129;01mis\u001b[39;00m \u001b[38;5;129;01mnot\u001b[39;00m \u001b[38;5;28;01mNone\u001b[39;00m:\n\u001b[1;32m--> 925\u001b[0m     \u001b[43mmethod\u001b[49m\u001b[43m(\u001b[49m\u001b[43m)\u001b[49m\n\u001b[0;32m    926\u001b[0m     \u001b[38;5;28;01mreturn\u001b[39;00m \u001b[38;5;28;01mTrue\u001b[39;00m\n",
      "File \u001b[1;32mc:\\Py312\\Lib\\site-packages\\plotly\\basedatatypes.py:832\u001b[0m, in \u001b[0;36mBaseFigure._ipython_display_\u001b[1;34m(self)\u001b[0m\n\u001b[0;32m    829\u001b[0m \u001b[38;5;28;01mimport\u001b[39;00m \u001b[38;5;21;01mplotly\u001b[39;00m\u001b[38;5;21;01m.\u001b[39;00m\u001b[38;5;21;01mio\u001b[39;00m \u001b[38;5;28;01mas\u001b[39;00m \u001b[38;5;21;01mpio\u001b[39;00m\n\u001b[0;32m    831\u001b[0m \u001b[38;5;28;01mif\u001b[39;00m pio\u001b[38;5;241m.\u001b[39mrenderers\u001b[38;5;241m.\u001b[39mrender_on_display \u001b[38;5;129;01mand\u001b[39;00m pio\u001b[38;5;241m.\u001b[39mrenderers\u001b[38;5;241m.\u001b[39mdefault:\n\u001b[1;32m--> 832\u001b[0m     \u001b[43mpio\u001b[49m\u001b[38;5;241;43m.\u001b[39;49m\u001b[43mshow\u001b[49m\u001b[43m(\u001b[49m\u001b[38;5;28;43mself\u001b[39;49m\u001b[43m)\u001b[49m\n\u001b[0;32m    833\u001b[0m \u001b[38;5;28;01melse\u001b[39;00m:\n\u001b[0;32m    834\u001b[0m     \u001b[38;5;28mprint\u001b[39m(\u001b[38;5;28mrepr\u001b[39m(\u001b[38;5;28mself\u001b[39m))\n",
      "File \u001b[1;32mc:\\Py312\\Lib\\site-packages\\plotly\\io\\_renderers.py:394\u001b[0m, in \u001b[0;36mshow\u001b[1;34m(fig, renderer, validate, **kwargs)\u001b[0m\n\u001b[0;32m    389\u001b[0m         \u001b[38;5;28;01mraise\u001b[39;00m \u001b[38;5;167;01mValueError\u001b[39;00m(\n\u001b[0;32m    390\u001b[0m             \u001b[38;5;124m\"\u001b[39m\u001b[38;5;124mMime type rendering requires ipython but it is not installed\u001b[39m\u001b[38;5;124m\"\u001b[39m\n\u001b[0;32m    391\u001b[0m         )\n\u001b[0;32m    393\u001b[0m     \u001b[38;5;28;01mif\u001b[39;00m \u001b[38;5;129;01mnot\u001b[39;00m nbformat \u001b[38;5;129;01mor\u001b[39;00m Version(nbformat\u001b[38;5;241m.\u001b[39m__version__) \u001b[38;5;241m<\u001b[39m Version(\u001b[38;5;124m\"\u001b[39m\u001b[38;5;124m4.2.0\u001b[39m\u001b[38;5;124m\"\u001b[39m):\n\u001b[1;32m--> 394\u001b[0m         \u001b[38;5;28;01mraise\u001b[39;00m \u001b[38;5;167;01mValueError\u001b[39;00m(\n\u001b[0;32m    395\u001b[0m             \u001b[38;5;124m\"\u001b[39m\u001b[38;5;124mMime type rendering requires nbformat>=4.2.0 but it is not installed\u001b[39m\u001b[38;5;124m\"\u001b[39m\n\u001b[0;32m    396\u001b[0m         )\n\u001b[0;32m    398\u001b[0m     ipython_display\u001b[38;5;241m.\u001b[39mdisplay(bundle, raw\u001b[38;5;241m=\u001b[39m\u001b[38;5;28;01mTrue\u001b[39;00m)\n\u001b[0;32m    400\u001b[0m \u001b[38;5;66;03m# external renderers\u001b[39;00m\n",
      "\u001b[1;31mValueError\u001b[0m: Mime type rendering requires nbformat>=4.2.0 but it is not installed"
     ]
    },
    {
     "data": {
      "application/vnd.plotly.v1+json": {
       "config": {
        "plotlyServerURL": "https://plot.ly"
       },
       "data": [
        {
         "mode": "markers",
         "name": "Objective Value",
         "type": "scatter",
         "x": [
          0,
          1,
          2,
          3,
          4,
          5,
          6,
          7,
          8,
          9,
          10,
          11,
          12,
          13,
          14,
          15,
          16,
          17,
          18,
          19,
          20,
          21,
          22,
          23,
          24,
          25,
          26,
          27,
          28,
          29,
          30,
          31,
          32,
          33,
          34,
          35,
          36,
          37,
          38,
          39,
          40,
          41,
          42,
          43,
          44,
          45,
          46,
          47,
          48,
          49,
          50,
          51,
          52,
          53,
          54,
          55,
          56,
          57,
          58,
          59,
          60,
          61,
          62,
          63,
          64,
          65,
          66,
          67,
          68,
          69,
          70,
          71,
          72,
          73,
          74,
          75,
          76,
          77,
          78,
          79,
          80,
          81,
          82,
          83,
          84,
          85,
          86,
          87,
          88,
          89,
          90,
          91,
          92,
          93,
          94,
          95,
          96,
          97,
          98,
          99
         ],
         "y": [
          0.571706413346156,
          0.0586154558251024,
          0.5978912846900473,
          0.44788002020940293,
          0.2725405038890201,
          0.48602997308377116,
          0.18324973607861803,
          0.38899171824759393,
          0.44920078188179036,
          0.5027625451541324,
          0.407567259924297,
          0.6866133875457419,
          0.6990743306453583,
          0.7125640717670496,
          0.7054043327914765,
          0.4998805243865931,
          0.3867041314348279,
          0.40515384197239845,
          0.48225927597654356,
          0.6054026989309141,
          0.523079086567497,
          0.6941689017024207,
          0.6639380339634149,
          0.6371413836656056,
          0.5348779196707667,
          0.48453436563363256,
          0.3496494354398373,
          0.6687021981782214,
          0.5660367737831296,
          0.36938181469859416,
          0.5802520132321201,
          0.6932637898948633,
          0.6789646021975027,
          0.5884597331378709,
          0.6352462796589858,
          0.5695361667739975,
          0.4071685899544482,
          0.6429166188352028,
          0.6628047015253737,
          0.4715005378740985,
          0.07870552184910619,
          0.6932637898948633,
          0.6653676170247772,
          0.6021669657015479,
          0.6935519864741374,
          0.6923040909604528,
          0.5576131556403731,
          0.3287505084481453,
          0.5849321201278914,
          0.6925980052104432,
          0.5162833412408759,
          0.6764614412029366,
          0.6501358097870271,
          0.6691294155686138,
          0.6879436847979569,
          0.6402059362565112,
          0.6024024708401889,
          0.4409104121192172,
          0.60695329111685,
          0.5689557887101816,
          0.6535190961076127,
          0.6958714312692005,
          0.6990986249760701,
          0.668172858696749,
          0.6940562173151804,
          0.7040382825949287,
          0.4201544340525974,
          0.6175634161722225,
          0.6618952643917062,
          0.5927622735608696,
          0.6347989869228554,
          0.6941417402453011,
          0.6930333645090869,
          0.6650613629496265,
          0.7112050033160762,
          0.6331873120218073,
          0.38215979611643647,
          0.6920663015440585,
          0.6852523503279255,
          0.5798204967803811,
          0.6201894167805507,
          0.6808308922337744,
          0.6958766187242624,
          0.6958766187242624,
          0.6870117515950537,
          0.6345298710998662,
          0.6950608656908701,
          0.6646445070794831,
          0.6735138212888129,
          0.6374340328497672,
          0.5629678125190615,
          0.5423198295350355,
          0.6922619482904724,
          0.6923644640116029,
          0.6544642737898547,
          0.6743094381727255,
          0.6071902046701297,
          0.7085421254456433,
          0.6703182200259759,
          0.6910767780075956
         ]
        },
        {
         "mode": "lines",
         "name": "Best Value",
         "type": "scatter",
         "x": [
          0,
          1,
          2,
          3,
          4,
          5,
          6,
          7,
          8,
          9,
          10,
          11,
          12,
          13,
          14,
          15,
          16,
          17,
          18,
          19,
          20,
          21,
          22,
          23,
          24,
          25,
          26,
          27,
          28,
          29,
          30,
          31,
          32,
          33,
          34,
          35,
          36,
          37,
          38,
          39,
          40,
          41,
          42,
          43,
          44,
          45,
          46,
          47,
          48,
          49,
          50,
          51,
          52,
          53,
          54,
          55,
          56,
          57,
          58,
          59,
          60,
          61,
          62,
          63,
          64,
          65,
          66,
          67,
          68,
          69,
          70,
          71,
          72,
          73,
          74,
          75,
          76,
          77,
          78,
          79,
          80,
          81,
          82,
          83,
          84,
          85,
          86,
          87,
          88,
          89,
          90,
          91,
          92,
          93,
          94,
          95,
          96,
          97,
          98,
          99
         ],
         "y": [
          0.571706413346156,
          0.571706413346156,
          0.5978912846900473,
          0.5978912846900473,
          0.5978912846900473,
          0.5978912846900473,
          0.5978912846900473,
          0.5978912846900473,
          0.5978912846900473,
          0.5978912846900473,
          0.5978912846900473,
          0.6866133875457419,
          0.6990743306453583,
          0.7125640717670496,
          0.7125640717670496,
          0.7125640717670496,
          0.7125640717670496,
          0.7125640717670496,
          0.7125640717670496,
          0.7125640717670496,
          0.7125640717670496,
          0.7125640717670496,
          0.7125640717670496,
          0.7125640717670496,
          0.7125640717670496,
          0.7125640717670496,
          0.7125640717670496,
          0.7125640717670496,
          0.7125640717670496,
          0.7125640717670496,
          0.7125640717670496,
          0.7125640717670496,
          0.7125640717670496,
          0.7125640717670496,
          0.7125640717670496,
          0.7125640717670496,
          0.7125640717670496,
          0.7125640717670496,
          0.7125640717670496,
          0.7125640717670496,
          0.7125640717670496,
          0.7125640717670496,
          0.7125640717670496,
          0.7125640717670496,
          0.7125640717670496,
          0.7125640717670496,
          0.7125640717670496,
          0.7125640717670496,
          0.7125640717670496,
          0.7125640717670496,
          0.7125640717670496,
          0.7125640717670496,
          0.7125640717670496,
          0.7125640717670496,
          0.7125640717670496,
          0.7125640717670496,
          0.7125640717670496,
          0.7125640717670496,
          0.7125640717670496,
          0.7125640717670496,
          0.7125640717670496,
          0.7125640717670496,
          0.7125640717670496,
          0.7125640717670496,
          0.7125640717670496,
          0.7125640717670496,
          0.7125640717670496,
          0.7125640717670496,
          0.7125640717670496,
          0.7125640717670496,
          0.7125640717670496,
          0.7125640717670496,
          0.7125640717670496,
          0.7125640717670496,
          0.7125640717670496,
          0.7125640717670496,
          0.7125640717670496,
          0.7125640717670496,
          0.7125640717670496,
          0.7125640717670496,
          0.7125640717670496,
          0.7125640717670496,
          0.7125640717670496,
          0.7125640717670496,
          0.7125640717670496,
          0.7125640717670496,
          0.7125640717670496,
          0.7125640717670496,
          0.7125640717670496,
          0.7125640717670496,
          0.7125640717670496,
          0.7125640717670496,
          0.7125640717670496,
          0.7125640717670496,
          0.7125640717670496,
          0.7125640717670496,
          0.7125640717670496,
          0.7125640717670496,
          0.7125640717670496,
          0.7125640717670496
         ]
        },
        {
         "marker": {
          "color": "#cccccc"
         },
         "mode": "markers",
         "name": "Infeasible Trial",
         "showlegend": false,
         "type": "scatter",
         "x": [],
         "y": []
        }
       ],
       "layout": {
        "template": {
         "data": {
          "bar": [
           {
            "error_x": {
             "color": "#2a3f5f"
            },
            "error_y": {
             "color": "#2a3f5f"
            },
            "marker": {
             "line": {
              "color": "#E5ECF6",
              "width": 0.5
             },
             "pattern": {
              "fillmode": "overlay",
              "size": 10,
              "solidity": 0.2
             }
            },
            "type": "bar"
           }
          ],
          "barpolar": [
           {
            "marker": {
             "line": {
              "color": "#E5ECF6",
              "width": 0.5
             },
             "pattern": {
              "fillmode": "overlay",
              "size": 10,
              "solidity": 0.2
             }
            },
            "type": "barpolar"
           }
          ],
          "carpet": [
           {
            "aaxis": {
             "endlinecolor": "#2a3f5f",
             "gridcolor": "white",
             "linecolor": "white",
             "minorgridcolor": "white",
             "startlinecolor": "#2a3f5f"
            },
            "baxis": {
             "endlinecolor": "#2a3f5f",
             "gridcolor": "white",
             "linecolor": "white",
             "minorgridcolor": "white",
             "startlinecolor": "#2a3f5f"
            },
            "type": "carpet"
           }
          ],
          "choropleth": [
           {
            "colorbar": {
             "outlinewidth": 0,
             "ticks": ""
            },
            "type": "choropleth"
           }
          ],
          "contour": [
           {
            "colorbar": {
             "outlinewidth": 0,
             "ticks": ""
            },
            "colorscale": [
             [
              0,
              "#0d0887"
             ],
             [
              0.1111111111111111,
              "#46039f"
             ],
             [
              0.2222222222222222,
              "#7201a8"
             ],
             [
              0.3333333333333333,
              "#9c179e"
             ],
             [
              0.4444444444444444,
              "#bd3786"
             ],
             [
              0.5555555555555556,
              "#d8576b"
             ],
             [
              0.6666666666666666,
              "#ed7953"
             ],
             [
              0.7777777777777778,
              "#fb9f3a"
             ],
             [
              0.8888888888888888,
              "#fdca26"
             ],
             [
              1,
              "#f0f921"
             ]
            ],
            "type": "contour"
           }
          ],
          "contourcarpet": [
           {
            "colorbar": {
             "outlinewidth": 0,
             "ticks": ""
            },
            "type": "contourcarpet"
           }
          ],
          "heatmap": [
           {
            "colorbar": {
             "outlinewidth": 0,
             "ticks": ""
            },
            "colorscale": [
             [
              0,
              "#0d0887"
             ],
             [
              0.1111111111111111,
              "#46039f"
             ],
             [
              0.2222222222222222,
              "#7201a8"
             ],
             [
              0.3333333333333333,
              "#9c179e"
             ],
             [
              0.4444444444444444,
              "#bd3786"
             ],
             [
              0.5555555555555556,
              "#d8576b"
             ],
             [
              0.6666666666666666,
              "#ed7953"
             ],
             [
              0.7777777777777778,
              "#fb9f3a"
             ],
             [
              0.8888888888888888,
              "#fdca26"
             ],
             [
              1,
              "#f0f921"
             ]
            ],
            "type": "heatmap"
           }
          ],
          "heatmapgl": [
           {
            "colorbar": {
             "outlinewidth": 0,
             "ticks": ""
            },
            "colorscale": [
             [
              0,
              "#0d0887"
             ],
             [
              0.1111111111111111,
              "#46039f"
             ],
             [
              0.2222222222222222,
              "#7201a8"
             ],
             [
              0.3333333333333333,
              "#9c179e"
             ],
             [
              0.4444444444444444,
              "#bd3786"
             ],
             [
              0.5555555555555556,
              "#d8576b"
             ],
             [
              0.6666666666666666,
              "#ed7953"
             ],
             [
              0.7777777777777778,
              "#fb9f3a"
             ],
             [
              0.8888888888888888,
              "#fdca26"
             ],
             [
              1,
              "#f0f921"
             ]
            ],
            "type": "heatmapgl"
           }
          ],
          "histogram": [
           {
            "marker": {
             "pattern": {
              "fillmode": "overlay",
              "size": 10,
              "solidity": 0.2
             }
            },
            "type": "histogram"
           }
          ],
          "histogram2d": [
           {
            "colorbar": {
             "outlinewidth": 0,
             "ticks": ""
            },
            "colorscale": [
             [
              0,
              "#0d0887"
             ],
             [
              0.1111111111111111,
              "#46039f"
             ],
             [
              0.2222222222222222,
              "#7201a8"
             ],
             [
              0.3333333333333333,
              "#9c179e"
             ],
             [
              0.4444444444444444,
              "#bd3786"
             ],
             [
              0.5555555555555556,
              "#d8576b"
             ],
             [
              0.6666666666666666,
              "#ed7953"
             ],
             [
              0.7777777777777778,
              "#fb9f3a"
             ],
             [
              0.8888888888888888,
              "#fdca26"
             ],
             [
              1,
              "#f0f921"
             ]
            ],
            "type": "histogram2d"
           }
          ],
          "histogram2dcontour": [
           {
            "colorbar": {
             "outlinewidth": 0,
             "ticks": ""
            },
            "colorscale": [
             [
              0,
              "#0d0887"
             ],
             [
              0.1111111111111111,
              "#46039f"
             ],
             [
              0.2222222222222222,
              "#7201a8"
             ],
             [
              0.3333333333333333,
              "#9c179e"
             ],
             [
              0.4444444444444444,
              "#bd3786"
             ],
             [
              0.5555555555555556,
              "#d8576b"
             ],
             [
              0.6666666666666666,
              "#ed7953"
             ],
             [
              0.7777777777777778,
              "#fb9f3a"
             ],
             [
              0.8888888888888888,
              "#fdca26"
             ],
             [
              1,
              "#f0f921"
             ]
            ],
            "type": "histogram2dcontour"
           }
          ],
          "mesh3d": [
           {
            "colorbar": {
             "outlinewidth": 0,
             "ticks": ""
            },
            "type": "mesh3d"
           }
          ],
          "parcoords": [
           {
            "line": {
             "colorbar": {
              "outlinewidth": 0,
              "ticks": ""
             }
            },
            "type": "parcoords"
           }
          ],
          "pie": [
           {
            "automargin": true,
            "type": "pie"
           }
          ],
          "scatter": [
           {
            "fillpattern": {
             "fillmode": "overlay",
             "size": 10,
             "solidity": 0.2
            },
            "type": "scatter"
           }
          ],
          "scatter3d": [
           {
            "line": {
             "colorbar": {
              "outlinewidth": 0,
              "ticks": ""
             }
            },
            "marker": {
             "colorbar": {
              "outlinewidth": 0,
              "ticks": ""
             }
            },
            "type": "scatter3d"
           }
          ],
          "scattercarpet": [
           {
            "marker": {
             "colorbar": {
              "outlinewidth": 0,
              "ticks": ""
             }
            },
            "type": "scattercarpet"
           }
          ],
          "scattergeo": [
           {
            "marker": {
             "colorbar": {
              "outlinewidth": 0,
              "ticks": ""
             }
            },
            "type": "scattergeo"
           }
          ],
          "scattergl": [
           {
            "marker": {
             "colorbar": {
              "outlinewidth": 0,
              "ticks": ""
             }
            },
            "type": "scattergl"
           }
          ],
          "scattermapbox": [
           {
            "marker": {
             "colorbar": {
              "outlinewidth": 0,
              "ticks": ""
             }
            },
            "type": "scattermapbox"
           }
          ],
          "scatterpolar": [
           {
            "marker": {
             "colorbar": {
              "outlinewidth": 0,
              "ticks": ""
             }
            },
            "type": "scatterpolar"
           }
          ],
          "scatterpolargl": [
           {
            "marker": {
             "colorbar": {
              "outlinewidth": 0,
              "ticks": ""
             }
            },
            "type": "scatterpolargl"
           }
          ],
          "scatterternary": [
           {
            "marker": {
             "colorbar": {
              "outlinewidth": 0,
              "ticks": ""
             }
            },
            "type": "scatterternary"
           }
          ],
          "surface": [
           {
            "colorbar": {
             "outlinewidth": 0,
             "ticks": ""
            },
            "colorscale": [
             [
              0,
              "#0d0887"
             ],
             [
              0.1111111111111111,
              "#46039f"
             ],
             [
              0.2222222222222222,
              "#7201a8"
             ],
             [
              0.3333333333333333,
              "#9c179e"
             ],
             [
              0.4444444444444444,
              "#bd3786"
             ],
             [
              0.5555555555555556,
              "#d8576b"
             ],
             [
              0.6666666666666666,
              "#ed7953"
             ],
             [
              0.7777777777777778,
              "#fb9f3a"
             ],
             [
              0.8888888888888888,
              "#fdca26"
             ],
             [
              1,
              "#f0f921"
             ]
            ],
            "type": "surface"
           }
          ],
          "table": [
           {
            "cells": {
             "fill": {
              "color": "#EBF0F8"
             },
             "line": {
              "color": "white"
             }
            },
            "header": {
             "fill": {
              "color": "#C8D4E3"
             },
             "line": {
              "color": "white"
             }
            },
            "type": "table"
           }
          ]
         },
         "layout": {
          "annotationdefaults": {
           "arrowcolor": "#2a3f5f",
           "arrowhead": 0,
           "arrowwidth": 1
          },
          "autotypenumbers": "strict",
          "coloraxis": {
           "colorbar": {
            "outlinewidth": 0,
            "ticks": ""
           }
          },
          "colorscale": {
           "diverging": [
            [
             0,
             "#8e0152"
            ],
            [
             0.1,
             "#c51b7d"
            ],
            [
             0.2,
             "#de77ae"
            ],
            [
             0.3,
             "#f1b6da"
            ],
            [
             0.4,
             "#fde0ef"
            ],
            [
             0.5,
             "#f7f7f7"
            ],
            [
             0.6,
             "#e6f5d0"
            ],
            [
             0.7,
             "#b8e186"
            ],
            [
             0.8,
             "#7fbc41"
            ],
            [
             0.9,
             "#4d9221"
            ],
            [
             1,
             "#276419"
            ]
           ],
           "sequential": [
            [
             0,
             "#0d0887"
            ],
            [
             0.1111111111111111,
             "#46039f"
            ],
            [
             0.2222222222222222,
             "#7201a8"
            ],
            [
             0.3333333333333333,
             "#9c179e"
            ],
            [
             0.4444444444444444,
             "#bd3786"
            ],
            [
             0.5555555555555556,
             "#d8576b"
            ],
            [
             0.6666666666666666,
             "#ed7953"
            ],
            [
             0.7777777777777778,
             "#fb9f3a"
            ],
            [
             0.8888888888888888,
             "#fdca26"
            ],
            [
             1,
             "#f0f921"
            ]
           ],
           "sequentialminus": [
            [
             0,
             "#0d0887"
            ],
            [
             0.1111111111111111,
             "#46039f"
            ],
            [
             0.2222222222222222,
             "#7201a8"
            ],
            [
             0.3333333333333333,
             "#9c179e"
            ],
            [
             0.4444444444444444,
             "#bd3786"
            ],
            [
             0.5555555555555556,
             "#d8576b"
            ],
            [
             0.6666666666666666,
             "#ed7953"
            ],
            [
             0.7777777777777778,
             "#fb9f3a"
            ],
            [
             0.8888888888888888,
             "#fdca26"
            ],
            [
             1,
             "#f0f921"
            ]
           ]
          },
          "colorway": [
           "#636efa",
           "#EF553B",
           "#00cc96",
           "#ab63fa",
           "#FFA15A",
           "#19d3f3",
           "#FF6692",
           "#B6E880",
           "#FF97FF",
           "#FECB52"
          ],
          "font": {
           "color": "#2a3f5f"
          },
          "geo": {
           "bgcolor": "white",
           "lakecolor": "white",
           "landcolor": "#E5ECF6",
           "showlakes": true,
           "showland": true,
           "subunitcolor": "white"
          },
          "hoverlabel": {
           "align": "left"
          },
          "hovermode": "closest",
          "mapbox": {
           "style": "light"
          },
          "paper_bgcolor": "white",
          "plot_bgcolor": "#E5ECF6",
          "polar": {
           "angularaxis": {
            "gridcolor": "white",
            "linecolor": "white",
            "ticks": ""
           },
           "bgcolor": "#E5ECF6",
           "radialaxis": {
            "gridcolor": "white",
            "linecolor": "white",
            "ticks": ""
           }
          },
          "scene": {
           "xaxis": {
            "backgroundcolor": "#E5ECF6",
            "gridcolor": "white",
            "gridwidth": 2,
            "linecolor": "white",
            "showbackground": true,
            "ticks": "",
            "zerolinecolor": "white"
           },
           "yaxis": {
            "backgroundcolor": "#E5ECF6",
            "gridcolor": "white",
            "gridwidth": 2,
            "linecolor": "white",
            "showbackground": true,
            "ticks": "",
            "zerolinecolor": "white"
           },
           "zaxis": {
            "backgroundcolor": "#E5ECF6",
            "gridcolor": "white",
            "gridwidth": 2,
            "linecolor": "white",
            "showbackground": true,
            "ticks": "",
            "zerolinecolor": "white"
           }
          },
          "shapedefaults": {
           "line": {
            "color": "#2a3f5f"
           }
          },
          "ternary": {
           "aaxis": {
            "gridcolor": "white",
            "linecolor": "white",
            "ticks": ""
           },
           "baxis": {
            "gridcolor": "white",
            "linecolor": "white",
            "ticks": ""
           },
           "bgcolor": "#E5ECF6",
           "caxis": {
            "gridcolor": "white",
            "linecolor": "white",
            "ticks": ""
           }
          },
          "title": {
           "x": 0.05
          },
          "xaxis": {
           "automargin": true,
           "gridcolor": "white",
           "linecolor": "white",
           "ticks": "",
           "title": {
            "standoff": 15
           },
           "zerolinecolor": "white",
           "zerolinewidth": 2
          },
          "yaxis": {
           "automargin": true,
           "gridcolor": "white",
           "linecolor": "white",
           "ticks": "",
           "title": {
            "standoff": 15
           },
           "zerolinecolor": "white",
           "zerolinewidth": 2
          }
         }
        },
        "title": {
         "text": "Optimization History Plot"
        },
        "xaxis": {
         "title": {
          "text": "Trial"
         }
        },
        "yaxis": {
         "title": {
          "text": "Objective Value"
         }
        }
       }
      },
      "text/html": [
       "<div>                        <script type=\"text/javascript\">window.PlotlyConfig = {MathJaxConfig: 'local'};</script>\n",
       "        <script charset=\"utf-8\" src=\"https://cdn.plot.ly/plotly-2.30.0.min.js\"></script>                <div id=\"032799f6-efa1-4e6f-9e35-b88d932c6f2b\" class=\"plotly-graph-div\" style=\"height:100%; width:100%;\"></div>            <script type=\"text/javascript\">                                    window.PLOTLYENV=window.PLOTLYENV || {};                                    if (document.getElementById(\"032799f6-efa1-4e6f-9e35-b88d932c6f2b\")) {                    Plotly.newPlot(                        \"032799f6-efa1-4e6f-9e35-b88d932c6f2b\",                        [{\"mode\":\"markers\",\"name\":\"Objective Value\",\"x\":[0,1,2,3,4,5,6,7,8,9,10,11,12,13,14,15,16,17,18,19,20,21,22,23,24,25,26,27,28,29,30,31,32,33,34,35,36,37,38,39,40,41,42,43,44,45,46,47,48,49,50,51,52,53,54,55,56,57,58,59,60,61,62,63,64,65,66,67,68,69,70,71,72,73,74,75,76,77,78,79,80,81,82,83,84,85,86,87,88,89,90,91,92,93,94,95,96,97,98,99],\"y\":[0.571706413346156,0.0586154558251024,0.5978912846900473,0.44788002020940293,0.2725405038890201,0.48602997308377116,0.18324973607861803,0.38899171824759393,0.44920078188179036,0.5027625451541324,0.407567259924297,0.6866133875457419,0.6990743306453583,0.7125640717670496,0.7054043327914765,0.4998805243865931,0.3867041314348279,0.40515384197239845,0.48225927597654356,0.6054026989309141,0.523079086567497,0.6941689017024207,0.6639380339634149,0.6371413836656056,0.5348779196707667,0.48453436563363256,0.3496494354398373,0.6687021981782214,0.5660367737831296,0.36938181469859416,0.5802520132321201,0.6932637898948633,0.6789646021975027,0.5884597331378709,0.6352462796589858,0.5695361667739975,0.4071685899544482,0.6429166188352028,0.6628047015253737,0.4715005378740985,0.07870552184910619,0.6932637898948633,0.6653676170247772,0.6021669657015479,0.6935519864741374,0.6923040909604528,0.5576131556403731,0.3287505084481453,0.5849321201278914,0.6925980052104432,0.5162833412408759,0.6764614412029366,0.6501358097870271,0.6691294155686138,0.6879436847979569,0.6402059362565112,0.6024024708401889,0.4409104121192172,0.60695329111685,0.5689557887101816,0.6535190961076127,0.6958714312692005,0.6990986249760701,0.668172858696749,0.6940562173151804,0.7040382825949287,0.4201544340525974,0.6175634161722225,0.6618952643917062,0.5927622735608696,0.6347989869228554,0.6941417402453011,0.6930333645090869,0.6650613629496265,0.7112050033160762,0.6331873120218073,0.38215979611643647,0.6920663015440585,0.6852523503279255,0.5798204967803811,0.6201894167805507,0.6808308922337744,0.6958766187242624,0.6958766187242624,0.6870117515950537,0.6345298710998662,0.6950608656908701,0.6646445070794831,0.6735138212888129,0.6374340328497672,0.5629678125190615,0.5423198295350355,0.6922619482904724,0.6923644640116029,0.6544642737898547,0.6743094381727255,0.6071902046701297,0.7085421254456433,0.6703182200259759,0.6910767780075956],\"type\":\"scatter\"},{\"mode\":\"lines\",\"name\":\"Best Value\",\"x\":[0,1,2,3,4,5,6,7,8,9,10,11,12,13,14,15,16,17,18,19,20,21,22,23,24,25,26,27,28,29,30,31,32,33,34,35,36,37,38,39,40,41,42,43,44,45,46,47,48,49,50,51,52,53,54,55,56,57,58,59,60,61,62,63,64,65,66,67,68,69,70,71,72,73,74,75,76,77,78,79,80,81,82,83,84,85,86,87,88,89,90,91,92,93,94,95,96,97,98,99],\"y\":[0.571706413346156,0.571706413346156,0.5978912846900473,0.5978912846900473,0.5978912846900473,0.5978912846900473,0.5978912846900473,0.5978912846900473,0.5978912846900473,0.5978912846900473,0.5978912846900473,0.6866133875457419,0.6990743306453583,0.7125640717670496,0.7125640717670496,0.7125640717670496,0.7125640717670496,0.7125640717670496,0.7125640717670496,0.7125640717670496,0.7125640717670496,0.7125640717670496,0.7125640717670496,0.7125640717670496,0.7125640717670496,0.7125640717670496,0.7125640717670496,0.7125640717670496,0.7125640717670496,0.7125640717670496,0.7125640717670496,0.7125640717670496,0.7125640717670496,0.7125640717670496,0.7125640717670496,0.7125640717670496,0.7125640717670496,0.7125640717670496,0.7125640717670496,0.7125640717670496,0.7125640717670496,0.7125640717670496,0.7125640717670496,0.7125640717670496,0.7125640717670496,0.7125640717670496,0.7125640717670496,0.7125640717670496,0.7125640717670496,0.7125640717670496,0.7125640717670496,0.7125640717670496,0.7125640717670496,0.7125640717670496,0.7125640717670496,0.7125640717670496,0.7125640717670496,0.7125640717670496,0.7125640717670496,0.7125640717670496,0.7125640717670496,0.7125640717670496,0.7125640717670496,0.7125640717670496,0.7125640717670496,0.7125640717670496,0.7125640717670496,0.7125640717670496,0.7125640717670496,0.7125640717670496,0.7125640717670496,0.7125640717670496,0.7125640717670496,0.7125640717670496,0.7125640717670496,0.7125640717670496,0.7125640717670496,0.7125640717670496,0.7125640717670496,0.7125640717670496,0.7125640717670496,0.7125640717670496,0.7125640717670496,0.7125640717670496,0.7125640717670496,0.7125640717670496,0.7125640717670496,0.7125640717670496,0.7125640717670496,0.7125640717670496,0.7125640717670496,0.7125640717670496,0.7125640717670496,0.7125640717670496,0.7125640717670496,0.7125640717670496,0.7125640717670496,0.7125640717670496,0.7125640717670496,0.7125640717670496],\"type\":\"scatter\"},{\"marker\":{\"color\":\"#cccccc\"},\"mode\":\"markers\",\"name\":\"Infeasible Trial\",\"showlegend\":false,\"x\":[],\"y\":[],\"type\":\"scatter\"}],                        {\"title\":{\"text\":\"Optimization History Plot\"},\"xaxis\":{\"title\":{\"text\":\"Trial\"}},\"yaxis\":{\"title\":{\"text\":\"Objective Value\"}},\"template\":{\"data\":{\"histogram2dcontour\":[{\"type\":\"histogram2dcontour\",\"colorbar\":{\"outlinewidth\":0,\"ticks\":\"\"},\"colorscale\":[[0.0,\"#0d0887\"],[0.1111111111111111,\"#46039f\"],[0.2222222222222222,\"#7201a8\"],[0.3333333333333333,\"#9c179e\"],[0.4444444444444444,\"#bd3786\"],[0.5555555555555556,\"#d8576b\"],[0.6666666666666666,\"#ed7953\"],[0.7777777777777778,\"#fb9f3a\"],[0.8888888888888888,\"#fdca26\"],[1.0,\"#f0f921\"]]}],\"choropleth\":[{\"type\":\"choropleth\",\"colorbar\":{\"outlinewidth\":0,\"ticks\":\"\"}}],\"histogram2d\":[{\"type\":\"histogram2d\",\"colorbar\":{\"outlinewidth\":0,\"ticks\":\"\"},\"colorscale\":[[0.0,\"#0d0887\"],[0.1111111111111111,\"#46039f\"],[0.2222222222222222,\"#7201a8\"],[0.3333333333333333,\"#9c179e\"],[0.4444444444444444,\"#bd3786\"],[0.5555555555555556,\"#d8576b\"],[0.6666666666666666,\"#ed7953\"],[0.7777777777777778,\"#fb9f3a\"],[0.8888888888888888,\"#fdca26\"],[1.0,\"#f0f921\"]]}],\"heatmap\":[{\"type\":\"heatmap\",\"colorbar\":{\"outlinewidth\":0,\"ticks\":\"\"},\"colorscale\":[[0.0,\"#0d0887\"],[0.1111111111111111,\"#46039f\"],[0.2222222222222222,\"#7201a8\"],[0.3333333333333333,\"#9c179e\"],[0.4444444444444444,\"#bd3786\"],[0.5555555555555556,\"#d8576b\"],[0.6666666666666666,\"#ed7953\"],[0.7777777777777778,\"#fb9f3a\"],[0.8888888888888888,\"#fdca26\"],[1.0,\"#f0f921\"]]}],\"heatmapgl\":[{\"type\":\"heatmapgl\",\"colorbar\":{\"outlinewidth\":0,\"ticks\":\"\"},\"colorscale\":[[0.0,\"#0d0887\"],[0.1111111111111111,\"#46039f\"],[0.2222222222222222,\"#7201a8\"],[0.3333333333333333,\"#9c179e\"],[0.4444444444444444,\"#bd3786\"],[0.5555555555555556,\"#d8576b\"],[0.6666666666666666,\"#ed7953\"],[0.7777777777777778,\"#fb9f3a\"],[0.8888888888888888,\"#fdca26\"],[1.0,\"#f0f921\"]]}],\"contourcarpet\":[{\"type\":\"contourcarpet\",\"colorbar\":{\"outlinewidth\":0,\"ticks\":\"\"}}],\"contour\":[{\"type\":\"contour\",\"colorbar\":{\"outlinewidth\":0,\"ticks\":\"\"},\"colorscale\":[[0.0,\"#0d0887\"],[0.1111111111111111,\"#46039f\"],[0.2222222222222222,\"#7201a8\"],[0.3333333333333333,\"#9c179e\"],[0.4444444444444444,\"#bd3786\"],[0.5555555555555556,\"#d8576b\"],[0.6666666666666666,\"#ed7953\"],[0.7777777777777778,\"#fb9f3a\"],[0.8888888888888888,\"#fdca26\"],[1.0,\"#f0f921\"]]}],\"surface\":[{\"type\":\"surface\",\"colorbar\":{\"outlinewidth\":0,\"ticks\":\"\"},\"colorscale\":[[0.0,\"#0d0887\"],[0.1111111111111111,\"#46039f\"],[0.2222222222222222,\"#7201a8\"],[0.3333333333333333,\"#9c179e\"],[0.4444444444444444,\"#bd3786\"],[0.5555555555555556,\"#d8576b\"],[0.6666666666666666,\"#ed7953\"],[0.7777777777777778,\"#fb9f3a\"],[0.8888888888888888,\"#fdca26\"],[1.0,\"#f0f921\"]]}],\"mesh3d\":[{\"type\":\"mesh3d\",\"colorbar\":{\"outlinewidth\":0,\"ticks\":\"\"}}],\"scatter\":[{\"fillpattern\":{\"fillmode\":\"overlay\",\"size\":10,\"solidity\":0.2},\"type\":\"scatter\"}],\"parcoords\":[{\"type\":\"parcoords\",\"line\":{\"colorbar\":{\"outlinewidth\":0,\"ticks\":\"\"}}}],\"scatterpolargl\":[{\"type\":\"scatterpolargl\",\"marker\":{\"colorbar\":{\"outlinewidth\":0,\"ticks\":\"\"}}}],\"bar\":[{\"error_x\":{\"color\":\"#2a3f5f\"},\"error_y\":{\"color\":\"#2a3f5f\"},\"marker\":{\"line\":{\"color\":\"#E5ECF6\",\"width\":0.5},\"pattern\":{\"fillmode\":\"overlay\",\"size\":10,\"solidity\":0.2}},\"type\":\"bar\"}],\"scattergeo\":[{\"type\":\"scattergeo\",\"marker\":{\"colorbar\":{\"outlinewidth\":0,\"ticks\":\"\"}}}],\"scatterpolar\":[{\"type\":\"scatterpolar\",\"marker\":{\"colorbar\":{\"outlinewidth\":0,\"ticks\":\"\"}}}],\"histogram\":[{\"marker\":{\"pattern\":{\"fillmode\":\"overlay\",\"size\":10,\"solidity\":0.2}},\"type\":\"histogram\"}],\"scattergl\":[{\"type\":\"scattergl\",\"marker\":{\"colorbar\":{\"outlinewidth\":0,\"ticks\":\"\"}}}],\"scatter3d\":[{\"type\":\"scatter3d\",\"line\":{\"colorbar\":{\"outlinewidth\":0,\"ticks\":\"\"}},\"marker\":{\"colorbar\":{\"outlinewidth\":0,\"ticks\":\"\"}}}],\"scattermapbox\":[{\"type\":\"scattermapbox\",\"marker\":{\"colorbar\":{\"outlinewidth\":0,\"ticks\":\"\"}}}],\"scatterternary\":[{\"type\":\"scatterternary\",\"marker\":{\"colorbar\":{\"outlinewidth\":0,\"ticks\":\"\"}}}],\"scattercarpet\":[{\"type\":\"scattercarpet\",\"marker\":{\"colorbar\":{\"outlinewidth\":0,\"ticks\":\"\"}}}],\"carpet\":[{\"aaxis\":{\"endlinecolor\":\"#2a3f5f\",\"gridcolor\":\"white\",\"linecolor\":\"white\",\"minorgridcolor\":\"white\",\"startlinecolor\":\"#2a3f5f\"},\"baxis\":{\"endlinecolor\":\"#2a3f5f\",\"gridcolor\":\"white\",\"linecolor\":\"white\",\"minorgridcolor\":\"white\",\"startlinecolor\":\"#2a3f5f\"},\"type\":\"carpet\"}],\"table\":[{\"cells\":{\"fill\":{\"color\":\"#EBF0F8\"},\"line\":{\"color\":\"white\"}},\"header\":{\"fill\":{\"color\":\"#C8D4E3\"},\"line\":{\"color\":\"white\"}},\"type\":\"table\"}],\"barpolar\":[{\"marker\":{\"line\":{\"color\":\"#E5ECF6\",\"width\":0.5},\"pattern\":{\"fillmode\":\"overlay\",\"size\":10,\"solidity\":0.2}},\"type\":\"barpolar\"}],\"pie\":[{\"automargin\":true,\"type\":\"pie\"}]},\"layout\":{\"autotypenumbers\":\"strict\",\"colorway\":[\"#636efa\",\"#EF553B\",\"#00cc96\",\"#ab63fa\",\"#FFA15A\",\"#19d3f3\",\"#FF6692\",\"#B6E880\",\"#FF97FF\",\"#FECB52\"],\"font\":{\"color\":\"#2a3f5f\"},\"hovermode\":\"closest\",\"hoverlabel\":{\"align\":\"left\"},\"paper_bgcolor\":\"white\",\"plot_bgcolor\":\"#E5ECF6\",\"polar\":{\"bgcolor\":\"#E5ECF6\",\"angularaxis\":{\"gridcolor\":\"white\",\"linecolor\":\"white\",\"ticks\":\"\"},\"radialaxis\":{\"gridcolor\":\"white\",\"linecolor\":\"white\",\"ticks\":\"\"}},\"ternary\":{\"bgcolor\":\"#E5ECF6\",\"aaxis\":{\"gridcolor\":\"white\",\"linecolor\":\"white\",\"ticks\":\"\"},\"baxis\":{\"gridcolor\":\"white\",\"linecolor\":\"white\",\"ticks\":\"\"},\"caxis\":{\"gridcolor\":\"white\",\"linecolor\":\"white\",\"ticks\":\"\"}},\"coloraxis\":{\"colorbar\":{\"outlinewidth\":0,\"ticks\":\"\"}},\"colorscale\":{\"sequential\":[[0.0,\"#0d0887\"],[0.1111111111111111,\"#46039f\"],[0.2222222222222222,\"#7201a8\"],[0.3333333333333333,\"#9c179e\"],[0.4444444444444444,\"#bd3786\"],[0.5555555555555556,\"#d8576b\"],[0.6666666666666666,\"#ed7953\"],[0.7777777777777778,\"#fb9f3a\"],[0.8888888888888888,\"#fdca26\"],[1.0,\"#f0f921\"]],\"sequentialminus\":[[0.0,\"#0d0887\"],[0.1111111111111111,\"#46039f\"],[0.2222222222222222,\"#7201a8\"],[0.3333333333333333,\"#9c179e\"],[0.4444444444444444,\"#bd3786\"],[0.5555555555555556,\"#d8576b\"],[0.6666666666666666,\"#ed7953\"],[0.7777777777777778,\"#fb9f3a\"],[0.8888888888888888,\"#fdca26\"],[1.0,\"#f0f921\"]],\"diverging\":[[0,\"#8e0152\"],[0.1,\"#c51b7d\"],[0.2,\"#de77ae\"],[0.3,\"#f1b6da\"],[0.4,\"#fde0ef\"],[0.5,\"#f7f7f7\"],[0.6,\"#e6f5d0\"],[0.7,\"#b8e186\"],[0.8,\"#7fbc41\"],[0.9,\"#4d9221\"],[1,\"#276419\"]]},\"xaxis\":{\"gridcolor\":\"white\",\"linecolor\":\"white\",\"ticks\":\"\",\"title\":{\"standoff\":15},\"zerolinecolor\":\"white\",\"automargin\":true,\"zerolinewidth\":2},\"yaxis\":{\"gridcolor\":\"white\",\"linecolor\":\"white\",\"ticks\":\"\",\"title\":{\"standoff\":15},\"zerolinecolor\":\"white\",\"automargin\":true,\"zerolinewidth\":2},\"scene\":{\"xaxis\":{\"backgroundcolor\":\"#E5ECF6\",\"gridcolor\":\"white\",\"linecolor\":\"white\",\"showbackground\":true,\"ticks\":\"\",\"zerolinecolor\":\"white\",\"gridwidth\":2},\"yaxis\":{\"backgroundcolor\":\"#E5ECF6\",\"gridcolor\":\"white\",\"linecolor\":\"white\",\"showbackground\":true,\"ticks\":\"\",\"zerolinecolor\":\"white\",\"gridwidth\":2},\"zaxis\":{\"backgroundcolor\":\"#E5ECF6\",\"gridcolor\":\"white\",\"linecolor\":\"white\",\"showbackground\":true,\"ticks\":\"\",\"zerolinecolor\":\"white\",\"gridwidth\":2}},\"shapedefaults\":{\"line\":{\"color\":\"#2a3f5f\"}},\"annotationdefaults\":{\"arrowcolor\":\"#2a3f5f\",\"arrowhead\":0,\"arrowwidth\":1},\"geo\":{\"bgcolor\":\"white\",\"landcolor\":\"#E5ECF6\",\"subunitcolor\":\"white\",\"showland\":true,\"showlakes\":true,\"lakecolor\":\"white\"},\"title\":{\"x\":0.05},\"mapbox\":{\"style\":\"light\"}}}},                        {\"responsive\": true}                    )                };                            </script>        </div>"
      ],
      "text/plain": [
       "Figure({\n",
       "    'data': [{'mode': 'markers',\n",
       "              'name': 'Objective Value',\n",
       "              'type': 'scatter',\n",
       "              'x': [0, 1, 2, 3, 4, 5, 6, 7, 8, 9, 10, 11, 12, 13, 14, 15, 16, 17,\n",
       "                    18, 19, 20, 21, 22, 23, 24, 25, 26, 27, 28, 29, 30, 31, 32, 33,\n",
       "                    34, 35, 36, 37, 38, 39, 40, 41, 42, 43, 44, 45, 46, 47, 48, 49,\n",
       "                    50, 51, 52, 53, 54, 55, 56, 57, 58, 59, 60, 61, 62, 63, 64, 65,\n",
       "                    66, 67, 68, 69, 70, 71, 72, 73, 74, 75, 76, 77, 78, 79, 80, 81,\n",
       "                    82, 83, 84, 85, 86, 87, 88, 89, 90, 91, 92, 93, 94, 95, 96, 97,\n",
       "                    98, 99],\n",
       "              'y': [0.571706413346156, 0.0586154558251024, 0.5978912846900473,\n",
       "                    0.44788002020940293, 0.2725405038890201, 0.48602997308377116,\n",
       "                    0.18324973607861803, 0.38899171824759393, 0.44920078188179036,\n",
       "                    0.5027625451541324, 0.407567259924297, 0.6866133875457419,\n",
       "                    0.6990743306453583, 0.7125640717670496, 0.7054043327914765,\n",
       "                    0.4998805243865931, 0.3867041314348279, 0.40515384197239845,\n",
       "                    0.48225927597654356, 0.6054026989309141, 0.523079086567497,\n",
       "                    0.6941689017024207, 0.6639380339634149, 0.6371413836656056,\n",
       "                    0.5348779196707667, 0.48453436563363256, 0.3496494354398373,\n",
       "                    0.6687021981782214, 0.5660367737831296, 0.36938181469859416,\n",
       "                    0.5802520132321201, 0.6932637898948633, 0.6789646021975027,\n",
       "                    0.5884597331378709, 0.6352462796589858, 0.5695361667739975,\n",
       "                    0.4071685899544482, 0.6429166188352028, 0.6628047015253737,\n",
       "                    0.4715005378740985, 0.07870552184910619, 0.6932637898948633,\n",
       "                    0.6653676170247772, 0.6021669657015479, 0.6935519864741374,\n",
       "                    0.6923040909604528, 0.5576131556403731, 0.3287505084481453,\n",
       "                    0.5849321201278914, 0.6925980052104432, 0.5162833412408759,\n",
       "                    0.6764614412029366, 0.6501358097870271, 0.6691294155686138,\n",
       "                    0.6879436847979569, 0.6402059362565112, 0.6024024708401889,\n",
       "                    0.4409104121192172, 0.60695329111685, 0.5689557887101816,\n",
       "                    0.6535190961076127, 0.6958714312692005, 0.6990986249760701,\n",
       "                    0.668172858696749, 0.6940562173151804, 0.7040382825949287,\n",
       "                    0.4201544340525974, 0.6175634161722225, 0.6618952643917062,\n",
       "                    0.5927622735608696, 0.6347989869228554, 0.6941417402453011,\n",
       "                    0.6930333645090869, 0.6650613629496265, 0.7112050033160762,\n",
       "                    0.6331873120218073, 0.38215979611643647, 0.6920663015440585,\n",
       "                    0.6852523503279255, 0.5798204967803811, 0.6201894167805507,\n",
       "                    0.6808308922337744, 0.6958766187242624, 0.6958766187242624,\n",
       "                    0.6870117515950537, 0.6345298710998662, 0.6950608656908701,\n",
       "                    0.6646445070794831, 0.6735138212888129, 0.6374340328497672,\n",
       "                    0.5629678125190615, 0.5423198295350355, 0.6922619482904724,\n",
       "                    0.6923644640116029, 0.6544642737898547, 0.6743094381727255,\n",
       "                    0.6071902046701297, 0.7085421254456433, 0.6703182200259759,\n",
       "                    0.6910767780075956]},\n",
       "             {'mode': 'lines',\n",
       "              'name': 'Best Value',\n",
       "              'type': 'scatter',\n",
       "              'x': [0, 1, 2, 3, 4, 5, 6, 7, 8, 9, 10, 11, 12, 13, 14, 15, 16, 17,\n",
       "                    18, 19, 20, 21, 22, 23, 24, 25, 26, 27, 28, 29, 30, 31, 32, 33,\n",
       "                    34, 35, 36, 37, 38, 39, 40, 41, 42, 43, 44, 45, 46, 47, 48, 49,\n",
       "                    50, 51, 52, 53, 54, 55, 56, 57, 58, 59, 60, 61, 62, 63, 64, 65,\n",
       "                    66, 67, 68, 69, 70, 71, 72, 73, 74, 75, 76, 77, 78, 79, 80, 81,\n",
       "                    82, 83, 84, 85, 86, 87, 88, 89, 90, 91, 92, 93, 94, 95, 96, 97,\n",
       "                    98, 99],\n",
       "              'y': [0.571706413346156, 0.571706413346156, 0.5978912846900473,\n",
       "                    0.5978912846900473, 0.5978912846900473, 0.5978912846900473,\n",
       "                    0.5978912846900473, 0.5978912846900473, 0.5978912846900473,\n",
       "                    0.5978912846900473, 0.5978912846900473, 0.6866133875457419,\n",
       "                    0.6990743306453583, 0.7125640717670496, 0.7125640717670496,\n",
       "                    0.7125640717670496, 0.7125640717670496, 0.7125640717670496,\n",
       "                    0.7125640717670496, 0.7125640717670496, 0.7125640717670496,\n",
       "                    0.7125640717670496, 0.7125640717670496, 0.7125640717670496,\n",
       "                    0.7125640717670496, 0.7125640717670496, 0.7125640717670496,\n",
       "                    0.7125640717670496, 0.7125640717670496, 0.7125640717670496,\n",
       "                    0.7125640717670496, 0.7125640717670496, 0.7125640717670496,\n",
       "                    0.7125640717670496, 0.7125640717670496, 0.7125640717670496,\n",
       "                    0.7125640717670496, 0.7125640717670496, 0.7125640717670496,\n",
       "                    0.7125640717670496, 0.7125640717670496, 0.7125640717670496,\n",
       "                    0.7125640717670496, 0.7125640717670496, 0.7125640717670496,\n",
       "                    0.7125640717670496, 0.7125640717670496, 0.7125640717670496,\n",
       "                    0.7125640717670496, 0.7125640717670496, 0.7125640717670496,\n",
       "                    0.7125640717670496, 0.7125640717670496, 0.7125640717670496,\n",
       "                    0.7125640717670496, 0.7125640717670496, 0.7125640717670496,\n",
       "                    0.7125640717670496, 0.7125640717670496, 0.7125640717670496,\n",
       "                    0.7125640717670496, 0.7125640717670496, 0.7125640717670496,\n",
       "                    0.7125640717670496, 0.7125640717670496, 0.7125640717670496,\n",
       "                    0.7125640717670496, 0.7125640717670496, 0.7125640717670496,\n",
       "                    0.7125640717670496, 0.7125640717670496, 0.7125640717670496,\n",
       "                    0.7125640717670496, 0.7125640717670496, 0.7125640717670496,\n",
       "                    0.7125640717670496, 0.7125640717670496, 0.7125640717670496,\n",
       "                    0.7125640717670496, 0.7125640717670496, 0.7125640717670496,\n",
       "                    0.7125640717670496, 0.7125640717670496, 0.7125640717670496,\n",
       "                    0.7125640717670496, 0.7125640717670496, 0.7125640717670496,\n",
       "                    0.7125640717670496, 0.7125640717670496, 0.7125640717670496,\n",
       "                    0.7125640717670496, 0.7125640717670496, 0.7125640717670496,\n",
       "                    0.7125640717670496, 0.7125640717670496, 0.7125640717670496,\n",
       "                    0.7125640717670496, 0.7125640717670496, 0.7125640717670496,\n",
       "                    0.7125640717670496]},\n",
       "             {'marker': {'color': '#cccccc'},\n",
       "              'mode': 'markers',\n",
       "              'name': 'Infeasible Trial',\n",
       "              'showlegend': False,\n",
       "              'type': 'scatter',\n",
       "              'x': [],\n",
       "              'y': []}],\n",
       "    'layout': {'template': '...',\n",
       "               'title': {'text': 'Optimization History Plot'},\n",
       "               'xaxis': {'title': {'text': 'Trial'}},\n",
       "               'yaxis': {'title': {'text': 'Objective Value'}}}\n",
       "})"
      ]
     },
     "execution_count": 131,
     "metadata": {},
     "output_type": "execute_result"
    }
   ],
   "source": [
    "%%time\n",
    "def objective(trial):\n",
    "    # Number of trees in random forest\n",
    "    n_estimators = trial.suggest_int(name=\"n_estimators\", low=100, high=1000)\n",
    "\n",
    "    # Number of features to consider at every split\n",
    "    max_features = trial.suggest_int(name=\"max_features\", low=1, high=10)\n",
    "\n",
    "    # Maximum number of levels in tree\n",
    "    max_depth = trial.suggest_int(name=\"max_depth\", low=10, high=100)\n",
    "\n",
    "    # Minimum number of samples required to split a node\n",
    "    min_samples_split = trial.suggest_int(name=\"min_samples_split\", low=2, high=32)\n",
    "\n",
    "    # Minimum number of samples required at each leaf node\n",
    "    min_samples_leaf = trial.suggest_int(name=\"min_samples_leaf\", low=1, high=32)\n",
    "    \n",
    "    model = ExtraTreesClassifier(n_estimators = n_estimators, criterion = 'log_loss', max_depth =  max_depth,\n",
    "                                    min_samples_split =  min_samples_split, min_samples_leaf =  min_samples_leaf,\n",
    "                                    max_features =  max_features, random_state =  42, n_jobs =  -1)\n",
    "    \n",
    "    score = cross_val_score(model, X_train, y_train, scoring = 'f1_macro', cv = skf, n_jobs = -1)\n",
    "    \n",
    "    return score.mean() \n",
    "\n",
    "optuna.logging.set_verbosity(optuna.logging.WARNING)\n",
    "\n",
    "sampler = TPESampler(seed=42)\n",
    "study = optuna.create_study(study_name=\"random_forest\", direction=\"maximize\", sampler=sampler)\n",
    "study.optimize(objective, n_trials=100, show_progress_bar=True)\n",
    "\n",
    "print(\"Number of finished trials: \", len(study.trials))\n",
    "print(\"Best trial:\")\n",
    "trial = study.best_trial\n",
    "print(\"  Value: \", trial.value)\n",
    "print(\"  Params: \")\n",
    "for key, value in trial.params.items():\n",
    "    print(f\"    {key}: {value}\")\n",
    "    \n",
    "optuna.visualization.plot_optimization_history(study)\n"
   ]
  },
  {
   "cell_type": "markdown",
   "metadata": {},
   "source": [
    "### Modelling Part 1"
   ]
  },
  {
   "cell_type": "markdown",
   "metadata": {},
   "source": [
    "### Modelling Part 2"
   ]
  },
  {
   "cell_type": "code",
   "execution_count": 125,
   "metadata": {},
   "outputs": [],
   "source": [
    "# md1 = ExtraTreesClassifier(n_estimators = 407, max_features = 10, max_depth = 62, min_samples_split = 2,   \n",
    "#                                              min_samples_leaf = 1, criterion = 'log_loss', random_state = 1)\n",
    "\n",
    "# md2 = HistGradientBoostingClassifier(max_iter = 755, learning_rate = 0.08069194222134556, l2_regularization = 0.004071819616198791,\n",
    "#                                                        max_depth = 38, max_leaf_nodes = 30, min_samples_leaf = 4, loss = 'log_loss', max_bins =  255, \n",
    "#                                                        early_stopping =  False, random_state =  1)\n",
    "\n",
    "# md3 = XGBClassifier(n_estimators = 241, learning_rate = 0.027071426847753828, max_depth = 23, subsample = 0.826267822451126,\n",
    "#                                        min_child_weight = 1, gamma = 0.07899077336556067, colsample_bytree = 0.7273085926052265,\n",
    "#                                        reg_alpha = 0.0011669044708923562, reg_lambda = 1.7546953633442173e-05, random_state =  1)"
   ]
  },
  {
   "cell_type": "markdown",
   "metadata": {},
   "source": [
    "### Model 1.1"
   ]
  },
  {
   "cell_type": "code",
   "execution_count": 134,
   "metadata": {},
   "outputs": [
    {
     "name": "stdout",
     "output_type": "stream",
     "text": [
      "F1:  1.0\n"
     ]
    }
   ],
   "source": [
    "# model = RandomForestClassifier(n_estimators = 551, max_features = 9, max_depth = 48, min_samples_split = 2,\n",
    "#                                                 min_samples_leaf = 1,random_state = 1, criterion = 'log_loss', n_jobs = -1)\n",
    "\n",
    "model = ExtraTreesClassifier(\n",
    "    n_estimators=642,\n",
    "    max_features=8,\n",
    "    max_depth=62,\n",
    "    min_samples_split=3,\n",
    "    min_samples_leaf=1,\n",
    "    criterion = 'log_loss',\n",
    "    random_state = 1, \n",
    "    n_jobs =  -1\n",
    ")\n",
    "\n",
    "# model = XGBClassifier(n_estimators = 241, learning_rate = 0.027071426847753828, max_depth = 23, subsample = 0.826267822451126,\n",
    "#                                        min_child_weight = 1, gamma = 0.07899077336556067, colsample_bytree = 0.7273085926052265,\n",
    "#                                        reg_alpha = 0.0011669044708923562, reg_lambda = 1.7546953633442173e-05, random_state =  1)\n",
    "\n",
    "# model = HistGradientBoostingClassifier(max_iter = 755, learning_rate = 0.08069194222134556, l2_regularization = 0.004071819616198791,\n",
    "#                                                        max_depth = 38, max_leaf_nodes = 30, min_samples_leaf = 4, loss = 'log_loss', max_bins =  255, \n",
    "#                                                        early_stopping =  False, random_state =  1)\n",
    "\n",
    "model.fit(X, y)\n",
    "y_pred = model.predict(X_test)\n",
    "print('F1: ', f1_score(y_test, y_pred, average='macro'))\n",
    "submission = model.predict(test)"
   ]
  },
  {
   "cell_type": "code",
   "execution_count": 133,
   "metadata": {},
   "outputs": [
    {
     "name": "stdout",
     "output_type": "stream",
     "text": [
      "F1:  0.7260354329785198\n"
     ]
    }
   ],
   "source": [
    "# model = ExtraTreesClassifier(\n",
    "#     n_estimators= 403,\n",
    "#     max_features= 8,\n",
    "#     max_depth= 71,\n",
    "#     min_samples_split= 2,\n",
    "#     min_samples_leaf= 1,\n",
    "#     criterion = 'log_loss',\n",
    "#     random_state = 42, \n",
    "#     n_jobs =  -1\n",
    "# )\n",
    "\n",
    "# model.fit(X_train, y_train)\n",
    "# y_pred = model.predict(X_test)\n",
    "# print('F1: ', f1_score(y_test, y_pred, average='macro'))\n",
    "# submission = model.predict(test)"
   ]
  },
  {
   "cell_type": "code",
   "execution_count": 135,
   "metadata": {},
   "outputs": [
    {
     "data": {
      "image/png": "[encoded data removed]",
      "text/plain": [
       "<Figure size 1000x600 with 2 Axes>"
      ]
     },
     "metadata": {},
     "output_type": "display_data"
    }
   ],
   "source": [
    "plt.figure(figsize=(10, 6))\n",
    "cm = confusion_matrix(y_test, y_pred)\n",
    "sns.heatmap(cm, annot=True, fmt='d', cmap='Blues')\n",
    "plt.xlabel('Predicted')\n",
    "plt.ylabel('Actual')\n",
    "plt.title('Confusion Matrix')\n",
    "plt.show()"
   ]
  },
  {
   "cell_type": "code",
   "execution_count": 136,
   "metadata": {},
   "outputs": [
    {
     "data": {
      "image/png": "[encoded data removed]",
      "text/plain": [
       "<Figure size 1200x800 with 1 Axes>"
      ]
     },
     "metadata": {},
     "output_type": "display_data"
    }
   ],
   "source": [
    "plt.figure(figsize=(12, 8))\n",
    "feat_importances = pd.Series(model.feature_importances_, index=X_train.columns)\n",
    "feat_importances.nlargest(15).plot(kind='barh')\n",
    "plt.title('Feature Importances')\n",
    "plt.xlabel('Relative Importance')\n",
    "plt.ylabel('Features')\n",
    "plt.show()"
   ]
  },
  {
   "cell_type": "code",
   "execution_count": 129,
   "metadata": {},
   "outputs": [],
   "source": [
    "submission_format['jumlah_promosi'] = pd.DataFrame(submission)\n",
    "submission_format.to_csv('submission_y.csv',index = False)"
   ]
  }
 ],
 "metadata": {
  "kernelspec": {
   "display_name": "Python 3",
   "language": "python",
   "name": "python3"
  },
  "language_info": {
   "codemirror_mode": {
    "name": "ipython",
    "version": 3
   },
   "file_extension": ".py",
   "mimetype": "text/x-python",
   "name": "python",
   "nbconvert_exporter": "python",
   "pygments_lexer": "ipython3",
   "version": "3.12.3"
  }
 },
 "nbformat": 4,
 "nbformat_minor": 2
}
