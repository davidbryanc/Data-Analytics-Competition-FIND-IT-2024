{
 "cells": [
  {
   "cell_type": "code",
   "execution_count": 161,
   "metadata": {},
   "outputs": [],
   "source": [
    "import numpy as np\n",
    "import pandas as pd\n",
    "\n",
    "# Untuk visualisasi\n",
    "import matplotlib.pyplot as plt\n",
    "import seaborn as sns\n",
    "\n",
    "# Untuk mengevaluasi performa model\n",
    "from sklearn.metrics import f1_score, confusion_matrix\n",
    "\n",
    "# Untuk melakukan ekstraksi data pada suatu kolom\n",
    "import re \n",
    "\n",
    "# Membagi dataset menjadi train dan test set\n",
    "from sklearn.model_selection import train_test_split\n",
    "\n",
    "import time\n",
    "import warnings\n",
    "warnings.filterwarnings('ignore')\n",
    "\n",
    "# Set rows ke 100 agar dapat melihat data lebih banyak\n",
    "pd.set_option('display.max_rows', 100)"
   ]
  },
  {
   "cell_type": "code",
   "execution_count": 162,
   "metadata": {},
   "outputs": [],
   "source": [
    "import pandas as pd; pd.set_option('display.max_columns', 100)\n",
    "import numpy as np\n",
    "\n",
    "import warnings\n",
    "warnings.filterwarnings('ignore')\n",
    "\n",
    "from tqdm.notebook import tqdm\n",
    "\n",
    "import re\n",
    "\n",
    "from functools import partial\n",
    "from scipy.stats import mode\n",
    "\n",
    "import matplotlib.pyplot as plt; plt.style.use('ggplot')\n",
    "import seaborn as sns\n",
    "import plotly.express as px\n",
    "\n",
    "from sklearn.tree import DecisionTreeClassifier, plot_tree\n",
    "from sklearn.preprocessing import MinMaxScaler, StandardScaler, LabelEncoder, FunctionTransformer, PowerTransformer, PolynomialFeatures\n",
    "from sklearn.pipeline import make_pipeline, Pipeline\n",
    "from sklearn.decomposition import PCA\n",
    "from sklearn.cluster import KMeans\n",
    "from sklearn.compose import ColumnTransformer, make_column_transformer\n",
    "from sklearn.impute import KNNImputer\n",
    "from sklearn.multiclass import OneVsRestClassifier\n",
    "from sklearn.model_selection import KFold, StratifiedKFold, train_test_split, GridSearchCV, RepeatedStratifiedKFold, cross_val_score, cross_val_predict, cross_validate\n",
    "from sklearn.metrics import roc_auc_score, roc_curve, RocCurveDisplay, cohen_kappa_score, log_loss, f1_score, accuracy_score\n",
    "from sklearn.discriminant_analysis import LinearDiscriminantAnalysis, QuadraticDiscriminantAnalysis\n",
    "from sklearn.neighbors import KNeighborsClassifier\n",
    "from sklearn.feature_selection import RFE, RFECV\n",
    "from sklearn.isotonic import IsotonicRegression\n",
    "from sklearn.calibration import CalibrationDisplay, CalibratedClassifierCV\n",
    "from sklearn.inspection import PartialDependenceDisplay, permutation_importance\n",
    "from sklearn.linear_model import LogisticRegression, RidgeClassifier\n",
    "from collections import Counter\n",
    "from sklearn.ensemble import AdaBoostClassifier, RandomForestClassifier, HistGradientBoostingClassifier, GradientBoostingClassifier, ExtraTreesClassifier, VotingClassifier, StackingClassifier\n",
    "from sklearn.svm import SVC\n",
    "from lightgbm import LGBMClassifier\n",
    "from xgboost import XGBClassifier\n",
    "from catboost import CatBoostClassifier, Pool\n",
    "\n",
    "import optuna\n",
    "from optuna.samplers import TPESampler\n",
    "from optuna.study import Study"
   ]
  },
  {
   "cell_type": "code",
   "execution_count": 163,
   "metadata": {},
   "outputs": [],
   "source": [
    "X = pd.read_csv(\"train_features.csv\")\n",
    "y = pd.read_csv(\"train_labels.csv\")\n",
    "test = pd.read_csv(\"test_features.csv\")\n",
    "test = test.drop(['ID'], axis=1)\n",
    "submission_format = pd.read_csv(\"submission_format.csv\")"
   ]
  },
  {
   "cell_type": "code",
   "execution_count": 164,
   "metadata": {},
   "outputs": [],
   "source": [
    "def summary(df):\n",
    "    summ = pd.DataFrame(df.dtypes, columns=['data type'])\n",
    "    summ['#missing'] = df.isnull().sum().values\n",
    "    summ['Duplicate'] = df.duplicated().sum()\n",
    "    summ['#unique'] = df.nunique().values\n",
    "    desc = pd.DataFrame(df.describe(include='all').transpose())\n",
    "    summ['min'] = desc['min'].values\n",
    "    summ['max'] = desc['max'].values\n",
    "    summ['avg'] = desc['mean'].values\n",
    "    summ['std dev'] = desc['std'].values\n",
    "    # summ['top value'] = desc['top'].values\n",
    "    # summ['Freq'] = desc['freq'].values\n",
    "\n",
    "    return summ"
   ]
  },
  {
   "cell_type": "code",
   "execution_count": 165,
   "metadata": {},
   "outputs": [
    {
     "data": {
      "text/html": [
       "<style type=\"text/css\">\n",
       "#T_1950c_row0_col1, #T_1950c_row0_col2, #T_1950c_row1_col2, #T_1950c_row1_col3, #T_1950c_row2_col2, #T_1950c_row2_col3, #T_1950c_row3_col2, #T_1950c_row4_col2, #T_1950c_row4_col3, #T_1950c_row5_col2, #T_1950c_row5_col3, #T_1950c_row6_col2, #T_1950c_row7_col2, #T_1950c_row8_col2, #T_1950c_row9_col2, #T_1950c_row10_col2, #T_1950c_row11_col2, #T_1950c_row12_col2, #T_1950c_row13_col2, #T_1950c_row14_col2, #T_1950c_row14_col3, #T_1950c_row15_col2 {\n",
       "  background-color: #fff7fb;\n",
       "  color: #000000;\n",
       "}\n",
       "#T_1950c_row0_col3 {\n",
       "  background-color: #fcf4fa;\n",
       "  color: #000000;\n",
       "}\n",
       "#T_1950c_row1_col1, #T_1950c_row3_col1, #T_1950c_row4_col1, #T_1950c_row9_col1 {\n",
       "  background-color: #f5eef6;\n",
       "  color: #000000;\n",
       "}\n",
       "#T_1950c_row2_col1, #T_1950c_row10_col1 {\n",
       "  background-color: #f4edf6;\n",
       "  color: #000000;\n",
       "}\n",
       "#T_1950c_row3_col3, #T_1950c_row15_col1 {\n",
       "  background-color: #023858;\n",
       "  color: #f1f1f1;\n",
       "}\n",
       "#T_1950c_row5_col1, #T_1950c_row14_col1 {\n",
       "  background-color: #f4eef6;\n",
       "  color: #000000;\n",
       "}\n",
       "#T_1950c_row6_col1, #T_1950c_row7_col1, #T_1950c_row8_col1, #T_1950c_row11_col1 {\n",
       "  background-color: #f5eff6;\n",
       "  color: #000000;\n",
       "}\n",
       "#T_1950c_row6_col3 {\n",
       "  background-color: #fbf3f9;\n",
       "  color: #000000;\n",
       "}\n",
       "#T_1950c_row7_col3 {\n",
       "  background-color: #187cb6;\n",
       "  color: #f1f1f1;\n",
       "}\n",
       "#T_1950c_row8_col3 {\n",
       "  background-color: #04649e;\n",
       "  color: #f1f1f1;\n",
       "}\n",
       "#T_1950c_row9_col3 {\n",
       "  background-color: #0f76b3;\n",
       "  color: #f1f1f1;\n",
       "}\n",
       "#T_1950c_row10_col3 {\n",
       "  background-color: #2081b9;\n",
       "  color: #f1f1f1;\n",
       "}\n",
       "#T_1950c_row11_col3, #T_1950c_row12_col3, #T_1950c_row13_col3 {\n",
       "  background-color: #fef6fb;\n",
       "  color: #000000;\n",
       "}\n",
       "#T_1950c_row12_col1, #T_1950c_row13_col1 {\n",
       "  background-color: #f6eff7;\n",
       "  color: #000000;\n",
       "}\n",
       "#T_1950c_row15_col3 {\n",
       "  background-color: #e6e2ef;\n",
       "  color: #000000;\n",
       "}\n",
       "</style>\n",
       "<table id=\"T_1950c\">\n",
       "  <thead>\n",
       "    <tr>\n",
       "      <th class=\"blank level0\" >&nbsp;</th>\n",
       "      <th id=\"T_1950c_level0_col0\" class=\"col_heading level0 col0\" >data type</th>\n",
       "      <th id=\"T_1950c_level0_col1\" class=\"col_heading level0 col1\" >#missing</th>\n",
       "      <th id=\"T_1950c_level0_col2\" class=\"col_heading level0 col2\" >Duplicate</th>\n",
       "      <th id=\"T_1950c_level0_col3\" class=\"col_heading level0 col3\" >#unique</th>\n",
       "      <th id=\"T_1950c_level0_col4\" class=\"col_heading level0 col4\" >min</th>\n",
       "      <th id=\"T_1950c_level0_col5\" class=\"col_heading level0 col5\" >max</th>\n",
       "      <th id=\"T_1950c_level0_col6\" class=\"col_heading level0 col6\" >avg</th>\n",
       "      <th id=\"T_1950c_level0_col7\" class=\"col_heading level0 col7\" >std dev</th>\n",
       "    </tr>\n",
       "  </thead>\n",
       "  <tbody>\n",
       "    <tr>\n",
       "      <th id=\"T_1950c_level0_row0\" class=\"row_heading level0 row0\" >tahun_kelahiran</th>\n",
       "      <td id=\"T_1950c_row0_col0\" class=\"data row0 col0\" >int64</td>\n",
       "      <td id=\"T_1950c_row0_col1\" class=\"data row0 col1\" >0</td>\n",
       "      <td id=\"T_1950c_row0_col2\" class=\"data row0 col2\" >0</td>\n",
       "      <td id=\"T_1950c_row0_col3\" class=\"data row0 col3\" >76</td>\n",
       "      <td id=\"T_1950c_row0_col4\" class=\"data row0 col4\" >1899.000000</td>\n",
       "      <td id=\"T_1950c_row0_col5\" class=\"data row0 col5\" >2000.000000</td>\n",
       "      <td id=\"T_1950c_row0_col6\" class=\"data row0 col6\" >1967.823946</td>\n",
       "      <td id=\"T_1950c_row0_col7\" class=\"data row0 col7\" >11.768131</td>\n",
       "    </tr>\n",
       "    <tr>\n",
       "      <th id=\"T_1950c_level0_row1\" class=\"row_heading level0 row1\" >pendidikan</th>\n",
       "      <td id=\"T_1950c_row1_col0\" class=\"data row1 col0\" >object</td>\n",
       "      <td id=\"T_1950c_row1_col1\" class=\"data row1 col1\" >189</td>\n",
       "      <td id=\"T_1950c_row1_col2\" class=\"data row1 col2\" >0</td>\n",
       "      <td id=\"T_1950c_row1_col3\" class=\"data row1 col3\" >6</td>\n",
       "      <td id=\"T_1950c_row1_col4\" class=\"data row1 col4\" >nan</td>\n",
       "      <td id=\"T_1950c_row1_col5\" class=\"data row1 col5\" >nan</td>\n",
       "      <td id=\"T_1950c_row1_col6\" class=\"data row1 col6\" >nan</td>\n",
       "      <td id=\"T_1950c_row1_col7\" class=\"data row1 col7\" >nan</td>\n",
       "    </tr>\n",
       "    <tr>\n",
       "      <th id=\"T_1950c_level0_row2\" class=\"row_heading level0 row2\" >status_pernikahan</th>\n",
       "      <td id=\"T_1950c_row2_col0\" class=\"data row2 col0\" >object</td>\n",
       "      <td id=\"T_1950c_row2_col1\" class=\"data row2 col1\" >212</td>\n",
       "      <td id=\"T_1950c_row2_col2\" class=\"data row2 col2\" >0</td>\n",
       "      <td id=\"T_1950c_row2_col3\" class=\"data row2 col3\" >6</td>\n",
       "      <td id=\"T_1950c_row2_col4\" class=\"data row2 col4\" >nan</td>\n",
       "      <td id=\"T_1950c_row2_col5\" class=\"data row2 col5\" >nan</td>\n",
       "      <td id=\"T_1950c_row2_col6\" class=\"data row2 col6\" >nan</td>\n",
       "      <td id=\"T_1950c_row2_col7\" class=\"data row2 col7\" >nan</td>\n",
       "    </tr>\n",
       "    <tr>\n",
       "      <th id=\"T_1950c_level0_row3\" class=\"row_heading level0 row3\" >pendapatan</th>\n",
       "      <td id=\"T_1950c_row3_col0\" class=\"data row3 col0\" >float64</td>\n",
       "      <td id=\"T_1950c_row3_col1\" class=\"data row3 col1\" >190</td>\n",
       "      <td id=\"T_1950c_row3_col2\" class=\"data row3 col2\" >0</td>\n",
       "      <td id=\"T_1950c_row3_col3\" class=\"data row3 col3\" >3622</td>\n",
       "      <td id=\"T_1950c_row3_col4\" class=\"data row3 col4\" >5073000.000000</td>\n",
       "      <td id=\"T_1950c_row3_col5\" class=\"data row3 col5\" >332884000.000000</td>\n",
       "      <td id=\"T_1950c_row3_col6\" class=\"data row3 col6\" >114483170.089606</td>\n",
       "      <td id=\"T_1950c_row3_col7\" class=\"data row3 col7\" >43460423.969516</td>\n",
       "    </tr>\n",
       "    <tr>\n",
       "      <th id=\"T_1950c_level0_row4\" class=\"row_heading level0 row4\" >jumlah_anak_balita</th>\n",
       "      <td id=\"T_1950c_row4_col0\" class=\"data row4 col0\" >float64</td>\n",
       "      <td id=\"T_1950c_row4_col1\" class=\"data row4 col1\" >190</td>\n",
       "      <td id=\"T_1950c_row4_col2\" class=\"data row4 col2\" >0</td>\n",
       "      <td id=\"T_1950c_row4_col3\" class=\"data row4 col3\" >3</td>\n",
       "      <td id=\"T_1950c_row4_col4\" class=\"data row4 col4\" >0.000000</td>\n",
       "      <td id=\"T_1950c_row4_col5\" class=\"data row4 col5\" >2.000000</td>\n",
       "      <td id=\"T_1950c_row4_col6\" class=\"data row4 col6\" >0.293080</td>\n",
       "      <td id=\"T_1950c_row4_col7\" class=\"data row4 col7\" >0.473063</td>\n",
       "    </tr>\n",
       "    <tr>\n",
       "      <th id=\"T_1950c_level0_row5\" class=\"row_heading level0 row5\" >jumlah_anak_remaja</th>\n",
       "      <td id=\"T_1950c_row5_col0\" class=\"data row5 col0\" >float64</td>\n",
       "      <td id=\"T_1950c_row5_col1\" class=\"data row5 col1\" >204</td>\n",
       "      <td id=\"T_1950c_row5_col2\" class=\"data row5 col2\" >0</td>\n",
       "      <td id=\"T_1950c_row5_col3\" class=\"data row5 col3\" >3</td>\n",
       "      <td id=\"T_1950c_row5_col4\" class=\"data row5 col4\" >0.000000</td>\n",
       "      <td id=\"T_1950c_row5_col5\" class=\"data row5 col5\" >2.000000</td>\n",
       "      <td id=\"T_1950c_row5_col6\" class=\"data row5 col6\" >0.353723</td>\n",
       "      <td id=\"T_1950c_row5_col7\" class=\"data row5 col7\" >0.493014</td>\n",
       "    </tr>\n",
       "    <tr>\n",
       "      <th id=\"T_1950c_level0_row6\" class=\"row_heading level0 row6\" >terakhir_belanja</th>\n",
       "      <td id=\"T_1950c_row6_col0\" class=\"data row6 col0\" >float64</td>\n",
       "      <td id=\"T_1950c_row6_col1\" class=\"data row6 col1\" >172</td>\n",
       "      <td id=\"T_1950c_row6_col2\" class=\"data row6 col2\" >0</td>\n",
       "      <td id=\"T_1950c_row6_col3\" class=\"data row6 col3\" >113</td>\n",
       "      <td id=\"T_1950c_row6_col4\" class=\"data row6 col4\" >0.000000</td>\n",
       "      <td id=\"T_1950c_row6_col5\" class=\"data row6 col5\" >128.000000</td>\n",
       "      <td id=\"T_1950c_row6_col6\" class=\"data row6 col6\" >47.231550</td>\n",
       "      <td id=\"T_1950c_row6_col7\" class=\"data row6 col7\" >27.068512</td>\n",
       "    </tr>\n",
       "    <tr>\n",
       "      <th id=\"T_1950c_level0_row7\" class=\"row_heading level0 row7\" >belanja_buah</th>\n",
       "      <td id=\"T_1950c_row7_col0\" class=\"data row7 col0\" >float64</td>\n",
       "      <td id=\"T_1950c_row7_col1\" class=\"data row7 col1\" >181</td>\n",
       "      <td id=\"T_1950c_row7_col2\" class=\"data row7 col2\" >0</td>\n",
       "      <td id=\"T_1950c_row7_col3\" class=\"data row7 col3\" >2535</td>\n",
       "      <td id=\"T_1950c_row7_col4\" class=\"data row7 col4\" >0.000000</td>\n",
       "      <td id=\"T_1950c_row7_col5\" class=\"data row7 col5\" >396508.000000</td>\n",
       "      <td id=\"T_1950c_row7_col6\" class=\"data row7 col6\" >59804.239824</td>\n",
       "      <td id=\"T_1950c_row7_col7\" class=\"data row7 col7\" >74024.976109</td>\n",
       "    </tr>\n",
       "    <tr>\n",
       "      <th id=\"T_1950c_level0_row8\" class=\"row_heading level0 row8\" >belanja_daging</th>\n",
       "      <td id=\"T_1950c_row8_col0\" class=\"data row8 col0\" >float64</td>\n",
       "      <td id=\"T_1950c_row8_col1\" class=\"data row8 col1\" >178</td>\n",
       "      <td id=\"T_1950c_row8_col2\" class=\"data row8 col2\" >0</td>\n",
       "      <td id=\"T_1950c_row8_col3\" class=\"data row8 col3\" >2951</td>\n",
       "      <td id=\"T_1950c_row8_col4\" class=\"data row8 col4\" >0.000000</td>\n",
       "      <td id=\"T_1950c_row8_col5\" class=\"data row8 col5\" >3489675.000000</td>\n",
       "      <td id=\"T_1950c_row8_col6\" class=\"data row8 col6\" >438574.823853</td>\n",
       "      <td id=\"T_1950c_row8_col7\" class=\"data row8 col7\" >512042.740059</td>\n",
       "    </tr>\n",
       "    <tr>\n",
       "      <th id=\"T_1950c_level0_row9\" class=\"row_heading level0 row9\" >belanja_ikan</th>\n",
       "      <td id=\"T_1950c_row9_col0\" class=\"data row9 col0\" >float64</td>\n",
       "      <td id=\"T_1950c_row9_col1\" class=\"data row9 col1\" >193</td>\n",
       "      <td id=\"T_1950c_row9_col2\" class=\"data row9 col2\" >0</td>\n",
       "      <td id=\"T_1950c_row9_col3\" class=\"data row9 col3\" >2627</td>\n",
       "      <td id=\"T_1950c_row9_col4\" class=\"data row9 col4\" >0.000000</td>\n",
       "      <td id=\"T_1950c_row9_col5\" class=\"data row9 col5\" >621600.000000</td>\n",
       "      <td id=\"T_1950c_row9_col6\" class=\"data row9 col6\" >81428.997792</td>\n",
       "      <td id=\"T_1950c_row9_col7\" class=\"data row9 col7\" >99976.226855</td>\n",
       "    </tr>\n",
       "    <tr>\n",
       "      <th id=\"T_1950c_level0_row10\" class=\"row_heading level0 row10\" >belanja_kue</th>\n",
       "      <td id=\"T_1950c_row10_col0\" class=\"data row10 col0\" >float64</td>\n",
       "      <td id=\"T_1950c_row10_col1\" class=\"data row10 col1\" >214</td>\n",
       "      <td id=\"T_1950c_row10_col2\" class=\"data row10 col2\" >0</td>\n",
       "      <td id=\"T_1950c_row10_col3\" class=\"data row10 col3\" >2475</td>\n",
       "      <td id=\"T_1950c_row10_col4\" class=\"data row10 col4\" >0.000000</td>\n",
       "      <td id=\"T_1950c_row10_col5\" class=\"data row10 col5\" >542164.000000</td>\n",
       "      <td id=\"T_1950c_row10_col6\" class=\"data row10 col6\" >63377.970580</td>\n",
       "      <td id=\"T_1950c_row10_col7\" class=\"data row10 col7\" >79435.457282</td>\n",
       "    </tr>\n",
       "    <tr>\n",
       "      <th id=\"T_1950c_level0_row11\" class=\"row_heading level0 row11\" >pembelian_diskon</th>\n",
       "      <td id=\"T_1950c_row11_col0\" class=\"data row11 col0\" >float64</td>\n",
       "      <td id=\"T_1950c_row11_col1\" class=\"data row11 col1\" >178</td>\n",
       "      <td id=\"T_1950c_row11_col2\" class=\"data row11 col2\" >0</td>\n",
       "      <td id=\"T_1950c_row11_col3\" class=\"data row11 col3\" >18</td>\n",
       "      <td id=\"T_1950c_row11_col4\" class=\"data row11 col4\" >0.000000</td>\n",
       "      <td id=\"T_1950c_row11_col5\" class=\"data row11 col5\" >20.000000</td>\n",
       "      <td id=\"T_1950c_row11_col6\" class=\"data row11 col6\" >2.125584</td>\n",
       "      <td id=\"T_1950c_row11_col7\" class=\"data row11 col7\" >2.100133</td>\n",
       "    </tr>\n",
       "    <tr>\n",
       "      <th id=\"T_1950c_level0_row12\" class=\"row_heading level0 row12\" >pembelian_web</th>\n",
       "      <td id=\"T_1950c_row12_col0\" class=\"data row12 col0\" >float64</td>\n",
       "      <td id=\"T_1950c_row12_col1\" class=\"data row12 col1\" >165</td>\n",
       "      <td id=\"T_1950c_row12_col2\" class=\"data row12 col2\" >0</td>\n",
       "      <td id=\"T_1950c_row12_col3\" class=\"data row12 col3\" >18</td>\n",
       "      <td id=\"T_1950c_row12_col4\" class=\"data row12 col4\" >0.000000</td>\n",
       "      <td id=\"T_1950c_row12_col5\" class=\"data row12 col5\" >30.000000</td>\n",
       "      <td id=\"T_1950c_row12_col6\" class=\"data row12 col6\" >4.436473</td>\n",
       "      <td id=\"T_1950c_row12_col7\" class=\"data row12 col7\" >3.002522</td>\n",
       "    </tr>\n",
       "    <tr>\n",
       "      <th id=\"T_1950c_level0_row13\" class=\"row_heading level0 row13\" >pembelian_toko</th>\n",
       "      <td id=\"T_1950c_row13_col0\" class=\"data row13 col0\" >float64</td>\n",
       "      <td id=\"T_1950c_row13_col1\" class=\"data row13 col1\" >169</td>\n",
       "      <td id=\"T_1950c_row13_col2\" class=\"data row13 col2\" >0</td>\n",
       "      <td id=\"T_1950c_row13_col3\" class=\"data row13 col3\" >18</td>\n",
       "      <td id=\"T_1950c_row13_col4\" class=\"data row13 col4\" >0.000000</td>\n",
       "      <td id=\"T_1950c_row13_col5\" class=\"data row13 col5\" >17.000000</td>\n",
       "      <td id=\"T_1950c_row13_col6\" class=\"data row13 col6\" >5.767818</td>\n",
       "      <td id=\"T_1950c_row13_col7\" class=\"data row13 col7\" >3.210738</td>\n",
       "    </tr>\n",
       "    <tr>\n",
       "      <th id=\"T_1950c_level0_row14\" class=\"row_heading level0 row14\" >keluhan</th>\n",
       "      <td id=\"T_1950c_row14_col0\" class=\"data row14 col0\" >float64</td>\n",
       "      <td id=\"T_1950c_row14_col1\" class=\"data row14 col1\" >196</td>\n",
       "      <td id=\"T_1950c_row14_col2\" class=\"data row14 col2\" >0</td>\n",
       "      <td id=\"T_1950c_row14_col3\" class=\"data row14 col3\" >2</td>\n",
       "      <td id=\"T_1950c_row14_col4\" class=\"data row14 col4\" >0.000000</td>\n",
       "      <td id=\"T_1950c_row14_col5\" class=\"data row14 col5\" >1.000000</td>\n",
       "      <td id=\"T_1950c_row14_col6\" class=\"data row14 col6\" >0.004971</td>\n",
       "      <td id=\"T_1950c_row14_col7\" class=\"data row14 col7\" >0.070340</td>\n",
       "    </tr>\n",
       "    <tr>\n",
       "      <th id=\"T_1950c_level0_row15\" class=\"row_heading level0 row15\" >tanggal_menjadi_anggota</th>\n",
       "      <td id=\"T_1950c_row15_col0\" class=\"data row15 col0\" >object</td>\n",
       "      <td id=\"T_1950c_row15_col1\" class=\"data row15 col1\" >2752</td>\n",
       "      <td id=\"T_1950c_row15_col2\" class=\"data row15 col2\" >0</td>\n",
       "      <td id=\"T_1950c_row15_col3\" class=\"data row15 col3\" >564</td>\n",
       "      <td id=\"T_1950c_row15_col4\" class=\"data row15 col4\" >nan</td>\n",
       "      <td id=\"T_1950c_row15_col5\" class=\"data row15 col5\" >nan</td>\n",
       "      <td id=\"T_1950c_row15_col6\" class=\"data row15 col6\" >nan</td>\n",
       "      <td id=\"T_1950c_row15_col7\" class=\"data row15 col7\" >nan</td>\n",
       "    </tr>\n",
       "  </tbody>\n",
       "</table>\n"
      ],
      "text/plain": [
       "<pandas.io.formats.style.Styler at 0x2132b493a10>"
      ]
     },
     "execution_count": 165,
     "metadata": {},
     "output_type": "execute_result"
    }
   ],
   "source": [
    "summary(X).style.background_gradient()"
   ]
  },
  {
   "cell_type": "code",
   "execution_count": 166,
   "metadata": {},
   "outputs": [
    {
     "data": {
      "text/html": [
       "<style type=\"text/css\">\n",
       "#T_e3147_row0_col1, #T_e3147_row0_col2, #T_e3147_row1_col2, #T_e3147_row1_col3, #T_e3147_row2_col2, #T_e3147_row2_col3, #T_e3147_row3_col2, #T_e3147_row4_col2, #T_e3147_row4_col3, #T_e3147_row5_col2, #T_e3147_row5_col3, #T_e3147_row6_col2, #T_e3147_row7_col2, #T_e3147_row8_col2, #T_e3147_row9_col2, #T_e3147_row10_col2, #T_e3147_row11_col2, #T_e3147_row12_col2, #T_e3147_row12_col3, #T_e3147_row13_col2, #T_e3147_row14_col2, #T_e3147_row14_col3, #T_e3147_row15_col2 {\n",
       "  background-color: #fff7fb;\n",
       "  color: #000000;\n",
       "}\n",
       "#T_e3147_row0_col3 {\n",
       "  background-color: #fcf4fa;\n",
       "  color: #000000;\n",
       "}\n",
       "#T_e3147_row1_col1, #T_e3147_row3_col1, #T_e3147_row6_col1, #T_e3147_row8_col1, #T_e3147_row9_col1 {\n",
       "  background-color: #f4eef6;\n",
       "  color: #000000;\n",
       "}\n",
       "#T_e3147_row2_col1, #T_e3147_row11_col1, #T_e3147_row12_col1 {\n",
       "  background-color: #f5eff6;\n",
       "  color: #000000;\n",
       "}\n",
       "#T_e3147_row3_col3, #T_e3147_row15_col1 {\n",
       "  background-color: #023858;\n",
       "  color: #f1f1f1;\n",
       "}\n",
       "#T_e3147_row4_col1, #T_e3147_row5_col1 {\n",
       "  background-color: #f4edf6;\n",
       "  color: #000000;\n",
       "}\n",
       "#T_e3147_row6_col3 {\n",
       "  background-color: #faf3f9;\n",
       "  color: #000000;\n",
       "}\n",
       "#T_e3147_row7_col1, #T_e3147_row10_col1, #T_e3147_row13_col1, #T_e3147_row14_col1 {\n",
       "  background-color: #f5eef6;\n",
       "  color: #000000;\n",
       "}\n",
       "#T_e3147_row7_col3 {\n",
       "  background-color: #1379b5;\n",
       "  color: #f1f1f1;\n",
       "}\n",
       "#T_e3147_row8_col3 {\n",
       "  background-color: #04649e;\n",
       "  color: #f1f1f1;\n",
       "}\n",
       "#T_e3147_row9_col3 {\n",
       "  background-color: #0a73b2;\n",
       "  color: #f1f1f1;\n",
       "}\n",
       "#T_e3147_row10_col3 {\n",
       "  background-color: #187cb6;\n",
       "  color: #f1f1f1;\n",
       "}\n",
       "#T_e3147_row11_col3, #T_e3147_row13_col3 {\n",
       "  background-color: #fef6fb;\n",
       "  color: #000000;\n",
       "}\n",
       "#T_e3147_row15_col3 {\n",
       "  background-color: #e7e3f0;\n",
       "  color: #000000;\n",
       "}\n",
       "</style>\n",
       "<table id=\"T_e3147\">\n",
       "  <thead>\n",
       "    <tr>\n",
       "      <th class=\"blank level0\" >&nbsp;</th>\n",
       "      <th id=\"T_e3147_level0_col0\" class=\"col_heading level0 col0\" >data type</th>\n",
       "      <th id=\"T_e3147_level0_col1\" class=\"col_heading level0 col1\" >#missing</th>\n",
       "      <th id=\"T_e3147_level0_col2\" class=\"col_heading level0 col2\" >Duplicate</th>\n",
       "      <th id=\"T_e3147_level0_col3\" class=\"col_heading level0 col3\" >#unique</th>\n",
       "      <th id=\"T_e3147_level0_col4\" class=\"col_heading level0 col4\" >min</th>\n",
       "      <th id=\"T_e3147_level0_col5\" class=\"col_heading level0 col5\" >max</th>\n",
       "      <th id=\"T_e3147_level0_col6\" class=\"col_heading level0 col6\" >avg</th>\n",
       "      <th id=\"T_e3147_level0_col7\" class=\"col_heading level0 col7\" >std dev</th>\n",
       "    </tr>\n",
       "  </thead>\n",
       "  <tbody>\n",
       "    <tr>\n",
       "      <th id=\"T_e3147_level0_row0\" class=\"row_heading level0 row0\" >tahun_kelahiran</th>\n",
       "      <td id=\"T_e3147_row0_col0\" class=\"data row0 col0\" >int64</td>\n",
       "      <td id=\"T_e3147_row0_col1\" class=\"data row0 col1\" >0</td>\n",
       "      <td id=\"T_e3147_row0_col2\" class=\"data row0 col2\" >0</td>\n",
       "      <td id=\"T_e3147_row0_col3\" class=\"data row0 col3\" >85</td>\n",
       "      <td id=\"T_e3147_row0_col4\" class=\"data row0 col4\" >1892.000000</td>\n",
       "      <td id=\"T_e3147_row0_col5\" class=\"data row0 col5\" >2009.000000</td>\n",
       "      <td id=\"T_e3147_row0_col6\" class=\"data row0 col6\" >1967.789942</td>\n",
       "      <td id=\"T_e3147_row0_col7\" class=\"data row0 col7\" >11.808572</td>\n",
       "    </tr>\n",
       "    <tr>\n",
       "      <th id=\"T_e3147_level0_row1\" class=\"row_heading level0 row1\" >pendidikan</th>\n",
       "      <td id=\"T_e3147_row1_col0\" class=\"data row1 col0\" >object</td>\n",
       "      <td id=\"T_e3147_row1_col1\" class=\"data row1 col1\" >204</td>\n",
       "      <td id=\"T_e3147_row1_col2\" class=\"data row1 col2\" >0</td>\n",
       "      <td id=\"T_e3147_row1_col3\" class=\"data row1 col3\" >6</td>\n",
       "      <td id=\"T_e3147_row1_col4\" class=\"data row1 col4\" >nan</td>\n",
       "      <td id=\"T_e3147_row1_col5\" class=\"data row1 col5\" >nan</td>\n",
       "      <td id=\"T_e3147_row1_col6\" class=\"data row1 col6\" >nan</td>\n",
       "      <td id=\"T_e3147_row1_col7\" class=\"data row1 col7\" >nan</td>\n",
       "    </tr>\n",
       "    <tr>\n",
       "      <th id=\"T_e3147_level0_row2\" class=\"row_heading level0 row2\" >status_pernikahan</th>\n",
       "      <td id=\"T_e3147_row2_col0\" class=\"data row2 col0\" >object</td>\n",
       "      <td id=\"T_e3147_row2_col1\" class=\"data row2 col1\" >182</td>\n",
       "      <td id=\"T_e3147_row2_col2\" class=\"data row2 col2\" >0</td>\n",
       "      <td id=\"T_e3147_row2_col3\" class=\"data row2 col3\" >6</td>\n",
       "      <td id=\"T_e3147_row2_col4\" class=\"data row2 col4\" >nan</td>\n",
       "      <td id=\"T_e3147_row2_col5\" class=\"data row2 col5\" >nan</td>\n",
       "      <td id=\"T_e3147_row2_col6\" class=\"data row2 col6\" >nan</td>\n",
       "      <td id=\"T_e3147_row2_col7\" class=\"data row2 col7\" >nan</td>\n",
       "    </tr>\n",
       "    <tr>\n",
       "      <th id=\"T_e3147_level0_row3\" class=\"row_heading level0 row3\" >pendapatan</th>\n",
       "      <td id=\"T_e3147_row3_col0\" class=\"data row3 col0\" >float64</td>\n",
       "      <td id=\"T_e3147_row3_col1\" class=\"data row3 col1\" >203</td>\n",
       "      <td id=\"T_e3147_row3_col2\" class=\"data row3 col2\" >0</td>\n",
       "      <td id=\"T_e3147_row3_col3\" class=\"data row3 col3\" >3610</td>\n",
       "      <td id=\"T_e3147_row3_col4\" class=\"data row3 col4\" >2998899.000000</td>\n",
       "      <td id=\"T_e3147_row3_col5\" class=\"data row3 col5\" >1305740000.000000</td>\n",
       "      <td id=\"T_e3147_row3_col6\" class=\"data row3 col6\" >116324904.534716</td>\n",
       "      <td id=\"T_e3147_row3_col7\" class=\"data row3 col7\" >51051222.459486</td>\n",
       "    </tr>\n",
       "    <tr>\n",
       "      <th id=\"T_e3147_level0_row4\" class=\"row_heading level0 row4\" >jumlah_anak_balita</th>\n",
       "      <td id=\"T_e3147_row4_col0\" class=\"data row4 col0\" >float64</td>\n",
       "      <td id=\"T_e3147_row4_col1\" class=\"data row4 col1\" >209</td>\n",
       "      <td id=\"T_e3147_row4_col2\" class=\"data row4 col2\" >0</td>\n",
       "      <td id=\"T_e3147_row4_col3\" class=\"data row4 col3\" >3</td>\n",
       "      <td id=\"T_e3147_row4_col4\" class=\"data row4 col4\" >0.000000</td>\n",
       "      <td id=\"T_e3147_row4_col5\" class=\"data row4 col5\" >2.000000</td>\n",
       "      <td id=\"T_e3147_row4_col6\" class=\"data row4 col6\" >0.282904</td>\n",
       "      <td id=\"T_e3147_row4_col7\" class=\"data row4 col7\" >0.465005</td>\n",
       "    </tr>\n",
       "    <tr>\n",
       "      <th id=\"T_e3147_level0_row5\" class=\"row_heading level0 row5\" >jumlah_anak_remaja</th>\n",
       "      <td id=\"T_e3147_row5_col0\" class=\"data row5 col0\" >float64</td>\n",
       "      <td id=\"T_e3147_row5_col1\" class=\"data row5 col1\" >210</td>\n",
       "      <td id=\"T_e3147_row5_col2\" class=\"data row5 col2\" >0</td>\n",
       "      <td id=\"T_e3147_row5_col3\" class=\"data row5 col3\" >3</td>\n",
       "      <td id=\"T_e3147_row5_col4\" class=\"data row5 col4\" >0.000000</td>\n",
       "      <td id=\"T_e3147_row5_col5\" class=\"data row5 col5\" >2.000000</td>\n",
       "      <td id=\"T_e3147_row5_col6\" class=\"data row5 col6\" >0.355322</td>\n",
       "      <td id=\"T_e3147_row5_col7\" class=\"data row5 col7\" >0.496865</td>\n",
       "    </tr>\n",
       "    <tr>\n",
       "      <th id=\"T_e3147_level0_row6\" class=\"row_heading level0 row6\" >terakhir_belanja</th>\n",
       "      <td id=\"T_e3147_row6_col0\" class=\"data row6 col0\" >float64</td>\n",
       "      <td id=\"T_e3147_row6_col1\" class=\"data row6 col1\" >201</td>\n",
       "      <td id=\"T_e3147_row6_col2\" class=\"data row6 col2\" >0</td>\n",
       "      <td id=\"T_e3147_row6_col3\" class=\"data row6 col3\" >116</td>\n",
       "      <td id=\"T_e3147_row6_col4\" class=\"data row6 col4\" >0.000000</td>\n",
       "      <td id=\"T_e3147_row6_col5\" class=\"data row6 col5\" >133.000000</td>\n",
       "      <td id=\"T_e3147_row6_col6\" class=\"data row6 col6\" >47.181366</td>\n",
       "      <td id=\"T_e3147_row6_col7\" class=\"data row6 col7\" >26.940287</td>\n",
       "    </tr>\n",
       "    <tr>\n",
       "      <th id=\"T_e3147_level0_row7\" class=\"row_heading level0 row7\" >belanja_buah</th>\n",
       "      <td id=\"T_e3147_row7_col0\" class=\"data row7 col0\" >float64</td>\n",
       "      <td id=\"T_e3147_row7_col1\" class=\"data row7 col1\" >186</td>\n",
       "      <td id=\"T_e3147_row7_col2\" class=\"data row7 col2\" >0</td>\n",
       "      <td id=\"T_e3147_row7_col3\" class=\"data row7 col3\" >2573</td>\n",
       "      <td id=\"T_e3147_row7_col4\" class=\"data row7 col4\" >0.000000</td>\n",
       "      <td id=\"T_e3147_row7_col5\" class=\"data row7 col5\" >408646.000000</td>\n",
       "      <td id=\"T_e3147_row7_col6\" class=\"data row7 col6\" >61234.083425</td>\n",
       "      <td id=\"T_e3147_row7_col7\" class=\"data row7 col7\" >76647.590617</td>\n",
       "    </tr>\n",
       "    <tr>\n",
       "      <th id=\"T_e3147_level0_row8\" class=\"row_heading level0 row8\" >belanja_daging</th>\n",
       "      <td id=\"T_e3147_row8_col0\" class=\"data row8 col0\" >float64</td>\n",
       "      <td id=\"T_e3147_row8_col1\" class=\"data row8 col1\" >195</td>\n",
       "      <td id=\"T_e3147_row8_col2\" class=\"data row8 col2\" >0</td>\n",
       "      <td id=\"T_e3147_row8_col3\" class=\"data row8 col3\" >2943</td>\n",
       "      <td id=\"T_e3147_row8_col4\" class=\"data row8 col4\" >0.000000</td>\n",
       "      <td id=\"T_e3147_row8_col5\" class=\"data row8 col5\" >3271191.000000</td>\n",
       "      <td id=\"T_e3147_row8_col6\" class=\"data row8 col6\" >452848.379796</td>\n",
       "      <td id=\"T_e3147_row8_col7\" class=\"data row8 col7\" >512320.643716</td>\n",
       "    </tr>\n",
       "    <tr>\n",
       "      <th id=\"T_e3147_level0_row9\" class=\"row_heading level0 row9\" >belanja_ikan</th>\n",
       "      <td id=\"T_e3147_row9_col0\" class=\"data row9 col0\" >float64</td>\n",
       "      <td id=\"T_e3147_row9_col1\" class=\"data row9 col1\" >196</td>\n",
       "      <td id=\"T_e3147_row9_col2\" class=\"data row9 col2\" >0</td>\n",
       "      <td id=\"T_e3147_row9_col3\" class=\"data row9 col3\" >2660</td>\n",
       "      <td id=\"T_e3147_row9_col4\" class=\"data row9 col4\" >0.000000</td>\n",
       "      <td id=\"T_e3147_row9_col5\" class=\"data row9 col5\" >574932.000000</td>\n",
       "      <td id=\"T_e3147_row9_col6\" class=\"data row9 col6\" >85338.612093</td>\n",
       "      <td id=\"T_e3147_row9_col7\" class=\"data row9 col7\" >103789.546199</td>\n",
       "    </tr>\n",
       "    <tr>\n",
       "      <th id=\"T_e3147_level0_row10\" class=\"row_heading level0 row10\" >belanja_kue</th>\n",
       "      <td id=\"T_e3147_row10_col0\" class=\"data row10 col0\" >float64</td>\n",
       "      <td id=\"T_e3147_row10_col1\" class=\"data row10 col1\" >187</td>\n",
       "      <td id=\"T_e3147_row10_col2\" class=\"data row10 col2\" >0</td>\n",
       "      <td id=\"T_e3147_row10_col3\" class=\"data row10 col3\" >2526</td>\n",
       "      <td id=\"T_e3147_row10_col4\" class=\"data row10 col4\" >0.000000</td>\n",
       "      <td id=\"T_e3147_row10_col5\" class=\"data row10 col5\" >532049.000000</td>\n",
       "      <td id=\"T_e3147_row10_col6\" class=\"data row10 col6\" >63801.505921</td>\n",
       "      <td id=\"T_e3147_row10_col7\" class=\"data row10 col7\" >78428.544713</td>\n",
       "    </tr>\n",
       "    <tr>\n",
       "      <th id=\"T_e3147_level0_row11\" class=\"row_heading level0 row11\" >pembelian_diskon</th>\n",
       "      <td id=\"T_e3147_row11_col0\" class=\"data row11 col0\" >float64</td>\n",
       "      <td id=\"T_e3147_row11_col1\" class=\"data row11 col1\" >179</td>\n",
       "      <td id=\"T_e3147_row11_col2\" class=\"data row11 col2\" >0</td>\n",
       "      <td id=\"T_e3147_row11_col3\" class=\"data row11 col3\" >17</td>\n",
       "      <td id=\"T_e3147_row11_col4\" class=\"data row11 col4\" >0.000000</td>\n",
       "      <td id=\"T_e3147_row11_col5\" class=\"data row11 col5\" >17.000000</td>\n",
       "      <td id=\"T_e3147_row11_col6\" class=\"data row11 col6\" >2.101676</td>\n",
       "      <td id=\"T_e3147_row11_col7\" class=\"data row11 col7\" >2.115571</td>\n",
       "    </tr>\n",
       "    <tr>\n",
       "      <th id=\"T_e3147_level0_row12\" class=\"row_heading level0 row12\" >pembelian_web</th>\n",
       "      <td id=\"T_e3147_row12_col0\" class=\"data row12 col0\" >float64</td>\n",
       "      <td id=\"T_e3147_row12_col1\" class=\"data row12 col1\" >180</td>\n",
       "      <td id=\"T_e3147_row12_col2\" class=\"data row12 col2\" >0</td>\n",
       "      <td id=\"T_e3147_row12_col3\" class=\"data row12 col3\" >16</td>\n",
       "      <td id=\"T_e3147_row12_col4\" class=\"data row12 col4\" >0.000000</td>\n",
       "      <td id=\"T_e3147_row12_col5\" class=\"data row12 col5\" >27.000000</td>\n",
       "      <td id=\"T_e3147_row12_col6\" class=\"data row12 col6\" >4.465091</td>\n",
       "      <td id=\"T_e3147_row12_col7\" class=\"data row12 col7\" >2.935615</td>\n",
       "    </tr>\n",
       "    <tr>\n",
       "      <th id=\"T_e3147_level0_row13\" class=\"row_heading level0 row13\" >pembelian_toko</th>\n",
       "      <td id=\"T_e3147_row13_col0\" class=\"data row13 col0\" >float64</td>\n",
       "      <td id=\"T_e3147_row13_col1\" class=\"data row13 col1\" >186</td>\n",
       "      <td id=\"T_e3147_row13_col2\" class=\"data row13 col2\" >0</td>\n",
       "      <td id=\"T_e3147_row13_col3\" class=\"data row13 col3\" >18</td>\n",
       "      <td id=\"T_e3147_row13_col4\" class=\"data row13 col4\" >0.000000</td>\n",
       "      <td id=\"T_e3147_row13_col5\" class=\"data row13 col5\" >17.000000</td>\n",
       "      <td id=\"T_e3147_row13_col6\" class=\"data row13 col6\" >5.835628</td>\n",
       "      <td id=\"T_e3147_row13_col7\" class=\"data row13 col7\" >3.288349</td>\n",
       "    </tr>\n",
       "    <tr>\n",
       "      <th id=\"T_e3147_level0_row14\" class=\"row_heading level0 row14\" >keluhan</th>\n",
       "      <td id=\"T_e3147_row14_col0\" class=\"data row14 col0\" >float64</td>\n",
       "      <td id=\"T_e3147_row14_col1\" class=\"data row14 col1\" >193</td>\n",
       "      <td id=\"T_e3147_row14_col2\" class=\"data row14 col2\" >0</td>\n",
       "      <td id=\"T_e3147_row14_col3\" class=\"data row14 col3\" >2</td>\n",
       "      <td id=\"T_e3147_row14_col4\" class=\"data row14 col4\" >0.000000</td>\n",
       "      <td id=\"T_e3147_row14_col5\" class=\"data row14 col5\" >1.000000</td>\n",
       "      <td id=\"T_e3147_row14_col6\" class=\"data row14 col6\" >0.002759</td>\n",
       "      <td id=\"T_e3147_row14_col7\" class=\"data row14 col7\" >0.052457</td>\n",
       "    </tr>\n",
       "    <tr>\n",
       "      <th id=\"T_e3147_level0_row15\" class=\"row_heading level0 row15\" >tanggal_menjadi_anggota</th>\n",
       "      <td id=\"T_e3147_row15_col0\" class=\"data row15 col0\" >object</td>\n",
       "      <td id=\"T_e3147_row15_col1\" class=\"data row15 col1\" >2759</td>\n",
       "      <td id=\"T_e3147_row15_col2\" class=\"data row15 col2\" >0</td>\n",
       "      <td id=\"T_e3147_row15_col3\" class=\"data row15 col3\" >545</td>\n",
       "      <td id=\"T_e3147_row15_col4\" class=\"data row15 col4\" >nan</td>\n",
       "      <td id=\"T_e3147_row15_col5\" class=\"data row15 col5\" >nan</td>\n",
       "      <td id=\"T_e3147_row15_col6\" class=\"data row15 col6\" >nan</td>\n",
       "      <td id=\"T_e3147_row15_col7\" class=\"data row15 col7\" >nan</td>\n",
       "    </tr>\n",
       "  </tbody>\n",
       "</table>\n"
      ],
      "text/plain": [
       "<pandas.io.formats.style.Styler at 0x213302d5910>"
      ]
     },
     "execution_count": 166,
     "metadata": {},
     "output_type": "execute_result"
    }
   ],
   "source": [
    "summary(test).style.background_gradient()"
   ]
  },
  {
   "cell_type": "code",
   "execution_count": 167,
   "metadata": {},
   "outputs": [],
   "source": [
    "train = pd.concat([X, y], axis=1)"
   ]
  },
  {
   "cell_type": "code",
   "execution_count": 168,
   "metadata": {},
   "outputs": [
    {
     "data": {
      "text/html": [
       "<div>\n",
       "<style scoped>\n",
       "    .dataframe tbody tr th:only-of-type {\n",
       "        vertical-align: middle;\n",
       "    }\n",
       "\n",
       "    .dataframe tbody tr th {\n",
       "        vertical-align: top;\n",
       "    }\n",
       "\n",
       "    .dataframe thead th {\n",
       "        text-align: right;\n",
       "    }\n",
       "</style>\n",
       "<table border=\"1\" class=\"dataframe\">\n",
       "  <thead>\n",
       "    <tr style=\"text-align: right;\">\n",
       "      <th></th>\n",
       "      <th>tahun_kelahiran</th>\n",
       "      <th>pendidikan</th>\n",
       "      <th>status_pernikahan</th>\n",
       "      <th>pendapatan</th>\n",
       "      <th>jumlah_anak_balita</th>\n",
       "      <th>jumlah_anak_remaja</th>\n",
       "      <th>terakhir_belanja</th>\n",
       "      <th>belanja_buah</th>\n",
       "      <th>belanja_daging</th>\n",
       "      <th>belanja_ikan</th>\n",
       "      <th>belanja_kue</th>\n",
       "      <th>pembelian_diskon</th>\n",
       "      <th>pembelian_web</th>\n",
       "      <th>pembelian_toko</th>\n",
       "      <th>keluhan</th>\n",
       "      <th>tanggal_menjadi_anggota</th>\n",
       "      <th>jumlah_promosi</th>\n",
       "    </tr>\n",
       "  </thead>\n",
       "  <tbody>\n",
       "    <tr>\n",
       "      <th>1114</th>\n",
       "      <td>1972</td>\n",
       "      <td>Magister</td>\n",
       "      <td>Menikah</td>\n",
       "      <td>72997045.0</td>\n",
       "      <td>1.0</td>\n",
       "      <td>0.0</td>\n",
       "      <td>21.0</td>\n",
       "      <td>11238.0</td>\n",
       "      <td>122649.0</td>\n",
       "      <td>7192.0</td>\n",
       "      <td>8616.0</td>\n",
       "      <td>2.0</td>\n",
       "      <td>3.0</td>\n",
       "      <td>3.0</td>\n",
       "      <td>0.0</td>\n",
       "      <td>NaN</td>\n",
       "      <td>6</td>\n",
       "    </tr>\n",
       "    <tr>\n",
       "      <th>3279</th>\n",
       "      <td>1988</td>\n",
       "      <td>Sarjana</td>\n",
       "      <td>Cerai</td>\n",
       "      <td>166344000.0</td>\n",
       "      <td>NaN</td>\n",
       "      <td>0.0</td>\n",
       "      <td>17.0</td>\n",
       "      <td>40460.0</td>\n",
       "      <td>861798.0</td>\n",
       "      <td>62713.0</td>\n",
       "      <td>125426.0</td>\n",
       "      <td>3.0</td>\n",
       "      <td>2.0</td>\n",
       "      <td>NaN</td>\n",
       "      <td>0.0</td>\n",
       "      <td>2014-02-26</td>\n",
       "      <td>6</td>\n",
       "    </tr>\n",
       "    <tr>\n",
       "      <th>2630</th>\n",
       "      <td>1975</td>\n",
       "      <td>NaN</td>\n",
       "      <td>Menikah</td>\n",
       "      <td>133777000.0</td>\n",
       "      <td>0.0</td>\n",
       "      <td>1.0</td>\n",
       "      <td>3.0</td>\n",
       "      <td>161840.0</td>\n",
       "      <td>940695.0</td>\n",
       "      <td>32368.0</td>\n",
       "      <td>18207.0</td>\n",
       "      <td>1.0</td>\n",
       "      <td>8.0</td>\n",
       "      <td>6.0</td>\n",
       "      <td>0.0</td>\n",
       "      <td>2013-11-17</td>\n",
       "      <td>0</td>\n",
       "    </tr>\n",
       "    <tr>\n",
       "      <th>3623</th>\n",
       "      <td>1956</td>\n",
       "      <td>Sarjana</td>\n",
       "      <td>Sendiri</td>\n",
       "      <td>127889981.0</td>\n",
       "      <td>0.0</td>\n",
       "      <td>0.0</td>\n",
       "      <td>58.0</td>\n",
       "      <td>NaN</td>\n",
       "      <td>481385.0</td>\n",
       "      <td>173279.0</td>\n",
       "      <td>162146.0</td>\n",
       "      <td>1.0</td>\n",
       "      <td>5.0</td>\n",
       "      <td>9.0</td>\n",
       "      <td>0.0</td>\n",
       "      <td>NaN</td>\n",
       "      <td>6</td>\n",
       "    </tr>\n",
       "    <tr>\n",
       "      <th>1395</th>\n",
       "      <td>1977</td>\n",
       "      <td>Sarjana</td>\n",
       "      <td>Rencana Menikah</td>\n",
       "      <td>136316000.0</td>\n",
       "      <td>1.0</td>\n",
       "      <td>1.0</td>\n",
       "      <td>25.0</td>\n",
       "      <td>42483.0</td>\n",
       "      <td>208369.0</td>\n",
       "      <td>26299.0</td>\n",
       "      <td>32368.0</td>\n",
       "      <td>3.0</td>\n",
       "      <td>2.0</td>\n",
       "      <td>10.0</td>\n",
       "      <td>0.0</td>\n",
       "      <td>2012-09-06</td>\n",
       "      <td>1</td>\n",
       "    </tr>\n",
       "    <tr>\n",
       "      <th>956</th>\n",
       "      <td>1961</td>\n",
       "      <td>Magister</td>\n",
       "      <td>Rencana Menikah</td>\n",
       "      <td>72031421.0</td>\n",
       "      <td>1.0</td>\n",
       "      <td>0.0</td>\n",
       "      <td>38.0</td>\n",
       "      <td>6496.0</td>\n",
       "      <td>41373.0</td>\n",
       "      <td>2042.0</td>\n",
       "      <td>NaN</td>\n",
       "      <td>6.0</td>\n",
       "      <td>1.0</td>\n",
       "      <td>5.0</td>\n",
       "      <td>0.0</td>\n",
       "      <td>NaN</td>\n",
       "      <td>1</td>\n",
       "    </tr>\n",
       "    <tr>\n",
       "      <th>1698</th>\n",
       "      <td>1968</td>\n",
       "      <td>Magister</td>\n",
       "      <td>Menikah</td>\n",
       "      <td>141856614.0</td>\n",
       "      <td>0.0</td>\n",
       "      <td>0.0</td>\n",
       "      <td>57.0</td>\n",
       "      <td>2926.0</td>\n",
       "      <td>174174.0</td>\n",
       "      <td>13877.0</td>\n",
       "      <td>5895.0</td>\n",
       "      <td>0.0</td>\n",
       "      <td>0.0</td>\n",
       "      <td>10.0</td>\n",
       "      <td>0.0</td>\n",
       "      <td>NaN</td>\n",
       "      <td>3</td>\n",
       "    </tr>\n",
       "    <tr>\n",
       "      <th>1375</th>\n",
       "      <td>1955</td>\n",
       "      <td>Sarjana</td>\n",
       "      <td>NaN</td>\n",
       "      <td>97896096.0</td>\n",
       "      <td>0.0</td>\n",
       "      <td>0.0</td>\n",
       "      <td>31.0</td>\n",
       "      <td>24843.0</td>\n",
       "      <td>75418.0</td>\n",
       "      <td>NaN</td>\n",
       "      <td>26866.0</td>\n",
       "      <td>2.0</td>\n",
       "      <td>7.0</td>\n",
       "      <td>8.0</td>\n",
       "      <td>0.0</td>\n",
       "      <td>NaN</td>\n",
       "      <td>0</td>\n",
       "    </tr>\n",
       "    <tr>\n",
       "      <th>1942</th>\n",
       "      <td>1977</td>\n",
       "      <td>Sarjana</td>\n",
       "      <td>Cerai</td>\n",
       "      <td>169782000.0</td>\n",
       "      <td>0.0</td>\n",
       "      <td>0.0</td>\n",
       "      <td>105.0</td>\n",
       "      <td>97104.0</td>\n",
       "      <td>1565802.0</td>\n",
       "      <td>58667.0</td>\n",
       "      <td>NaN</td>\n",
       "      <td>1.0</td>\n",
       "      <td>4.0</td>\n",
       "      <td>13.0</td>\n",
       "      <td>0.0</td>\n",
       "      <td>2012-09-22</td>\n",
       "      <td>1</td>\n",
       "    </tr>\n",
       "    <tr>\n",
       "      <th>330</th>\n",
       "      <td>1954</td>\n",
       "      <td>Sarjana</td>\n",
       "      <td>Cerai</td>\n",
       "      <td>141111000.0</td>\n",
       "      <td>0.0</td>\n",
       "      <td>1.0</td>\n",
       "      <td>47.0</td>\n",
       "      <td>6069.0</td>\n",
       "      <td>513842.0</td>\n",
       "      <td>303450.0</td>\n",
       "      <td>32368.0</td>\n",
       "      <td>4.0</td>\n",
       "      <td>10.0</td>\n",
       "      <td>7.0</td>\n",
       "      <td>0.0</td>\n",
       "      <td>2013-02-15</td>\n",
       "      <td>1</td>\n",
       "    </tr>\n",
       "  </tbody>\n",
       "</table>\n",
       "</div>"
      ],
      "text/plain": [
       "      tahun_kelahiran pendidikan status_pernikahan   pendapatan  \\\n",
       "1114             1972   Magister           Menikah   72997045.0   \n",
       "3279             1988    Sarjana             Cerai  166344000.0   \n",
       "2630             1975        NaN           Menikah  133777000.0   \n",
       "3623             1956    Sarjana           Sendiri  127889981.0   \n",
       "1395             1977    Sarjana   Rencana Menikah  136316000.0   \n",
       "956              1961   Magister   Rencana Menikah   72031421.0   \n",
       "1698             1968   Magister           Menikah  141856614.0   \n",
       "1375             1955    Sarjana               NaN   97896096.0   \n",
       "1942             1977    Sarjana             Cerai  169782000.0   \n",
       "330              1954    Sarjana             Cerai  141111000.0   \n",
       "\n",
       "      jumlah_anak_balita  jumlah_anak_remaja  terakhir_belanja  belanja_buah  \\\n",
       "1114                 1.0                 0.0              21.0       11238.0   \n",
       "3279                 NaN                 0.0              17.0       40460.0   \n",
       "2630                 0.0                 1.0               3.0      161840.0   \n",
       "3623                 0.0                 0.0              58.0           NaN   \n",
       "1395                 1.0                 1.0              25.0       42483.0   \n",
       "956                  1.0                 0.0              38.0        6496.0   \n",
       "1698                 0.0                 0.0              57.0        2926.0   \n",
       "1375                 0.0                 0.0              31.0       24843.0   \n",
       "1942                 0.0                 0.0             105.0       97104.0   \n",
       "330                  0.0                 1.0              47.0        6069.0   \n",
       "\n",
       "      belanja_daging  belanja_ikan  belanja_kue  pembelian_diskon  \\\n",
       "1114        122649.0        7192.0       8616.0               2.0   \n",
       "3279        861798.0       62713.0     125426.0               3.0   \n",
       "2630        940695.0       32368.0      18207.0               1.0   \n",
       "3623        481385.0      173279.0     162146.0               1.0   \n",
       "1395        208369.0       26299.0      32368.0               3.0   \n",
       "956          41373.0        2042.0          NaN               6.0   \n",
       "1698        174174.0       13877.0       5895.0               0.0   \n",
       "1375         75418.0           NaN      26866.0               2.0   \n",
       "1942       1565802.0       58667.0          NaN               1.0   \n",
       "330         513842.0      303450.0      32368.0               4.0   \n",
       "\n",
       "      pembelian_web  pembelian_toko  keluhan tanggal_menjadi_anggota  \\\n",
       "1114            3.0             3.0      0.0                     NaN   \n",
       "3279            2.0             NaN      0.0              2014-02-26   \n",
       "2630            8.0             6.0      0.0              2013-11-17   \n",
       "3623            5.0             9.0      0.0                     NaN   \n",
       "1395            2.0            10.0      0.0              2012-09-06   \n",
       "956             1.0             5.0      0.0                     NaN   \n",
       "1698            0.0            10.0      0.0                     NaN   \n",
       "1375            7.0             8.0      0.0                     NaN   \n",
       "1942            4.0            13.0      0.0              2012-09-22   \n",
       "330            10.0             7.0      0.0              2013-02-15   \n",
       "\n",
       "      jumlah_promosi  \n",
       "1114               6  \n",
       "3279               6  \n",
       "2630               0  \n",
       "3623               6  \n",
       "1395               1  \n",
       "956                1  \n",
       "1698               3  \n",
       "1375               0  \n",
       "1942               1  \n",
       "330                1  "
      ]
     },
     "execution_count": 168,
     "metadata": {},
     "output_type": "execute_result"
    }
   ],
   "source": [
    "train.sample(10)"
   ]
  },
  {
   "cell_type": "code",
   "execution_count": 169,
   "metadata": {},
   "outputs": [
    {
     "data": {
      "text/plain": [
       "Text(0, 0.5, 'Percentage')"
      ]
     },
     "execution_count": 169,
     "metadata": {},
     "output_type": "execute_result"
    },
    {
     "data": {
      "image/png": "[encoded data removed]",
      "text/plain": [
       "<Figure size 640x480 with 1 Axes>"
      ]
     },
     "metadata": {},
     "output_type": "display_data"
    }
   ],
   "source": [
    "train['jumlah_promosi'].value_counts(normalize = True).plot(kind = 'bar')\n",
    "plt.ylabel('Percentage')"
   ]
  },
  {
   "cell_type": "code",
   "execution_count": 170,
   "metadata": {},
   "outputs": [
    {
     "data": {
      "image/png": "[encoded data removed]",
      "text/plain": [
       "<Figure size 1200x2800 with 14 Axes>"
      ]
     },
     "metadata": {},
     "output_type": "display_data"
    }
   ],
   "source": [
    "numerical_data = train.select_dtypes(include=[np.number])  # Select numerical columns\n",
    "\n",
    "num_cols = numerical_data.shape[1]\n",
    "num_rows = int(np.ceil(num_cols / 2))\n",
    "\n",
    "fig, axes = plt.subplots(num_rows, 2, figsize=(12, num_rows * 4))\n",
    "fig.suptitle('Boxplots of Numerical Values', fontsize=16)\n",
    "\n",
    "for i, column in enumerate(numerical_data.columns):\n",
    "    ax = axes[i // 2, i % 2] if num_rows > 1 else axes[i % 2]\n",
    "    numerical_data.boxplot(column=column, ax=ax)\n",
    "    ax.set_title(column)\n",
    "    \n",
    "\n",
    "plt.tight_layout()\n",
    "plt.show()"
   ]
  },
  {
   "cell_type": "code",
   "execution_count": 171,
   "metadata": {},
   "outputs": [
    {
     "data": {
      "text/plain": [
       "pendidikan\n",
       "Sarjana     1841\n",
       "Magister     856\n",
       "SMA          435\n",
       "Doktor       403\n",
       "SMP           91\n",
       "5              2\n",
       "Name: count, dtype: int64"
      ]
     },
     "execution_count": 171,
     "metadata": {},
     "output_type": "execute_result"
    }
   ],
   "source": [
    "train.value_counts('pendidikan')"
   ]
  },
  {
   "cell_type": "code",
   "execution_count": 172,
   "metadata": {},
   "outputs": [
    {
     "data": {
      "text/plain": [
       "status_pernikahan\n",
       "Rencana Menikah    1271\n",
       "Menikah            1114\n",
       "Sendiri             965\n",
       "Cerai               214\n",
       "Cerai Mati           40\n",
       "5                     1\n",
       "Name: count, dtype: int64"
      ]
     },
     "execution_count": 172,
     "metadata": {},
     "output_type": "execute_result"
    }
   ],
   "source": [
    "train.value_counts('status_pernikahan')"
   ]
  },
  {
   "cell_type": "code",
   "execution_count": 173,
   "metadata": {},
   "outputs": [
    {
     "data": {
      "text/html": [
       "<div>\n",
       "<style scoped>\n",
       "    .dataframe tbody tr th:only-of-type {\n",
       "        vertical-align: middle;\n",
       "    }\n",
       "\n",
       "    .dataframe tbody tr th {\n",
       "        vertical-align: top;\n",
       "    }\n",
       "\n",
       "    .dataframe thead th {\n",
       "        text-align: right;\n",
       "    }\n",
       "</style>\n",
       "<table border=\"1\" class=\"dataframe\">\n",
       "  <thead>\n",
       "    <tr style=\"text-align: right;\">\n",
       "      <th>jumlah_promosi</th>\n",
       "      <th>0</th>\n",
       "      <th>1</th>\n",
       "      <th>2</th>\n",
       "      <th>3</th>\n",
       "      <th>4</th>\n",
       "      <th>5</th>\n",
       "      <th>6</th>\n",
       "    </tr>\n",
       "    <tr>\n",
       "      <th>pendidikan</th>\n",
       "      <th></th>\n",
       "      <th></th>\n",
       "      <th></th>\n",
       "      <th></th>\n",
       "      <th></th>\n",
       "      <th></th>\n",
       "      <th></th>\n",
       "    </tr>\n",
       "  </thead>\n",
       "  <tbody>\n",
       "    <tr>\n",
       "      <th>5</th>\n",
       "      <td>2</td>\n",
       "      <td>0</td>\n",
       "      <td>0</td>\n",
       "      <td>0</td>\n",
       "      <td>0</td>\n",
       "      <td>0</td>\n",
       "      <td>0</td>\n",
       "    </tr>\n",
       "    <tr>\n",
       "      <th>Doktor</th>\n",
       "      <td>162</td>\n",
       "      <td>54</td>\n",
       "      <td>37</td>\n",
       "      <td>62</td>\n",
       "      <td>10</td>\n",
       "      <td>43</td>\n",
       "      <td>35</td>\n",
       "    </tr>\n",
       "    <tr>\n",
       "      <th>Magister</th>\n",
       "      <td>170</td>\n",
       "      <td>91</td>\n",
       "      <td>71</td>\n",
       "      <td>148</td>\n",
       "      <td>126</td>\n",
       "      <td>159</td>\n",
       "      <td>91</td>\n",
       "    </tr>\n",
       "    <tr>\n",
       "      <th>SMA</th>\n",
       "      <td>119</td>\n",
       "      <td>63</td>\n",
       "      <td>76</td>\n",
       "      <td>44</td>\n",
       "      <td>55</td>\n",
       "      <td>45</td>\n",
       "      <td>33</td>\n",
       "    </tr>\n",
       "    <tr>\n",
       "      <th>SMP</th>\n",
       "      <td>47</td>\n",
       "      <td>10</td>\n",
       "      <td>18</td>\n",
       "      <td>9</td>\n",
       "      <td>0</td>\n",
       "      <td>0</td>\n",
       "      <td>7</td>\n",
       "    </tr>\n",
       "    <tr>\n",
       "      <th>Sarjana</th>\n",
       "      <td>424</td>\n",
       "      <td>271</td>\n",
       "      <td>170</td>\n",
       "      <td>195</td>\n",
       "      <td>301</td>\n",
       "      <td>289</td>\n",
       "      <td>191</td>\n",
       "    </tr>\n",
       "  </tbody>\n",
       "</table>\n",
       "</div>"
      ],
      "text/plain": [
       "jumlah_promosi    0    1    2    3    4    5    6\n",
       "pendidikan                                       \n",
       "5                 2    0    0    0    0    0    0\n",
       "Doktor          162   54   37   62   10   43   35\n",
       "Magister        170   91   71  148  126  159   91\n",
       "SMA             119   63   76   44   55   45   33\n",
       "SMP              47   10   18    9    0    0    7\n",
       "Sarjana         424  271  170  195  301  289  191"
      ]
     },
     "execution_count": 173,
     "metadata": {},
     "output_type": "execute_result"
    }
   ],
   "source": [
    "table = contingency_table = pd.crosstab(train['pendidikan'], train['jumlah_promosi'])\n",
    "table"
   ]
  },
  {
   "cell_type": "markdown",
   "metadata": {},
   "source": [
    "### Preprocessing"
   ]
  },
  {
   "cell_type": "code",
   "execution_count": 174,
   "metadata": {},
   "outputs": [],
   "source": [
    "def preprocessing(df):\n",
    "    df = df.drop(['tanggal_menjadi_anggota', 'keluhan'], axis=1)\n",
    "    df['pendidikan'] = df['pendidikan'].map({'SMP': 1, 'SMA': 2, 'Sarjana': 3, 'Magister': 4, 'Doktor': 5})\n",
    "    df['status_pernikahan'] = df['status_pernikahan'].map({'Sendiri': 1, 'Rencana Menikah': 2, 'Menikah': 3, 'Cerai': 4, 'Cerai Mati': 5})\n",
    "    df['belanja_buah'] = df['belanja_buah'].interpolate(method ='pad', limit_direction ='forward')\n",
    "    df['belanja_daging'] = df['belanja_daging'].interpolate(method ='pad', limit_direction ='forward')\n",
    "    df['belanja_ikan'] = df['belanja_ikan'].interpolate(method ='pad', limit_direction ='forward')\n",
    "    df['belanja_kue'] = df['belanja_kue'].interpolate(method ='pad', limit_direction ='forward')\n",
    "    df['pendapatan'] = df['pendapatan'].interpolate(method ='pad', limit_direction ='forward')\n",
    "    df['terakhir_belanja'] = df['terakhir_belanja'].interpolate(method ='pad', limit_direction ='forward')\n",
    "    df['pembelian_diskon'] = df['pembelian_diskon'].interpolate(method ='pad', limit_direction ='forward')\n",
    "    df['pembelian_toko'] = df['pembelian_toko'].interpolate(method ='pad', limit_direction ='forward')\n",
    "    df['pembelian_web'] = df['pembelian_web'].interpolate(method ='pad', limit_direction ='forward')\n",
    "    df['belanja_pokok'] = df['belanja_daging'] + df['belanja_ikan']\n",
    "    df['belanja_non_pokok'] = df['belanja_kue'] + df['belanja_buah']\n",
    "    # df['jumlah_anak'] = df[['jumlah_anak_balita', 'jumlah_anak_remaja']].sum(axis=1)\n",
    "    # df['beranak'] = np.where(df['jumlah_anak'] > 0, 1, 0)\n",
    "    # # Create 'hidup_sendiri' column based on conditions\n",
    "    # df['hidup_sendiri'] = (df['status_pernikahan'] != 3) & (df['beranak'] == 0)\n",
    "    # df['hidup_sendiri'] = df['hidup_sendiri'].astype(int)  \n",
    "    \n",
    "    # df = df.drop(['jumlah_anak'],axis=1)\n",
    "    # Fill Null Val dengan interpolate\n",
    "    \n",
    "    # Fill Null Val dengan median\n",
    "    df = df.fillna(df.median())\n",
    "\n",
    "    df = df.drop(['jumlah_anak_remaja', 'jumlah_anak_balita', 'belanja_daging', 'belanja_ikan', 'belanja_kue', 'belanja_buah'], axis=1)\n",
    "    \n",
    "    # Gatau teori sendiri ini\n",
    "    # df['tahun_kelahiran'] = df['tahun_kelahiran'].apply(lambda x: x + 50 if x < 1940 else x)\n",
    "    # df['pendapatan'] = df['pendapatan'].apply(lambda x: x / 4 if x > 1000000000 else x)\n",
    "    \n",
    "    # Change data type to int64\n",
    "    numerical_data = df.select_dtypes(include=[np.number])  # Select numerical columns\n",
    "    for column in numerical_data.columns:\n",
    "        df[column] = df[column].astype('int64')\n",
    "    \n",
    "    \n",
    "    \n",
    "    return df"
   ]
  },
  {
   "cell_type": "code",
   "execution_count": 175,
   "metadata": {},
   "outputs": [
    {
     "data": {
      "text/html": [
       "<style type=\"text/css\">\n",
       "#T_79b52_row0_col1, #T_79b52_row0_col2, #T_79b52_row0_col4, #T_79b52_row0_col5, #T_79b52_row0_col6, #T_79b52_row0_col7, #T_79b52_row1_col1, #T_79b52_row1_col2, #T_79b52_row1_col3, #T_79b52_row1_col4, #T_79b52_row1_col5, #T_79b52_row1_col6, #T_79b52_row1_col7, #T_79b52_row2_col1, #T_79b52_row2_col2, #T_79b52_row2_col3, #T_79b52_row2_col4, #T_79b52_row2_col5, #T_79b52_row2_col6, #T_79b52_row2_col7, #T_79b52_row3_col1, #T_79b52_row3_col2, #T_79b52_row4_col1, #T_79b52_row4_col2, #T_79b52_row4_col4, #T_79b52_row4_col5, #T_79b52_row4_col6, #T_79b52_row4_col7, #T_79b52_row5_col1, #T_79b52_row5_col2, #T_79b52_row5_col4, #T_79b52_row5_col5, #T_79b52_row5_col6, #T_79b52_row5_col7, #T_79b52_row6_col1, #T_79b52_row6_col2, #T_79b52_row6_col4, #T_79b52_row6_col5, #T_79b52_row6_col6, #T_79b52_row6_col7, #T_79b52_row7_col1, #T_79b52_row7_col2, #T_79b52_row7_col4, #T_79b52_row7_col5, #T_79b52_row7_col6, #T_79b52_row7_col7, #T_79b52_row8_col1, #T_79b52_row8_col2, #T_79b52_row8_col3, #T_79b52_row8_col4, #T_79b52_row8_col5, #T_79b52_row8_col6, #T_79b52_row8_col7, #T_79b52_row9_col1, #T_79b52_row9_col2, #T_79b52_row9_col4, #T_79b52_row10_col1, #T_79b52_row10_col2, #T_79b52_row10_col4, #T_79b52_row10_col5, #T_79b52_row10_col6, #T_79b52_row10_col7 {\n",
       "  background-color: #fff7fb;\n",
       "  color: #000000;\n",
       "}\n",
       "#T_79b52_row0_col3, #T_79b52_row9_col7 {\n",
       "  background-color: #fdf5fa;\n",
       "  color: #000000;\n",
       "}\n",
       "#T_79b52_row3_col3, #T_79b52_row3_col4, #T_79b52_row3_col5, #T_79b52_row3_col6, #T_79b52_row3_col7 {\n",
       "  background-color: #023858;\n",
       "  color: #f1f1f1;\n",
       "}\n",
       "#T_79b52_row4_col3 {\n",
       "  background-color: #fbf3f9;\n",
       "  color: #000000;\n",
       "}\n",
       "#T_79b52_row5_col3, #T_79b52_row6_col3, #T_79b52_row7_col3, #T_79b52_row9_col6 {\n",
       "  background-color: #fef6fb;\n",
       "  color: #000000;\n",
       "}\n",
       "#T_79b52_row9_col3 {\n",
       "  background-color: #04588a;\n",
       "  color: #f1f1f1;\n",
       "}\n",
       "#T_79b52_row9_col5 {\n",
       "  background-color: #fef6fa;\n",
       "  color: #000000;\n",
       "}\n",
       "#T_79b52_row10_col3 {\n",
       "  background-color: #0566a0;\n",
       "  color: #f1f1f1;\n",
       "}\n",
       "</style>\n",
       "<table id=\"T_79b52\">\n",
       "  <thead>\n",
       "    <tr>\n",
       "      <th class=\"blank level0\" >&nbsp;</th>\n",
       "      <th id=\"T_79b52_level0_col0\" class=\"col_heading level0 col0\" >data type</th>\n",
       "      <th id=\"T_79b52_level0_col1\" class=\"col_heading level0 col1\" >#missing</th>\n",
       "      <th id=\"T_79b52_level0_col2\" class=\"col_heading level0 col2\" >Duplicate</th>\n",
       "      <th id=\"T_79b52_level0_col3\" class=\"col_heading level0 col3\" >#unique</th>\n",
       "      <th id=\"T_79b52_level0_col4\" class=\"col_heading level0 col4\" >min</th>\n",
       "      <th id=\"T_79b52_level0_col5\" class=\"col_heading level0 col5\" >max</th>\n",
       "      <th id=\"T_79b52_level0_col6\" class=\"col_heading level0 col6\" >avg</th>\n",
       "      <th id=\"T_79b52_level0_col7\" class=\"col_heading level0 col7\" >std dev</th>\n",
       "    </tr>\n",
       "  </thead>\n",
       "  <tbody>\n",
       "    <tr>\n",
       "      <th id=\"T_79b52_level0_row0\" class=\"row_heading level0 row0\" >tahun_kelahiran</th>\n",
       "      <td id=\"T_79b52_row0_col0\" class=\"data row0 col0\" >int64</td>\n",
       "      <td id=\"T_79b52_row0_col1\" class=\"data row0 col1\" >0</td>\n",
       "      <td id=\"T_79b52_row0_col2\" class=\"data row0 col2\" >0</td>\n",
       "      <td id=\"T_79b52_row0_col3\" class=\"data row0 col3\" >61</td>\n",
       "      <td id=\"T_79b52_row0_col4\" class=\"data row0 col4\" >1940.000000</td>\n",
       "      <td id=\"T_79b52_row0_col5\" class=\"data row0 col5\" >2000.000000</td>\n",
       "      <td id=\"T_79b52_row0_col6\" class=\"data row0 col6\" >1968.033534</td>\n",
       "      <td id=\"T_79b52_row0_col7\" class=\"data row0 col7\" >11.250294</td>\n",
       "    </tr>\n",
       "    <tr>\n",
       "      <th id=\"T_79b52_level0_row1\" class=\"row_heading level0 row1\" >pendidikan</th>\n",
       "      <td id=\"T_79b52_row1_col0\" class=\"data row1 col0\" >int64</td>\n",
       "      <td id=\"T_79b52_row1_col1\" class=\"data row1 col1\" >0</td>\n",
       "      <td id=\"T_79b52_row1_col2\" class=\"data row1 col2\" >0</td>\n",
       "      <td id=\"T_79b52_row1_col3\" class=\"data row1 col3\" >4</td>\n",
       "      <td id=\"T_79b52_row1_col4\" class=\"data row1 col4\" >1.000000</td>\n",
       "      <td id=\"T_79b52_row1_col5\" class=\"data row1 col5\" >5.000000</td>\n",
       "      <td id=\"T_79b52_row1_col6\" class=\"data row1 col6\" >3.159811</td>\n",
       "      <td id=\"T_79b52_row1_col7\" class=\"data row1 col7\" >1.082851</td>\n",
       "    </tr>\n",
       "    <tr>\n",
       "      <th id=\"T_79b52_level0_row2\" class=\"row_heading level0 row2\" >status_pernikahan</th>\n",
       "      <td id=\"T_79b52_row2_col0\" class=\"data row2 col0\" >int64</td>\n",
       "      <td id=\"T_79b52_row2_col1\" class=\"data row2 col1\" >0</td>\n",
       "      <td id=\"T_79b52_row2_col2\" class=\"data row2 col2\" >0</td>\n",
       "      <td id=\"T_79b52_row2_col3\" class=\"data row2 col3\" >3</td>\n",
       "      <td id=\"T_79b52_row2_col4\" class=\"data row2 col4\" >1.000000</td>\n",
       "      <td id=\"T_79b52_row2_col5\" class=\"data row2 col5\" >4.000000</td>\n",
       "      <td id=\"T_79b52_row2_col6\" class=\"data row2 col6\" >1.783338</td>\n",
       "      <td id=\"T_79b52_row2_col7\" class=\"data row2 col7\" >1.073775</td>\n",
       "    </tr>\n",
       "    <tr>\n",
       "      <th id=\"T_79b52_level0_row3\" class=\"row_heading level0 row3\" >pendapatan</th>\n",
       "      <td id=\"T_79b52_row3_col0\" class=\"data row3 col0\" >int64</td>\n",
       "      <td id=\"T_79b52_row3_col1\" class=\"data row3 col1\" >0</td>\n",
       "      <td id=\"T_79b52_row3_col2\" class=\"data row3 col2\" >0</td>\n",
       "      <td id=\"T_79b52_row3_col3\" class=\"data row3 col3\" >3622</td>\n",
       "      <td id=\"T_79b52_row3_col4\" class=\"data row3 col4\" >5073000.000000</td>\n",
       "      <td id=\"T_79b52_row3_col5\" class=\"data row3 col5\" >332884000.000000</td>\n",
       "      <td id=\"T_79b52_row3_col6\" class=\"data row3 col6\" >114502718.265392</td>\n",
       "      <td id=\"T_79b52_row3_col7\" class=\"data row3 col7\" >43535581.079180</td>\n",
       "    </tr>\n",
       "    <tr>\n",
       "      <th id=\"T_79b52_level0_row4\" class=\"row_heading level0 row4\" >terakhir_belanja</th>\n",
       "      <td id=\"T_79b52_row4_col0\" class=\"data row4 col0\" >int64</td>\n",
       "      <td id=\"T_79b52_row4_col1\" class=\"data row4 col1\" >0</td>\n",
       "      <td id=\"T_79b52_row4_col2\" class=\"data row4 col2\" >0</td>\n",
       "      <td id=\"T_79b52_row4_col3\" class=\"data row4 col3\" >113</td>\n",
       "      <td id=\"T_79b52_row4_col4\" class=\"data row4 col4\" >0.000000</td>\n",
       "      <td id=\"T_79b52_row4_col5\" class=\"data row4 col5\" >128.000000</td>\n",
       "      <td id=\"T_79b52_row4_col6\" class=\"data row4 col6\" >47.165051</td>\n",
       "      <td id=\"T_79b52_row4_col7\" class=\"data row4 col7\" >27.038698</td>\n",
       "    </tr>\n",
       "    <tr>\n",
       "      <th id=\"T_79b52_level0_row5\" class=\"row_heading level0 row5\" >pembelian_diskon</th>\n",
       "      <td id=\"T_79b52_row5_col0\" class=\"data row5 col0\" >int64</td>\n",
       "      <td id=\"T_79b52_row5_col1\" class=\"data row5 col1\" >0</td>\n",
       "      <td id=\"T_79b52_row5_col2\" class=\"data row5 col2\" >0</td>\n",
       "      <td id=\"T_79b52_row5_col3\" class=\"data row5 col3\" >18</td>\n",
       "      <td id=\"T_79b52_row5_col4\" class=\"data row5 col4\" >0.000000</td>\n",
       "      <td id=\"T_79b52_row5_col5\" class=\"data row5 col5\" >20.000000</td>\n",
       "      <td id=\"T_79b52_row5_col6\" class=\"data row5 col6\" >2.126801</td>\n",
       "      <td id=\"T_79b52_row5_col7\" class=\"data row5 col7\" >2.096382</td>\n",
       "    </tr>\n",
       "    <tr>\n",
       "      <th id=\"T_79b52_level0_row6\" class=\"row_heading level0 row6\" >pembelian_web</th>\n",
       "      <td id=\"T_79b52_row6_col0\" class=\"data row6 col0\" >int64</td>\n",
       "      <td id=\"T_79b52_row6_col1\" class=\"data row6 col1\" >0</td>\n",
       "      <td id=\"T_79b52_row6_col2\" class=\"data row6 col2\" >0</td>\n",
       "      <td id=\"T_79b52_row6_col3\" class=\"data row6 col3\" >18</td>\n",
       "      <td id=\"T_79b52_row6_col4\" class=\"data row6 col4\" >0.000000</td>\n",
       "      <td id=\"T_79b52_row6_col5\" class=\"data row6 col5\" >30.000000</td>\n",
       "      <td id=\"T_79b52_row6_col6\" class=\"data row6 col6\" >4.425727</td>\n",
       "      <td id=\"T_79b52_row6_col7\" class=\"data row6 col7\" >2.994982</td>\n",
       "    </tr>\n",
       "    <tr>\n",
       "      <th id=\"T_79b52_level0_row7\" class=\"row_heading level0 row7\" >pembelian_toko</th>\n",
       "      <td id=\"T_79b52_row7_col0\" class=\"data row7 col0\" >int64</td>\n",
       "      <td id=\"T_79b52_row7_col1\" class=\"data row7 col1\" >0</td>\n",
       "      <td id=\"T_79b52_row7_col2\" class=\"data row7 col2\" >0</td>\n",
       "      <td id=\"T_79b52_row7_col3\" class=\"data row7 col3\" >18</td>\n",
       "      <td id=\"T_79b52_row7_col4\" class=\"data row7 col4\" >0.000000</td>\n",
       "      <td id=\"T_79b52_row7_col5\" class=\"data row7 col5\" >17.000000</td>\n",
       "      <td id=\"T_79b52_row7_col6\" class=\"data row7 col6\" >5.761855</td>\n",
       "      <td id=\"T_79b52_row7_col7\" class=\"data row7 col7\" >3.214001</td>\n",
       "    </tr>\n",
       "    <tr>\n",
       "      <th id=\"T_79b52_level0_row8\" class=\"row_heading level0 row8\" >jumlah_promosi</th>\n",
       "      <td id=\"T_79b52_row8_col0\" class=\"data row8 col0\" >int64</td>\n",
       "      <td id=\"T_79b52_row8_col1\" class=\"data row8 col1\" >0</td>\n",
       "      <td id=\"T_79b52_row8_col2\" class=\"data row8 col2\" >0</td>\n",
       "      <td id=\"T_79b52_row8_col3\" class=\"data row8 col3\" >7</td>\n",
       "      <td id=\"T_79b52_row8_col4\" class=\"data row8 col4\" >0.000000</td>\n",
       "      <td id=\"T_79b52_row8_col5\" class=\"data row8 col5\" >6.000000</td>\n",
       "      <td id=\"T_79b52_row8_col6\" class=\"data row8 col6\" >2.585800</td>\n",
       "      <td id=\"T_79b52_row8_col7\" class=\"data row8 col7\" >2.101845</td>\n",
       "    </tr>\n",
       "    <tr>\n",
       "      <th id=\"T_79b52_level0_row9\" class=\"row_heading level0 row9\" >belanja_pokok</th>\n",
       "      <td id=\"T_79b52_row9_col0\" class=\"data row9 col0\" >int64</td>\n",
       "      <td id=\"T_79b52_row9_col1\" class=\"data row9 col1\" >0</td>\n",
       "      <td id=\"T_79b52_row9_col2\" class=\"data row9 col2\" >0</td>\n",
       "      <td id=\"T_79b52_row9_col3\" class=\"data row9 col3\" >3188</td>\n",
       "      <td id=\"T_79b52_row9_col4\" class=\"data row9 col4\" >0.000000</td>\n",
       "      <td id=\"T_79b52_row9_col5\" class=\"data row9 col5\" >3489675.000000</td>\n",
       "      <td id=\"T_79b52_row9_col6\" class=\"data row9 col6\" >518649.900969</td>\n",
       "      <td id=\"T_79b52_row9_col7\" class=\"data row9 col7\" >567649.325789</td>\n",
       "    </tr>\n",
       "    <tr>\n",
       "      <th id=\"T_79b52_level0_row10\" class=\"row_heading level0 row10\" >belanja_non_pokok</th>\n",
       "      <td id=\"T_79b52_row10_col0\" class=\"data row10 col0\" >int64</td>\n",
       "      <td id=\"T_79b52_row10_col1\" class=\"data row10 col1\" >0</td>\n",
       "      <td id=\"T_79b52_row10_col2\" class=\"data row10 col2\" >0</td>\n",
       "      <td id=\"T_79b52_row10_col3\" class=\"data row10 col3\" >2923</td>\n",
       "      <td id=\"T_79b52_row10_col4\" class=\"data row10 col4\" >0.000000</td>\n",
       "      <td id=\"T_79b52_row10_col5\" class=\"data row10 col5\" >714119.000000</td>\n",
       "      <td id=\"T_79b52_row10_col6\" class=\"data row10 col6\" >122924.797485</td>\n",
       "      <td id=\"T_79b52_row10_col7\" class=\"data row10 col7\" >134646.087408</td>\n",
       "    </tr>\n",
       "  </tbody>\n",
       "</table>\n"
      ],
      "text/plain": [
       "<pandas.io.formats.style.Styler at 0x2132eec3e60>"
      ]
     },
     "execution_count": 175,
     "metadata": {},
     "output_type": "execute_result"
    }
   ],
   "source": [
    "# Preprocess train set\n",
    "train = preprocessing(train)\n",
    "summary(train).style.background_gradient()"
   ]
  },
  {
   "cell_type": "code",
   "execution_count": 176,
   "metadata": {},
   "outputs": [
    {
     "data": {
      "text/html": [
       "<style type=\"text/css\">\n",
       "#T_2a218_row0_col1, #T_2a218_row0_col2, #T_2a218_row0_col4, #T_2a218_row0_col5, #T_2a218_row0_col6, #T_2a218_row0_col7, #T_2a218_row1_col1, #T_2a218_row1_col2, #T_2a218_row1_col3, #T_2a218_row1_col4, #T_2a218_row1_col5, #T_2a218_row1_col6, #T_2a218_row1_col7, #T_2a218_row2_col1, #T_2a218_row2_col2, #T_2a218_row2_col3, #T_2a218_row2_col4, #T_2a218_row2_col5, #T_2a218_row2_col6, #T_2a218_row2_col7, #T_2a218_row3_col1, #T_2a218_row3_col2, #T_2a218_row4_col1, #T_2a218_row4_col2, #T_2a218_row4_col4, #T_2a218_row4_col5, #T_2a218_row4_col6, #T_2a218_row4_col7, #T_2a218_row5_col1, #T_2a218_row5_col2, #T_2a218_row5_col3, #T_2a218_row5_col4, #T_2a218_row5_col5, #T_2a218_row5_col6, #T_2a218_row5_col7, #T_2a218_row6_col1, #T_2a218_row6_col2, #T_2a218_row6_col3, #T_2a218_row6_col4, #T_2a218_row6_col5, #T_2a218_row6_col6, #T_2a218_row6_col7, #T_2a218_row7_col1, #T_2a218_row7_col2, #T_2a218_row7_col4, #T_2a218_row7_col5, #T_2a218_row7_col6, #T_2a218_row7_col7, #T_2a218_row8_col1, #T_2a218_row8_col2, #T_2a218_row8_col4, #T_2a218_row9_col1, #T_2a218_row9_col2, #T_2a218_row9_col4, #T_2a218_row9_col5, #T_2a218_row9_col6, #T_2a218_row9_col7 {\n",
       "  background-color: #fff7fb;\n",
       "  color: #000000;\n",
       "}\n",
       "#T_2a218_row0_col3, #T_2a218_row8_col7 {\n",
       "  background-color: #fdf5fa;\n",
       "  color: #000000;\n",
       "}\n",
       "#T_2a218_row3_col3, #T_2a218_row3_col4, #T_2a218_row3_col5, #T_2a218_row3_col6, #T_2a218_row3_col7 {\n",
       "  background-color: #023858;\n",
       "  color: #f1f1f1;\n",
       "}\n",
       "#T_2a218_row4_col3 {\n",
       "  background-color: #faf3f9;\n",
       "  color: #000000;\n",
       "}\n",
       "#T_2a218_row7_col3, #T_2a218_row8_col6 {\n",
       "  background-color: #fef6fb;\n",
       "  color: #000000;\n",
       "}\n",
       "#T_2a218_row8_col3 {\n",
       "  background-color: #045687;\n",
       "  color: #f1f1f1;\n",
       "}\n",
       "#T_2a218_row8_col5 {\n",
       "  background-color: #fef6fa;\n",
       "  color: #000000;\n",
       "}\n",
       "#T_2a218_row9_col3 {\n",
       "  background-color: #04649d;\n",
       "  color: #f1f1f1;\n",
       "}\n",
       "</style>\n",
       "<table id=\"T_2a218\">\n",
       "  <thead>\n",
       "    <tr>\n",
       "      <th class=\"blank level0\" >&nbsp;</th>\n",
       "      <th id=\"T_2a218_level0_col0\" class=\"col_heading level0 col0\" >data type</th>\n",
       "      <th id=\"T_2a218_level0_col1\" class=\"col_heading level0 col1\" >#missing</th>\n",
       "      <th id=\"T_2a218_level0_col2\" class=\"col_heading level0 col2\" >Duplicate</th>\n",
       "      <th id=\"T_2a218_level0_col3\" class=\"col_heading level0 col3\" >#unique</th>\n",
       "      <th id=\"T_2a218_level0_col4\" class=\"col_heading level0 col4\" >min</th>\n",
       "      <th id=\"T_2a218_level0_col5\" class=\"col_heading level0 col5\" >max</th>\n",
       "      <th id=\"T_2a218_level0_col6\" class=\"col_heading level0 col6\" >avg</th>\n",
       "      <th id=\"T_2a218_level0_col7\" class=\"col_heading level0 col7\" >std dev</th>\n",
       "    </tr>\n",
       "  </thead>\n",
       "  <tbody>\n",
       "    <tr>\n",
       "      <th id=\"T_2a218_level0_row0\" class=\"row_heading level0 row0\" >tahun_kelahiran</th>\n",
       "      <td id=\"T_2a218_row0_col0\" class=\"data row0 col0\" >int64</td>\n",
       "      <td id=\"T_2a218_row0_col1\" class=\"data row0 col1\" >0</td>\n",
       "      <td id=\"T_2a218_row0_col2\" class=\"data row0 col2\" >0</td>\n",
       "      <td id=\"T_2a218_row0_col3\" class=\"data row0 col3\" >64</td>\n",
       "      <td id=\"T_2a218_row0_col4\" class=\"data row0 col4\" >1940.000000</td>\n",
       "      <td id=\"T_2a218_row0_col5\" class=\"data row0 col5\" >2009.000000</td>\n",
       "      <td id=\"T_2a218_row0_col6\" class=\"data row0 col6\" >1968.117339</td>\n",
       "      <td id=\"T_2a218_row0_col7\" class=\"data row0 col7\" >11.253241</td>\n",
       "    </tr>\n",
       "    <tr>\n",
       "      <th id=\"T_2a218_level0_row1\" class=\"row_heading level0 row1\" >pendidikan</th>\n",
       "      <td id=\"T_2a218_row1_col0\" class=\"data row1 col0\" >int64</td>\n",
       "      <td id=\"T_2a218_row1_col1\" class=\"data row1 col1\" >0</td>\n",
       "      <td id=\"T_2a218_row1_col2\" class=\"data row1 col2\" >0</td>\n",
       "      <td id=\"T_2a218_row1_col3\" class=\"data row1 col3\" >4</td>\n",
       "      <td id=\"T_2a218_row1_col4\" class=\"data row1 col4\" >1.000000</td>\n",
       "      <td id=\"T_2a218_row1_col5\" class=\"data row1 col5\" >5.000000</td>\n",
       "      <td id=\"T_2a218_row1_col6\" class=\"data row1 col6\" >3.175746</td>\n",
       "      <td id=\"T_2a218_row1_col7\" class=\"data row1 col7\" >1.046605</td>\n",
       "    </tr>\n",
       "    <tr>\n",
       "      <th id=\"T_2a218_level0_row2\" class=\"row_heading level0 row2\" >status_pernikahan</th>\n",
       "      <td id=\"T_2a218_row2_col0\" class=\"data row2 col0\" >int64</td>\n",
       "      <td id=\"T_2a218_row2_col1\" class=\"data row2 col1\" >0</td>\n",
       "      <td id=\"T_2a218_row2_col2\" class=\"data row2 col2\" >0</td>\n",
       "      <td id=\"T_2a218_row2_col3\" class=\"data row2 col3\" >3</td>\n",
       "      <td id=\"T_2a218_row2_col4\" class=\"data row2 col4\" >1.000000</td>\n",
       "      <td id=\"T_2a218_row2_col5\" class=\"data row2 col5\" >4.000000</td>\n",
       "      <td id=\"T_2a218_row2_col6\" class=\"data row2 col6\" >1.798062</td>\n",
       "      <td id=\"T_2a218_row2_col7\" class=\"data row2 col7\" >1.080625</td>\n",
       "    </tr>\n",
       "    <tr>\n",
       "      <th id=\"T_2a218_level0_row3\" class=\"row_heading level0 row3\" >pendapatan</th>\n",
       "      <td id=\"T_2a218_row3_col0\" class=\"data row3 col0\" >int64</td>\n",
       "      <td id=\"T_2a218_row3_col1\" class=\"data row3 col1\" >0</td>\n",
       "      <td id=\"T_2a218_row3_col2\" class=\"data row3 col2\" >0</td>\n",
       "      <td id=\"T_2a218_row3_col3\" class=\"data row3 col3\" >3610</td>\n",
       "      <td id=\"T_2a218_row3_col4\" class=\"data row3 col4\" >2998899.000000</td>\n",
       "      <td id=\"T_2a218_row3_col5\" class=\"data row3 col5\" >335080000.000000</td>\n",
       "      <td id=\"T_2a218_row3_col6\" class=\"data row3 col6\" >115556533.160031</td>\n",
       "      <td id=\"T_2a218_row3_col7\" class=\"data row3 col7\" >43063879.479422</td>\n",
       "    </tr>\n",
       "    <tr>\n",
       "      <th id=\"T_2a218_level0_row4\" class=\"row_heading level0 row4\" >terakhir_belanja</th>\n",
       "      <td id=\"T_2a218_row4_col0\" class=\"data row4 col0\" >int64</td>\n",
       "      <td id=\"T_2a218_row4_col1\" class=\"data row4 col1\" >0</td>\n",
       "      <td id=\"T_2a218_row4_col2\" class=\"data row4 col2\" >0</td>\n",
       "      <td id=\"T_2a218_row4_col3\" class=\"data row4 col3\" >116</td>\n",
       "      <td id=\"T_2a218_row4_col4\" class=\"data row4 col4\" >0.000000</td>\n",
       "      <td id=\"T_2a218_row4_col5\" class=\"data row4 col5\" >133.000000</td>\n",
       "      <td id=\"T_2a218_row4_col6\" class=\"data row4 col6\" >47.076742</td>\n",
       "      <td id=\"T_2a218_row4_col7\" class=\"data row4 col7\" >26.937135</td>\n",
       "    </tr>\n",
       "    <tr>\n",
       "      <th id=\"T_2a218_level0_row5\" class=\"row_heading level0 row5\" >pembelian_diskon</th>\n",
       "      <td id=\"T_2a218_row5_col0\" class=\"data row5 col0\" >int64</td>\n",
       "      <td id=\"T_2a218_row5_col1\" class=\"data row5 col1\" >0</td>\n",
       "      <td id=\"T_2a218_row5_col2\" class=\"data row5 col2\" >0</td>\n",
       "      <td id=\"T_2a218_row5_col3\" class=\"data row5 col3\" >17</td>\n",
       "      <td id=\"T_2a218_row5_col4\" class=\"data row5 col4\" >0.000000</td>\n",
       "      <td id=\"T_2a218_row5_col5\" class=\"data row5 col5\" >17.000000</td>\n",
       "      <td id=\"T_2a218_row5_col6\" class=\"data row5 col6\" >2.105029</td>\n",
       "      <td id=\"T_2a218_row5_col7\" class=\"data row5 col7\" >2.122949</td>\n",
       "    </tr>\n",
       "    <tr>\n",
       "      <th id=\"T_2a218_level0_row6\" class=\"row_heading level0 row6\" >pembelian_web</th>\n",
       "      <td id=\"T_2a218_row6_col0\" class=\"data row6 col0\" >int64</td>\n",
       "      <td id=\"T_2a218_row6_col1\" class=\"data row6 col1\" >0</td>\n",
       "      <td id=\"T_2a218_row6_col2\" class=\"data row6 col2\" >0</td>\n",
       "      <td id=\"T_2a218_row6_col3\" class=\"data row6 col3\" >16</td>\n",
       "      <td id=\"T_2a218_row6_col4\" class=\"data row6 col4\" >0.000000</td>\n",
       "      <td id=\"T_2a218_row6_col5\" class=\"data row6 col5\" >27.000000</td>\n",
       "      <td id=\"T_2a218_row6_col6\" class=\"data row6 col6\" >4.469618</td>\n",
       "      <td id=\"T_2a218_row6_col7\" class=\"data row6 col7\" >2.931091</td>\n",
       "    </tr>\n",
       "    <tr>\n",
       "      <th id=\"T_2a218_level0_row7\" class=\"row_heading level0 row7\" >pembelian_toko</th>\n",
       "      <td id=\"T_2a218_row7_col0\" class=\"data row7 col0\" >int64</td>\n",
       "      <td id=\"T_2a218_row7_col1\" class=\"data row7 col1\" >0</td>\n",
       "      <td id=\"T_2a218_row7_col2\" class=\"data row7 col2\" >0</td>\n",
       "      <td id=\"T_2a218_row7_col3\" class=\"data row7 col3\" >18</td>\n",
       "      <td id=\"T_2a218_row7_col4\" class=\"data row7 col4\" >0.000000</td>\n",
       "      <td id=\"T_2a218_row7_col5\" class=\"data row7 col5\" >17.000000</td>\n",
       "      <td id=\"T_2a218_row7_col6\" class=\"data row7 col6\" >5.839707</td>\n",
       "      <td id=\"T_2a218_row7_col7\" class=\"data row7 col7\" >3.283396</td>\n",
       "    </tr>\n",
       "    <tr>\n",
       "      <th id=\"T_2a218_level0_row8\" class=\"row_heading level0 row8\" >belanja_pokok</th>\n",
       "      <td id=\"T_2a218_row8_col0\" class=\"data row8 col0\" >int64</td>\n",
       "      <td id=\"T_2a218_row8_col1\" class=\"data row8 col1\" >0</td>\n",
       "      <td id=\"T_2a218_row8_col2\" class=\"data row8 col2\" >0</td>\n",
       "      <td id=\"T_2a218_row8_col3\" class=\"data row8 col3\" >3204</td>\n",
       "      <td id=\"T_2a218_row8_col4\" class=\"data row8 col4\" >0.000000</td>\n",
       "      <td id=\"T_2a218_row8_col5\" class=\"data row8 col5\" >3307605.000000</td>\n",
       "      <td id=\"T_2a218_row8_col6\" class=\"data row8 col6\" >536896.364589</td>\n",
       "      <td id=\"T_2a218_row8_col7\" class=\"data row8 col7\" >570561.675113</td>\n",
       "    </tr>\n",
       "    <tr>\n",
       "      <th id=\"T_2a218_level0_row9\" class=\"row_heading level0 row9\" >belanja_non_pokok</th>\n",
       "      <td id=\"T_2a218_row9_col0\" class=\"data row9 col0\" >int64</td>\n",
       "      <td id=\"T_2a218_row9_col1\" class=\"data row9 col1\" >0</td>\n",
       "      <td id=\"T_2a218_row9_col2\" class=\"data row9 col2\" >0</td>\n",
       "      <td id=\"T_2a218_row9_col3\" class=\"data row9 col3\" >2951</td>\n",
       "      <td id=\"T_2a218_row9_col4\" class=\"data row9 col4\" >0.000000</td>\n",
       "      <td id=\"T_2a218_row9_col5\" class=\"data row9 col5\" >764694.000000</td>\n",
       "      <td id=\"T_2a218_row9_col6\" class=\"data row9 col6\" >124923.230487</td>\n",
       "      <td id=\"T_2a218_row9_col7\" class=\"data row9 col7\" >135115.775240</td>\n",
       "    </tr>\n",
       "  </tbody>\n",
       "</table>\n"
      ],
      "text/plain": [
       "<pandas.io.formats.style.Styler at 0x2132f1cf7d0>"
      ]
     },
     "execution_count": 176,
     "metadata": {},
     "output_type": "execute_result"
    }
   ],
   "source": [
    "# Preprocess test set\n",
    "test = preprocessing(test)\n",
    "summary(test).style.background_gradient()"
   ]
  },
  {
   "cell_type": "code",
   "execution_count": 177,
   "metadata": {},
   "outputs": [
    {
     "data": {
      "image/png": "[encoded data removed]",
      "text/plain": [
       "<Figure size 1400x1200 with 2 Axes>"
      ]
     },
     "metadata": {},
     "output_type": "display_data"
    }
   ],
   "source": [
    "# Menghitung matriks korelasi\n",
    "corr_matrix = train.corr()\n",
    "\n",
    "# Membuat plot heatmap \n",
    "plt.figure(figsize=(14, 12))\n",
    "sns.heatmap(corr_matrix, annot=True, cmap='coolwarm')\n",
    "\n",
    "plt.title('Correlation Matrix')\n",
    "plt.show()"
   ]
  },
  {
   "cell_type": "code",
   "execution_count": 178,
   "metadata": {},
   "outputs": [],
   "source": [
    "X = train.drop(columns = ['jumlah_promosi'], axis = 1)\n",
    "y = train['jumlah_promosi']"
   ]
  },
  {
   "cell_type": "code",
   "execution_count": 179,
   "metadata": {},
   "outputs": [],
   "source": [
    "skf = RepeatedStratifiedKFold(n_splits = 10, n_repeats = 1, random_state = 42)\n",
    "X_train, X_test, y_train, y_test = train_test_split(X, y, test_size=0.2, random_state=42)"
   ]
  },
  {
   "cell_type": "markdown",
   "metadata": {},
   "source": [
    "### Hyperparameter Tuning Optuna"
   ]
  },
  {
   "cell_type": "code",
   "execution_count": 180,
   "metadata": {},
   "outputs": [],
   "source": [
    "# def objective(trial):\n",
    "#     # Define the hyperparameters to optimize for each classifier\n",
    "#     rf_n_estimators = trial.suggest_int(\"rf_n_estimators\", 100, 1000)\n",
    "#     rf_max_depth = trial.suggest_int(\"rf_max_depth\", 3, 20)\n",
    "#     rf_min_samples_split = trial.suggest_int(\"rf_min_samples_split\", 2, 20)\n",
    "#     rf_min_samples_leaf = trial.suggest_int(\"rf_min_samples_leaf\", 1, 20)\n",
    "    \n",
    "#     et_n_estimators = trial.suggest_int(\"et_n_estimators\", 100, 1000)\n",
    "#     et_max_depth = trial.suggest_int(\"et_max_depth\", 3, 20)\n",
    "#     et_min_samples_split = trial.suggest_int(\"et_min_samples_split\", 2, 20)\n",
    "#     et_min_samples_leaf = trial.suggest_int(\"et_min_samples_leaf\", 1, 20)\n",
    "    \n",
    "#     xgb_n_estimators = trial.suggest_int(\"xgb_n_estimators\", 100, 1000, )\n",
    "#     xgb_max_depth = trial.suggest_int(\"xgb_max_depth\", 3, 10)\n",
    "#     xgb_learning_rate = trial.suggest_loguniform(\"xgb_learning_rate\", 0.01, 0.1)\n",
    "#     xgb_gamma = trial.suggest_loguniform('xgb_gamma', 0.01, 1.0),\n",
    "#     xgb_min_child_weight = trial.suggest_int('xgb_min_child_weight', 1, 5),\n",
    "#     xgb_colsample_bytree = trial.suggest_uniform('colsample_bytree', 0.5, 1.0),\n",
    "#     xgb_subsample =  trial.suggest_uniform('subsample', 0.5, 1.0),\n",
    "    \n",
    "#     # Create individual classifiers with the suggested hyperparameters\n",
    "#     rf = RandomForestClassifier(n_estimators=rf_n_estimators,\n",
    "#                                 max_depth=rf_max_depth,\n",
    "#                                 min_samples_split=rf_min_samples_split,\n",
    "#                                 min_samples_leaf=rf_min_samples_leaf,\n",
    "#                                 random_state=42)\n",
    "    \n",
    "#     et = ExtraTreesClassifier(n_estimators=et_n_estimators,\n",
    "#                               max_depth=et_max_depth,\n",
    "#                               min_samples_split=et_min_samples_split,\n",
    "#                               min_samples_leaf=et_min_samples_leaf,\n",
    "#                               random_state=42)\n",
    "    \n",
    "#     xgb = XGBClassifier(n_estimators=xgb_n_estimators,\n",
    "#                         max_depth=xgb_max_depth,\n",
    "#                         learning_rate=xgb_learning_rate,\n",
    "#                         random_state=42)\n",
    "    \n",
    "#     # Construct the VotingClassifier with the individual classifiers\n",
    "#     estimators = [('rf', rf), ('et', et), ('xgb', xgb)]\n",
    "#     voting = trial.suggest_categorical(\"voting\", [\"hard\", \"soft\"])\n",
    "    \n",
    "#     model = VotingClassifier(estimators=estimators, voting=voting)\n",
    "    \n",
    "#     # Use stratified k-fold cross-validation for evaluation\n",
    "#     skf = StratifiedKFold(n_splits=5, shuffle=True, random_state=42)\n",
    "#     scores = cross_val_score(model, X_train, y_train, scoring='f1_macro', cv=skf, n_jobs=-1)\n",
    "    \n",
    "#     # Return the mean F1 score of the model\n",
    "#     return scores.mean()\n",
    "\n",
    "# # Create an Optuna study\n",
    "# sampler = optuna.samplers.TPESampler(seed=42)\n",
    "# study = optuna.create_study(study_name=\"voting_classifier\", direction=\"maximize\", sampler=sampler)\n",
    "\n",
    "# # Optimize the objective function\n",
    "# study.optimize(objective, n_trials=100, show_progress_bar=True)\n",
    "\n",
    "# # Get the best trial and its parameters\n",
    "# best_trial = study.best_trial\n",
    "# best_params = best_trial.params\n",
    "\n",
    "# # Construct the VotingClassifier with the best parameters\n",
    "# rf_best = RandomForestClassifier(n_estimators=best_params[\"rf_n_estimators\"],\n",
    "#                                  criterion = 'log_loss',\n",
    "#                                  max_depth=best_params[\"rf_max_depth\"],\n",
    "#                                  min_samples_split=best_params[\"rf_min_samples_split\"],\n",
    "#                                  min_samples_leaf=best_params[\"rf_min_samples_leaf\"],\n",
    "#                                  random_state=42)\n",
    "\n",
    "# et_best = ExtraTreesClassifier(n_estimators=best_params[\"et_n_estimators\"],\n",
    "#                                criterion = 'log_loss',\n",
    "#                                max_depth=best_params[\"et_max_depth\"],\n",
    "#                                min_samples_split=best_params[\"et_min_samples_split\"],\n",
    "#                                min_samples_leaf=best_params[\"et_min_samples_leaf\"],\n",
    "#                                random_state=42)\n",
    "\n",
    "# xgb_best = XGBClassifier(n_estimators=best_params[\"xgb_n_estimators\"],\n",
    "#                          max_depth=best_params[\"xgb_max_depth\"],\n",
    "#                          learning_rate=best_params[\"xgb_learning_rate\"],\n",
    "#                          random_state=42)\n",
    "\n",
    "# best_estimators = [('rf', rf_best), ('et', et_best), ('xgb', xgb_best)]\n",
    "# best_voting = best_params[\"voting\"]\n",
    "\n",
    "# best_model = VotingClassifier(estimators=best_estimators, voting=best_voting)\n",
    "\n",
    "# # Train the best VotingClassifier on the full training data\n",
    "# best_model.fit(X_train, y_train)\n",
    "\n",
    "# # Evaluate the best model on the test data\n",
    "# y_pred = best_model.predict(X_test)\n",
    "# f1_macro = f1_score(y_test, y_pred, average='macro')\n",
    "\n",
    "# print(\"Best F1 Macro Score on Test Set:\", f1_macro)\n",
    "# print(\"Best Parameters:\")\n",
    "# print(best_params)"
   ]
  },
  {
   "cell_type": "code",
   "execution_count": 181,
   "metadata": {},
   "outputs": [],
   "source": [
    "\n",
    "# # Define the objective function for optimization\n",
    "# def objective(trial):\n",
    "#     # Define the hyperparameters to optimize for each classifier\n",
    "#     rf_n_estimators = trial.suggest_int(\"rf_n_estimators\", 100, 1000)\n",
    "#     rf_max_depth = trial.suggest_int(\"rf_max_depth\", 3, 20)\n",
    "#     rf_min_samples_split = trial.suggest_int(\"rf_min_samples_split\", 2, 20)\n",
    "#     rf_min_samples_leaf = trial.suggest_int(\"rf_min_samples_leaf\", 1, 20)\n",
    "    \n",
    "#     et_n_estimators = trial.suggest_int(\"et_n_estimators\", 100, 1000)\n",
    "#     et_max_depth = trial.suggest_int(\"et_max_depth\", 3, 20)\n",
    "#     et_min_samples_split = trial.suggest_int(\"et_min_samples_split\", 2, 20)\n",
    "#     et_min_samples_leaf = trial.suggest_int(\"et_min_samples_leaf\", 1, 20)\n",
    "    \n",
    "#     xgb_n_estimators = trial.suggest_int(\"xgb_n_estimators\", 100, 1000)\n",
    "#     xgb_max_depth = trial.suggest_int(\"xgb_max_depth\", 3, 10)\n",
    "#     xgb_learning_rate = trial.suggest_loguniform(\"xgb_learning_rate\", 0.01, 0.1)\n",
    "#     xgb_gamma = trial.suggest_loguniform('xgb_gamma', 0.01, 1.0)\n",
    "#     xgb_min_child_weight = trial.suggest_int('xgb_min_child_weight', 1, 5)\n",
    "#     xgb_colsample_bytree = trial.suggest_uniform('xgb_colsample_bytree', 0.5, 1.0)\n",
    "#     xgb_subsample = trial.suggest_uniform('xgb_subsample', 0.5, 1.0)\n",
    "    \n",
    "#     # Create individual classifiers with the suggested hyperparameters\n",
    "#     rf = RandomForestClassifier(n_estimators=rf_n_estimators,\n",
    "#                                 max_depth=rf_max_depth,\n",
    "#                                 criterion = 'log_loss',\n",
    "#                                 min_samples_split=rf_min_samples_split,\n",
    "#                                 min_samples_leaf=rf_min_samples_leaf,\n",
    "#                                 random_state=42)\n",
    "    \n",
    "#     et = ExtraTreesClassifier(n_estimators=et_n_estimators,\n",
    "#                               max_depth=et_max_depth,\n",
    "#                               criterion = 'log_loss',\n",
    "#                               min_samples_split=et_min_samples_split,\n",
    "#                               min_samples_leaf=et_min_samples_leaf,\n",
    "#                               random_state=42)\n",
    "    \n",
    "#     xgb = XGBClassifier(n_estimators=xgb_n_estimators,\n",
    "#                         max_depth=xgb_max_depth,\n",
    "#                         learning_rate=xgb_learning_rate,\n",
    "#                         gamma=xgb_gamma,\n",
    "#                         min_child_weight=xgb_min_child_weight,\n",
    "#                         colsample_bytree=xgb_colsample_bytree,\n",
    "#                         subsample=xgb_subsample,\n",
    "#                         random_state=42)\n",
    "    \n",
    "#     # Construct the VotingClassifier with the individual classifiers\n",
    "#     estimators = [('rf', rf), ('et', et), ('xgb', xgb)]\n",
    "#     voting = trial.suggest_categorical(\"voting\", [\"hard\", \"soft\"])\n",
    "    \n",
    "#     model = VotingClassifier(estimators=estimators, voting=voting)\n",
    "    \n",
    "#     # Use stratified k-fold cross-validation for evaluation\n",
    "#     skf = StratifiedKFold(n_splits=5, shuffle=True, random_state=42)\n",
    "#     scores = cross_val_score(model, X_train, y_train, scoring='f1_macro', cv=skf, n_jobs=-1)\n",
    "    \n",
    "#     # Return the mean F1 score of the model\n",
    "#     return scores.mean()\n",
    "\n",
    "# # Create an Optuna study\n",
    "# sampler = optuna.samplers.TPESampler(seed=42)\n",
    "# study = optuna.create_study(study_name=\"voting_classifier\", direction=\"maximize\", sampler=sampler)\n",
    "\n",
    "# # Optimize the objective function\n",
    "# study.optimize(objective, n_trials=100, show_progress_bar=True)\n",
    "\n",
    "# # Get the best trial and its parameters\n",
    "# best_trial = study.best_trial\n",
    "# best_params = best_trial.params\n",
    "\n",
    "# # Construct the VotingClassifier with the best parameters\n",
    "# rf_best = RandomForestClassifier(n_estimators=best_params[\"rf_n_estimators\"],\n",
    "#                                  max_depth=best_params[\"rf_max_depth\"],\n",
    "#                                  min_samples_split=best_params[\"rf_min_samples_split\"],\n",
    "#                                  min_samples_leaf=best_params[\"rf_min_samples_leaf\"],\n",
    "#                                  criterion='log_loss',  # Specify the criterion (e.g., 'gini' or 'entropy')\n",
    "#                                  random_state=42)\n",
    "\n",
    "# et_best = ExtraTreesClassifier(n_estimators=best_params[\"et_n_estimators\"],\n",
    "#                                max_depth=best_params[\"et_max_depth\"],\n",
    "#                                min_samples_split=best_params[\"et_min_samples_split\"],\n",
    "#                                min_samples_leaf=best_params[\"et_min_samples_leaf\"],\n",
    "#                                criterion='log_loss',  # Specify the criterion (e.g., 'gini' or 'entropy')\n",
    "#                                random_state=42)\n",
    "\n",
    "# xgb_best = XGBClassifier(n_estimators=best_params[\"xgb_n_estimators\"],\n",
    "#                          max_depth=best_params[\"xgb_max_depth\"],\n",
    "#                          learning_rate=best_params[\"xgb_learning_rate\"],\n",
    "#                          gamma=best_params[\"xgb_gamma\"],\n",
    "#                          min_child_weight=best_params[\"xgb_min_child_weight\"],\n",
    "#                          colsample_bytree=best_params[\"xgb_colsample_bytree\"],\n",
    "#                          subsample=best_params[\"xgb_subsample\"],\n",
    "#                          random_state=42)\n",
    "\n",
    "# best_estimators = [('rf', rf_best), ('et', et_best), ('xgb', xgb_best)]\n",
    "# best_voting = best_params[\"voting\"]\n",
    "\n",
    "# best_model = VotingClassifier(estimators=best_estimators, voting=best_voting)\n",
    "\n",
    "# # Train the best VotingClassifier on the full training data\n",
    "# best_model.fit(X_train, y_train)\n",
    "\n",
    "# # Evaluate the best model on the test data\n",
    "# y_pred = best_model.predict(X_test)\n",
    "# f1_macro = f1_score(y_test, y_pred, average='macro')\n",
    "\n",
    "# print(\"Best F1 Macro Score on Test Set:\", f1_macro)\n",
    "# print(\"Best Parameters:\")\n",
    "# print(best_params)\n"
   ]
  },
  {
   "cell_type": "code",
   "execution_count": 182,
   "metadata": {},
   "outputs": [
    {
     "name": "stderr",
     "output_type": "stream",
     "text": [
      "Best trial: 71. Best value: 0.696699: 100%|██████████| 100/100 [04:37<00:00,  2.77s/it]"
     ]
    },
    {
     "name": "stdout",
     "output_type": "stream",
     "text": [
      "Number of finished trials:  100\n",
      "Best trial:\n",
      "  Value:  0.6966985772229358\n",
      "  Params: \n",
      "    n_estimators: 749\n",
      "    max_features: 9\n",
      "    max_depth: 83\n",
      "    min_samples_split: 2\n",
      "    min_samples_leaf: 1\n",
      "CPU times: total: 1.28 s\n",
      "Wall time: 4min 37s\n"
     ]
    },
    {
     "name": "stderr",
     "output_type": "stream",
     "text": [
      "\n"
     ]
    },
    {
     "data": {
      "application/vnd.plotly.v1+json": {
       "config": {
        "plotlyServerURL": "https://plot.ly"
       },
       "data": [
        {
         "mode": "markers",
         "name": "Objective Value",
         "type": "scatter",
         "x": [
          0,
          1,
          2,
          3,
          4,
          5,
          6,
          7,
          8,
          9,
          10,
          11,
          12,
          13,
          14,
          15,
          16,
          17,
          18,
          19,
          20,
          21,
          22,
          23,
          24,
          25,
          26,
          27,
          28,
          29,
          30,
          31,
          32,
          33,
          34,
          35,
          36,
          37,
          38,
          39,
          40,
          41,
          42,
          43,
          44,
          45,
          46,
          47,
          48,
          49,
          50,
          51,
          52,
          53,
          54,
          55,
          56,
          57,
          58,
          59,
          60,
          61,
          62,
          63,
          64,
          65,
          66,
          67,
          68,
          69,
          70,
          71,
          72,
          73,
          74,
          75,
          76,
          77,
          78,
          79,
          80,
          81,
          82,
          83,
          84,
          85,
          86,
          87,
          88,
          89,
          90,
          91,
          92,
          93,
          94,
          95,
          96,
          97,
          98,
          99
         ],
         "y": [
          0.5562808131587968,
          0.0586154558251024,
          0.5809747852052556,
          0.43897958090367145,
          0.27910194620387374,
          0.4708448200267483,
          0.20216830428666874,
          0.38844747451224365,
          0.4451051938641485,
          0.49381862203513627,
          0.40042366539500984,
          0.6672307197858542,
          0.6739323555248549,
          0.6927264855112126,
          0.6954128813151217,
          0.4935204142232516,
          0.379829882115101,
          0.3997022231941312,
          0.4759111215961651,
          0.5828978815095601,
          0.5111035333173073,
          0.6705251868014468,
          0.632943310227277,
          0.6161920357403925,
          0.5271709305351255,
          0.4707166358930416,
          0.3470455285023221,
          0.6564044497519326,
          0.5488048237195813,
          0.3631777859680981,
          0.5616336988568109,
          0.6693279804742158,
          0.6637575248412975,
          0.5688268589132018,
          0.6175420438131997,
          0.5587920067538047,
          0.40084531873842655,
          0.6192055356917974,
          0.6381472868840776,
          0.46409580881032203,
          0.0809610703840383,
          0.6693279804742158,
          0.643726107099844,
          0.5788991459930511,
          0.6751281029622511,
          0.677464913053146,
          0.6028630107712253,
          0.528859931682933,
          0.5554183542505652,
          0.37175746552831107,
          0.47124085103179425,
          0.6627125470723734,
          0.673384281004205,
          0.6745431618825303,
          0.6015664668918255,
          0.548576646774423,
          0.6734532607908748,
          0.45106998177884805,
          0.5676813030625694,
          0.6235033315841068,
          0.6032167397089087,
          0.6735376220959726,
          0.6922921262291324,
          0.6905629232943657,
          0.6930755342428823,
          0.43674963925839966,
          0.6946546630159917,
          0.6954892355679952,
          0.695387652737512,
          0.6196451828639319,
          0.6960487743995767,
          0.6966985772229358,
          0.6481390767896759,
          0.6966510100108244,
          0.6483803030752552,
          0.6191978593348851,
          0.50871619736615,
          0.5669429289613412,
          0.6508389374638903,
          0.5968526351583364,
          0.6869696646680725,
          0.6923583411188076,
          0.647636517209256,
          0.6900391417500484,
          0.6186815008888022,
          0.6644675310878877,
          0.6488300553175638,
          0.6773836263745397,
          0.5922342476063314,
          0.674772093978805,
          0.5209794162199974,
          0.6925642629667225,
          0.6921192394706411,
          0.6682618752172481,
          0.6522445908014436,
          0.393200925258391,
          0.34667313462437394,
          0.6949319499342731,
          0.6761575163744672,
          0.674417818460102
         ]
        },
        {
         "mode": "lines",
         "name": "Best Value",
         "type": "scatter",
         "x": [
          0,
          1,
          2,
          3,
          4,
          5,
          6,
          7,
          8,
          9,
          10,
          11,
          12,
          13,
          14,
          15,
          16,
          17,
          18,
          19,
          20,
          21,
          22,
          23,
          24,
          25,
          26,
          27,
          28,
          29,
          30,
          31,
          32,
          33,
          34,
          35,
          36,
          37,
          38,
          39,
          40,
          41,
          42,
          43,
          44,
          45,
          46,
          47,
          48,
          49,
          50,
          51,
          52,
          53,
          54,
          55,
          56,
          57,
          58,
          59,
          60,
          61,
          62,
          63,
          64,
          65,
          66,
          67,
          68,
          69,
          70,
          71,
          72,
          73,
          74,
          75,
          76,
          77,
          78,
          79,
          80,
          81,
          82,
          83,
          84,
          85,
          86,
          87,
          88,
          89,
          90,
          91,
          92,
          93,
          94,
          95,
          96,
          97,
          98,
          99
         ],
         "y": [
          0.5562808131587968,
          0.5562808131587968,
          0.5809747852052556,
          0.5809747852052556,
          0.5809747852052556,
          0.5809747852052556,
          0.5809747852052556,
          0.5809747852052556,
          0.5809747852052556,
          0.5809747852052556,
          0.5809747852052556,
          0.6672307197858542,
          0.6739323555248549,
          0.6927264855112126,
          0.6954128813151217,
          0.6954128813151217,
          0.6954128813151217,
          0.6954128813151217,
          0.6954128813151217,
          0.6954128813151217,
          0.6954128813151217,
          0.6954128813151217,
          0.6954128813151217,
          0.6954128813151217,
          0.6954128813151217,
          0.6954128813151217,
          0.6954128813151217,
          0.6954128813151217,
          0.6954128813151217,
          0.6954128813151217,
          0.6954128813151217,
          0.6954128813151217,
          0.6954128813151217,
          0.6954128813151217,
          0.6954128813151217,
          0.6954128813151217,
          0.6954128813151217,
          0.6954128813151217,
          0.6954128813151217,
          0.6954128813151217,
          0.6954128813151217,
          0.6954128813151217,
          0.6954128813151217,
          0.6954128813151217,
          0.6954128813151217,
          0.6954128813151217,
          0.6954128813151217,
          0.6954128813151217,
          0.6954128813151217,
          0.6954128813151217,
          0.6954128813151217,
          0.6954128813151217,
          0.6954128813151217,
          0.6954128813151217,
          0.6954128813151217,
          0.6954128813151217,
          0.6954128813151217,
          0.6954128813151217,
          0.6954128813151217,
          0.6954128813151217,
          0.6954128813151217,
          0.6954128813151217,
          0.6954128813151217,
          0.6954128813151217,
          0.6954128813151217,
          0.6954128813151217,
          0.6954128813151217,
          0.6954892355679952,
          0.6954892355679952,
          0.6954892355679952,
          0.6960487743995767,
          0.6966985772229358,
          0.6966985772229358,
          0.6966985772229358,
          0.6966985772229358,
          0.6966985772229358,
          0.6966985772229358,
          0.6966985772229358,
          0.6966985772229358,
          0.6966985772229358,
          0.6966985772229358,
          0.6966985772229358,
          0.6966985772229358,
          0.6966985772229358,
          0.6966985772229358,
          0.6966985772229358,
          0.6966985772229358,
          0.6966985772229358,
          0.6966985772229358,
          0.6966985772229358,
          0.6966985772229358,
          0.6966985772229358,
          0.6966985772229358,
          0.6966985772229358,
          0.6966985772229358,
          0.6966985772229358,
          0.6966985772229358,
          0.6966985772229358,
          0.6966985772229358,
          0.6966985772229358
         ]
        },
        {
         "marker": {
          "color": "#cccccc"
         },
         "mode": "markers",
         "name": "Infeasible Trial",
         "showlegend": false,
         "type": "scatter",
         "x": [],
         "y": []
        }
       ],
       "layout": {
        "template": {
         "data": {
          "bar": [
           {
            "error_x": {
             "color": "#2a3f5f"
            },
            "error_y": {
             "color": "#2a3f5f"
            },
            "marker": {
             "line": {
              "color": "#E5ECF6",
              "width": 0.5
             },
             "pattern": {
              "fillmode": "overlay",
              "size": 10,
              "solidity": 0.2
             }
            },
            "type": "bar"
           }
          ],
          "barpolar": [
           {
            "marker": {
             "line": {
              "color": "#E5ECF6",
              "width": 0.5
             },
             "pattern": {
              "fillmode": "overlay",
              "size": 10,
              "solidity": 0.2
             }
            },
            "type": "barpolar"
           }
          ],
          "carpet": [
           {
            "aaxis": {
             "endlinecolor": "#2a3f5f",
             "gridcolor": "white",
             "linecolor": "white",
             "minorgridcolor": "white",
             "startlinecolor": "#2a3f5f"
            },
            "baxis": {
             "endlinecolor": "#2a3f5f",
             "gridcolor": "white",
             "linecolor": "white",
             "minorgridcolor": "white",
             "startlinecolor": "#2a3f5f"
            },
            "type": "carpet"
           }
          ],
          "choropleth": [
           {
            "colorbar": {
             "outlinewidth": 0,
             "ticks": ""
            },
            "type": "choropleth"
           }
          ],
          "contour": [
           {
            "colorbar": {
             "outlinewidth": 0,
             "ticks": ""
            },
            "colorscale": [
             [
              0,
              "#0d0887"
             ],
             [
              0.1111111111111111,
              "#46039f"
             ],
             [
              0.2222222222222222,
              "#7201a8"
             ],
             [
              0.3333333333333333,
              "#9c179e"
             ],
             [
              0.4444444444444444,
              "#bd3786"
             ],
             [
              0.5555555555555556,
              "#d8576b"
             ],
             [
              0.6666666666666666,
              "#ed7953"
             ],
             [
              0.7777777777777778,
              "#fb9f3a"
             ],
             [
              0.8888888888888888,
              "#fdca26"
             ],
             [
              1,
              "#f0f921"
             ]
            ],
            "type": "contour"
           }
          ],
          "contourcarpet": [
           {
            "colorbar": {
             "outlinewidth": 0,
             "ticks": ""
            },
            "type": "contourcarpet"
           }
          ],
          "heatmap": [
           {
            "colorbar": {
             "outlinewidth": 0,
             "ticks": ""
            },
            "colorscale": [
             [
              0,
              "#0d0887"
             ],
             [
              0.1111111111111111,
              "#46039f"
             ],
             [
              0.2222222222222222,
              "#7201a8"
             ],
             [
              0.3333333333333333,
              "#9c179e"
             ],
             [
              0.4444444444444444,
              "#bd3786"
             ],
             [
              0.5555555555555556,
              "#d8576b"
             ],
             [
              0.6666666666666666,
              "#ed7953"
             ],
             [
              0.7777777777777778,
              "#fb9f3a"
             ],
             [
              0.8888888888888888,
              "#fdca26"
             ],
             [
              1,
              "#f0f921"
             ]
            ],
            "type": "heatmap"
           }
          ],
          "heatmapgl": [
           {
            "colorbar": {
             "outlinewidth": 0,
             "ticks": ""
            },
            "colorscale": [
             [
              0,
              "#0d0887"
             ],
             [
              0.1111111111111111,
              "#46039f"
             ],
             [
              0.2222222222222222,
              "#7201a8"
             ],
             [
              0.3333333333333333,
              "#9c179e"
             ],
             [
              0.4444444444444444,
              "#bd3786"
             ],
             [
              0.5555555555555556,
              "#d8576b"
             ],
             [
              0.6666666666666666,
              "#ed7953"
             ],
             [
              0.7777777777777778,
              "#fb9f3a"
             ],
             [
              0.8888888888888888,
              "#fdca26"
             ],
             [
              1,
              "#f0f921"
             ]
            ],
            "type": "heatmapgl"
           }
          ],
          "histogram": [
           {
            "marker": {
             "pattern": {
              "fillmode": "overlay",
              "size": 10,
              "solidity": 0.2
             }
            },
            "type": "histogram"
           }
          ],
          "histogram2d": [
           {
            "colorbar": {
             "outlinewidth": 0,
             "ticks": ""
            },
            "colorscale": [
             [
              0,
              "#0d0887"
             ],
             [
              0.1111111111111111,
              "#46039f"
             ],
             [
              0.2222222222222222,
              "#7201a8"
             ],
             [
              0.3333333333333333,
              "#9c179e"
             ],
             [
              0.4444444444444444,
              "#bd3786"
             ],
             [
              0.5555555555555556,
              "#d8576b"
             ],
             [
              0.6666666666666666,
              "#ed7953"
             ],
             [
              0.7777777777777778,
              "#fb9f3a"
             ],
             [
              0.8888888888888888,
              "#fdca26"
             ],
             [
              1,
              "#f0f921"
             ]
            ],
            "type": "histogram2d"
           }
          ],
          "histogram2dcontour": [
           {
            "colorbar": {
             "outlinewidth": 0,
             "ticks": ""
            },
            "colorscale": [
             [
              0,
              "#0d0887"
             ],
             [
              0.1111111111111111,
              "#46039f"
             ],
             [
              0.2222222222222222,
              "#7201a8"
             ],
             [
              0.3333333333333333,
              "#9c179e"
             ],
             [
              0.4444444444444444,
              "#bd3786"
             ],
             [
              0.5555555555555556,
              "#d8576b"
             ],
             [
              0.6666666666666666,
              "#ed7953"
             ],
             [
              0.7777777777777778,
              "#fb9f3a"
             ],
             [
              0.8888888888888888,
              "#fdca26"
             ],
             [
              1,
              "#f0f921"
             ]
            ],
            "type": "histogram2dcontour"
           }
          ],
          "mesh3d": [
           {
            "colorbar": {
             "outlinewidth": 0,
             "ticks": ""
            },
            "type": "mesh3d"
           }
          ],
          "parcoords": [
           {
            "line": {
             "colorbar": {
              "outlinewidth": 0,
              "ticks": ""
             }
            },
            "type": "parcoords"
           }
          ],
          "pie": [
           {
            "automargin": true,
            "type": "pie"
           }
          ],
          "scatter": [
           {
            "fillpattern": {
             "fillmode": "overlay",
             "size": 10,
             "solidity": 0.2
            },
            "type": "scatter"
           }
          ],
          "scatter3d": [
           {
            "line": {
             "colorbar": {
              "outlinewidth": 0,
              "ticks": ""
             }
            },
            "marker": {
             "colorbar": {
              "outlinewidth": 0,
              "ticks": ""
             }
            },
            "type": "scatter3d"
           }
          ],
          "scattercarpet": [
           {
            "marker": {
             "colorbar": {
              "outlinewidth": 0,
              "ticks": ""
             }
            },
            "type": "scattercarpet"
           }
          ],
          "scattergeo": [
           {
            "marker": {
             "colorbar": {
              "outlinewidth": 0,
              "ticks": ""
             }
            },
            "type": "scattergeo"
           }
          ],
          "scattergl": [
           {
            "marker": {
             "colorbar": {
              "outlinewidth": 0,
              "ticks": ""
             }
            },
            "type": "scattergl"
           }
          ],
          "scattermapbox": [
           {
            "marker": {
             "colorbar": {
              "outlinewidth": 0,
              "ticks": ""
             }
            },
            "type": "scattermapbox"
           }
          ],
          "scatterpolar": [
           {
            "marker": {
             "colorbar": {
              "outlinewidth": 0,
              "ticks": ""
             }
            },
            "type": "scatterpolar"
           }
          ],
          "scatterpolargl": [
           {
            "marker": {
             "colorbar": {
              "outlinewidth": 0,
              "ticks": ""
             }
            },
            "type": "scatterpolargl"
           }
          ],
          "scatterternary": [
           {
            "marker": {
             "colorbar": {
              "outlinewidth": 0,
              "ticks": ""
             }
            },
            "type": "scatterternary"
           }
          ],
          "surface": [
           {
            "colorbar": {
             "outlinewidth": 0,
             "ticks": ""
            },
            "colorscale": [
             [
              0,
              "#0d0887"
             ],
             [
              0.1111111111111111,
              "#46039f"
             ],
             [
              0.2222222222222222,
              "#7201a8"
             ],
             [
              0.3333333333333333,
              "#9c179e"
             ],
             [
              0.4444444444444444,
              "#bd3786"
             ],
             [
              0.5555555555555556,
              "#d8576b"
             ],
             [
              0.6666666666666666,
              "#ed7953"
             ],
             [
              0.7777777777777778,
              "#fb9f3a"
             ],
             [
              0.8888888888888888,
              "#fdca26"
             ],
             [
              1,
              "#f0f921"
             ]
            ],
            "type": "surface"
           }
          ],
          "table": [
           {
            "cells": {
             "fill": {
              "color": "#EBF0F8"
             },
             "line": {
              "color": "white"
             }
            },
            "header": {
             "fill": {
              "color": "#C8D4E3"
             },
             "line": {
              "color": "white"
             }
            },
            "type": "table"
           }
          ]
         },
         "layout": {
          "annotationdefaults": {
           "arrowcolor": "#2a3f5f",
           "arrowhead": 0,
           "arrowwidth": 1
          },
          "autotypenumbers": "strict",
          "coloraxis": {
           "colorbar": {
            "outlinewidth": 0,
            "ticks": ""
           }
          },
          "colorscale": {
           "diverging": [
            [
             0,
             "#8e0152"
            ],
            [
             0.1,
             "#c51b7d"
            ],
            [
             0.2,
             "#de77ae"
            ],
            [
             0.3,
             "#f1b6da"
            ],
            [
             0.4,
             "#fde0ef"
            ],
            [
             0.5,
             "#f7f7f7"
            ],
            [
             0.6,
             "#e6f5d0"
            ],
            [
             0.7,
             "#b8e186"
            ],
            [
             0.8,
             "#7fbc41"
            ],
            [
             0.9,
             "#4d9221"
            ],
            [
             1,
             "#276419"
            ]
           ],
           "sequential": [
            [
             0,
             "#0d0887"
            ],
            [
             0.1111111111111111,
             "#46039f"
            ],
            [
             0.2222222222222222,
             "#7201a8"
            ],
            [
             0.3333333333333333,
             "#9c179e"
            ],
            [
             0.4444444444444444,
             "#bd3786"
            ],
            [
             0.5555555555555556,
             "#d8576b"
            ],
            [
             0.6666666666666666,
             "#ed7953"
            ],
            [
             0.7777777777777778,
             "#fb9f3a"
            ],
            [
             0.8888888888888888,
             "#fdca26"
            ],
            [
             1,
             "#f0f921"
            ]
           ],
           "sequentialminus": [
            [
             0,
             "#0d0887"
            ],
            [
             0.1111111111111111,
             "#46039f"
            ],
            [
             0.2222222222222222,
             "#7201a8"
            ],
            [
             0.3333333333333333,
             "#9c179e"
            ],
            [
             0.4444444444444444,
             "#bd3786"
            ],
            [
             0.5555555555555556,
             "#d8576b"
            ],
            [
             0.6666666666666666,
             "#ed7953"
            ],
            [
             0.7777777777777778,
             "#fb9f3a"
            ],
            [
             0.8888888888888888,
             "#fdca26"
            ],
            [
             1,
             "#f0f921"
            ]
           ]
          },
          "colorway": [
           "#636efa",
           "#EF553B",
           "#00cc96",
           "#ab63fa",
           "#FFA15A",
           "#19d3f3",
           "#FF6692",
           "#B6E880",
           "#FF97FF",
           "#FECB52"
          ],
          "font": {
           "color": "#2a3f5f"
          },
          "geo": {
           "bgcolor": "white",
           "lakecolor": "white",
           "landcolor": "#E5ECF6",
           "showlakes": true,
           "showland": true,
           "subunitcolor": "white"
          },
          "hoverlabel": {
           "align": "left"
          },
          "hovermode": "closest",
          "mapbox": {
           "style": "light"
          },
          "paper_bgcolor": "white",
          "plot_bgcolor": "#E5ECF6",
          "polar": {
           "angularaxis": {
            "gridcolor": "white",
            "linecolor": "white",
            "ticks": ""
           },
           "bgcolor": "#E5ECF6",
           "radialaxis": {
            "gridcolor": "white",
            "linecolor": "white",
            "ticks": ""
           }
          },
          "scene": {
           "xaxis": {
            "backgroundcolor": "#E5ECF6",
            "gridcolor": "white",
            "gridwidth": 2,
            "linecolor": "white",
            "showbackground": true,
            "ticks": "",
            "zerolinecolor": "white"
           },
           "yaxis": {
            "backgroundcolor": "#E5ECF6",
            "gridcolor": "white",
            "gridwidth": 2,
            "linecolor": "white",
            "showbackground": true,
            "ticks": "",
            "zerolinecolor": "white"
           },
           "zaxis": {
            "backgroundcolor": "#E5ECF6",
            "gridcolor": "white",
            "gridwidth": 2,
            "linecolor": "white",
            "showbackground": true,
            "ticks": "",
            "zerolinecolor": "white"
           }
          },
          "shapedefaults": {
           "line": {
            "color": "#2a3f5f"
           }
          },
          "ternary": {
           "aaxis": {
            "gridcolor": "white",
            "linecolor": "white",
            "ticks": ""
           },
           "baxis": {
            "gridcolor": "white",
            "linecolor": "white",
            "ticks": ""
           },
           "bgcolor": "#E5ECF6",
           "caxis": {
            "gridcolor": "white",
            "linecolor": "white",
            "ticks": ""
           }
          },
          "title": {
           "x": 0.05
          },
          "xaxis": {
           "automargin": true,
           "gridcolor": "white",
           "linecolor": "white",
           "ticks": "",
           "title": {
            "standoff": 15
           },
           "zerolinecolor": "white",
           "zerolinewidth": 2
          },
          "yaxis": {
           "automargin": true,
           "gridcolor": "white",
           "linecolor": "white",
           "ticks": "",
           "title": {
            "standoff": 15
           },
           "zerolinecolor": "white",
           "zerolinewidth": 2
          }
         }
        },
        "title": {
         "text": "Optimization History Plot"
        },
        "xaxis": {
         "title": {
          "text": "Trial"
         }
        },
        "yaxis": {
         "title": {
          "text": "Objective Value"
         }
        }
       }
      }
     },
     "metadata": {},
     "output_type": "display_data"
    }
   ],
   "source": [
    "%%time\n",
    "def objective(trial):\n",
    "    # Number of trees in random forest\n",
    "    n_estimators = trial.suggest_int(name=\"n_estimators\", low=100, high=1000)\n",
    "\n",
    "    # Number of features to consider at every split\n",
    "    max_features = trial.suggest_int(name=\"max_features\", low=1, high=10)\n",
    "\n",
    "    # Maximum number of levels in tree\n",
    "    max_depth = trial.suggest_int(name=\"max_depth\", low=10, high=100)\n",
    "\n",
    "    # Minimum number of samples required to split a node\n",
    "    min_samples_split = trial.suggest_int(name=\"min_samples_split\", low=2, high=32)\n",
    "\n",
    "    # Minimum number of samples required at each leaf node\n",
    "    min_samples_leaf = trial.suggest_int(name=\"min_samples_leaf\", low=1, high=32)\n",
    "    \n",
    "    model = ExtraTreesClassifier(n_estimators = n_estimators, criterion = 'log_loss', max_depth =  max_depth,\n",
    "                                    min_samples_split =  min_samples_split, min_samples_leaf =  min_samples_leaf,\n",
    "                                    max_features =  max_features, random_state =  1, n_jobs =  -1)\n",
    "    \n",
    "    score = cross_val_score(model, X_train, y_train, scoring = 'f1_macro', cv = skf, n_jobs = -1)\n",
    "    \n",
    "    return score.mean() \n",
    "\n",
    "optuna.logging.set_verbosity(optuna.logging.WARNING)\n",
    "\n",
    "sampler = TPESampler(seed=42)\n",
    "study = optuna.create_study(study_name=\"random_forest\", direction=\"maximize\", sampler=sampler)\n",
    "study.optimize(objective, n_trials=100, show_progress_bar=True)\n",
    "\n",
    "print(\"Number of finished trials: \", len(study.trials))\n",
    "print(\"Best trial:\")\n",
    "trial = study.best_trial\n",
    "print(\"  Value: \", trial.value)\n",
    "print(\"  Params: \")\n",
    "for key, value in trial.params.items():\n",
    "    print(f\"    {key}: {value}\")\n",
    "    \n",
    "optuna.visualization.plot_optimization_history(study)\n"
   ]
  },
  {
   "cell_type": "markdown",
   "metadata": {},
   "source": [
    "### Modelling Part 1"
   ]
  },
  {
   "cell_type": "markdown",
   "metadata": {},
   "source": [
    "### Modelling Part 2"
   ]
  },
  {
   "cell_type": "code",
   "execution_count": 58,
   "metadata": {},
   "outputs": [],
   "source": [
    "# md1 = ExtraTreesClassifier(n_estimators = 407, max_features = 10, max_depth = 62, min_samples_split = 2,   \n",
    "#                                              min_samples_leaf = 1, criterion = 'log_loss', random_state = 1)\n",
    "\n",
    "# md2 = HistGradientBoostingClassifier(max_iter = 755, learning_rate = 0.08069194222134556, l2_regularization = 0.004071819616198791,\n",
    "#                                                        max_depth = 38, max_leaf_nodes = 30, min_samples_leaf = 4, loss = 'log_loss', max_bins =  255, \n",
    "#                                                        early_stopping =  False, random_state =  1)\n",
    "\n",
    "# md3 = XGBClassifier(n_estimators = 241, learning_rate = 0.027071426847753828, max_depth = 23, subsample = 0.826267822451126,\n",
    "#                                        min_child_weight = 1, gamma = 0.07899077336556067, colsample_bytree = 0.7273085926052265,\n",
    "#                                        reg_alpha = 0.0011669044708923562, reg_lambda = 1.7546953633442173e-05, random_state =  1)"
   ]
  },
  {
   "cell_type": "markdown",
   "metadata": {},
   "source": [
    "### Model 1.1"
   ]
  },
  {
   "cell_type": "code",
   "execution_count": 59,
   "metadata": {},
   "outputs": [
    {
     "name": "stdout",
     "output_type": "stream",
     "text": [
      "F1:  1.0\n"
     ]
    }
   ],
   "source": [
    "# model = RandomForestClassifier(n_estimators = 551, max_features = 9, max_depth = 48, min_samples_split = 2,\n",
    "#                                                 min_samples_leaf = 1,random_state = 1, criterion = 'log_loss', n_jobs = -1)\n",
    "\n",
    "model = ExtraTreesClassifier(\n",
    "    n_estimators=642,\n",
    "    max_features=8,\n",
    "    max_depth=62,\n",
    "    min_samples_split=3,\n",
    "    min_samples_leaf=1,\n",
    "    criterion = 'log_loss',\n",
    "    random_state = 1, \n",
    "    n_jobs =  -1\n",
    ")\n",
    "\n",
    "# model = XGBClassifier(n_estimators = 241, learning_rate = 0.027071426847753828, max_depth = 23, subsample = 0.826267822451126,\n",
    "#                                        min_child_weight = 1, gamma = 0.07899077336556067, colsample_bytree = 0.7273085926052265,\n",
    "#                                        reg_alpha = 0.0011669044708923562, reg_lambda = 1.7546953633442173e-05, random_state =  1)\n",
    "\n",
    "# model = HistGradientBoostingClassifier(max_iter = 755, learning_rate = 0.08069194222134556, l2_regularization = 0.004071819616198791,\n",
    "#                                                        max_depth = 38, max_leaf_nodes = 30, min_samples_leaf = 4, loss = 'log_loss', max_bins =  255, \n",
    "#                                                        early_stopping =  False, random_state =  1)\n",
    "\n",
    "model.fit(X, y)\n",
    "y_pred = model.predict(X_test)\n",
    "print('F1: ', f1_score(y_test, y_pred, average='macro'))\n",
    "submission = model.predict(test)"
   ]
  },
  {
   "cell_type": "code",
   "execution_count": 60,
   "metadata": {},
   "outputs": [],
   "source": [
    "# model = ExtraTreesClassifier(\n",
    "#     n_estimators= 403,\n",
    "#     max_features= 8,\n",
    "#     max_depth= 71,\n",
    "#     min_samples_split= 2,\n",
    "#     min_samples_leaf= 1,\n",
    "#     criterion = 'log_loss',\n",
    "#     random_state = 42, \n",
    "#     n_jobs =  -1\n",
    "# )\n",
    "\n",
    "# model.fit(X_train, y_train)\n",
    "# y_pred = model.predict(X_test)\n",
    "# print('F1: ', f1_score(y_test, y_pred, average='macro'))\n",
    "# submission = model.predict(test)"
   ]
  },
  {
   "cell_type": "code",
   "execution_count": 61,
   "metadata": {},
   "outputs": [
    {
     "data": {
      "image/png": "[encoded data removed]",
      "text/plain": [
       "<Figure size 1000x600 with 2 Axes>"
      ]
     },
     "metadata": {},
     "output_type": "display_data"
    }
   ],
   "source": [
    "plt.figure(figsize=(10, 6))\n",
    "cm = confusion_matrix(y_test, y_pred)\n",
    "sns.heatmap(cm, annot=True, fmt='d', cmap='Blues')\n",
    "plt.xlabel('Predicted')\n",
    "plt.ylabel('Actual')\n",
    "plt.title('Confusion Matrix')\n",
    "plt.show()"
   ]
  },
  {
   "cell_type": "code",
   "execution_count": 62,
   "metadata": {},
   "outputs": [
    {
     "data": {
      "image/png": "[encoded data removed]",
      "text/plain": [
       "<Figure size 1200x800 with 1 Axes>"
      ]
     },
     "metadata": {},
     "output_type": "display_data"
    }
   ],
   "source": [
    "plt.figure(figsize=(12, 8))\n",
    "feat_importances = pd.Series(model.feature_importances_, index=X_train.columns)\n",
    "feat_importances.nlargest(15).plot(kind='barh')\n",
    "plt.title('Feature Importances')\n",
    "plt.xlabel('Relative Importance')\n",
    "plt.ylabel('Features')\n",
    "plt.show()"
   ]
  },
  {
   "cell_type": "code",
   "execution_count": 63,
   "metadata": {},
   "outputs": [],
   "source": [
    "submission_format['jumlah_promosi'] = pd.DataFrame(submission)\n",
    "submission_format.to_csv('submission_y.csv',index = False)"
   ]
  }
 ],
 "metadata": {
  "kernelspec": {
   "display_name": "Python 3",
   "language": "python",
   "name": "python3"
  },
  "language_info": {
   "codemirror_mode": {
    "name": "ipython",
    "version": 3
   },
   "file_extension": ".py",
   "mimetype": "text/x-python",
   "name": "python",
   "nbconvert_exporter": "python",
   "pygments_lexer": "ipython3",
   "version": "3.12.3"
  }
 },
 "nbformat": 4,
 "nbformat_minor": 2
}
